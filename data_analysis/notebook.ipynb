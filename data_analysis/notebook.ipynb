{
 "cells": [
  {
   "cell_type": "code",
   "execution_count": 1,
   "id": "21f3473d",
   "metadata": {},
   "outputs": [],
   "source": [
    "import requests\n",
    "import pandas as pd\n",
    "import io\n",
    "import urllib.parse\n",
    "\n",
    "import pandas as pd\n",
    "import numpy as np\n",
    "import networkx as nx\n",
    "import matplotlib.pyplot as plt\n",
    "import seaborn as sns\n",
    "from datetime import datetime, timedelta\n",
    "import plotly.express as px\n",
    "import plotly.graph_objects as go\n",
    "from plotly.subplots import make_subplots\n",
    "from collections import defaultdict\n",
    "import warnings\n",
    "warnings.filterwarnings('ignore')"
   ]
  },
  {
   "cell_type": "code",
   "execution_count": null,
   "id": "c4c1ab4f",
   "metadata": {},
   "outputs": [],
   "source": [
    "user = \"\"\n",
    "password = \"\""
   ]
  },
  {
   "cell_type": "code",
   "execution_count": 3,
   "id": "f03f89e0",
   "metadata": {},
   "outputs": [],
   "source": [
    "q = \"SELECT * FROM connections\"\n",
    "encoded_q = urllib.parse.quote(q)\n",
    "r = requests.get(\n",
    "    f\"http://matrix.sikp.xyz:9000/exp?query={encoded_q}&limit=1\",\n",
    "    auth=(user, password)\n",
    ")\n",
    "raw = r.text\n",
    "df = pd.read_csv(io.StringIO(raw), parse_dates=[\"timestamp\"])"
   ]
  },
  {
   "cell_type": "code",
   "execution_count": 4,
   "id": "3f73be52",
   "metadata": {},
   "outputs": [],
   "source": [
    "q = \"SELECT * FROM connections\"\n",
    "encoded_q = urllib.parse.quote(q)\n",
    "batch = 0\n",
    "all_data = []\n",
    "while True:\n",
    "    r = requests.get(\n",
    "    f\"http://matrix.sikp.xyz:9000/exp?query={encoded_q}&limit={batch},{batch+1000}\",\n",
    "    auth=(user, password)\n",
    "    )\n",
    "    raw = r.text\n",
    "    df = pd.read_csv(io.StringIO(raw), parse_dates=[\"timestamp\"])\n",
    "    batch += 1000\n",
    "    all_data.append(df)\n",
    "    if len(df) < 1000:\n",
    "        break\n",
    "\n",
    "df = pd.concat(all_data, ignore_index=True)\n"
   ]
  },
  {
   "cell_type": "code",
   "execution_count": 5,
   "id": "3087ce75",
   "metadata": {},
   "outputs": [
    {
     "data": {
      "text/html": [
       "<div>\n",
       "<style scoped>\n",
       "    .dataframe tbody tr th:only-of-type {\n",
       "        vertical-align: middle;\n",
       "    }\n",
       "\n",
       "    .dataframe tbody tr th {\n",
       "        vertical-align: top;\n",
       "    }\n",
       "\n",
       "    .dataframe thead th {\n",
       "        text-align: right;\n",
       "    }\n",
       "</style>\n",
       "<table border=\"1\" class=\"dataframe\">\n",
       "  <thead>\n",
       "    <tr style=\"text-align: right;\">\n",
       "      <th></th>\n",
       "      <th>receiver</th>\n",
       "      <th>transmitter</th>\n",
       "      <th>timestamp</th>\n",
       "    </tr>\n",
       "  </thead>\n",
       "  <tbody>\n",
       "    <tr>\n",
       "      <th>0</th>\n",
       "      <td>edb5c615-33c9-423d-8ef1-2b575dfaecac</td>\n",
       "      <td>340a33eb-ab2f-48c5-844d-a65570723a0d</td>\n",
       "      <td>2025-08-13 14:32:22.845391+00:00</td>\n",
       "    </tr>\n",
       "    <tr>\n",
       "      <th>1</th>\n",
       "      <td>31fa4077-11be-4e31-aaa3-b6a85a08f706</td>\n",
       "      <td>95d7b911-1c4e-4a71-b669-9cb838018663</td>\n",
       "      <td>2025-08-13 14:32:23.630786+00:00</td>\n",
       "    </tr>\n",
       "    <tr>\n",
       "      <th>2</th>\n",
       "      <td>548dcd41-c18b-4828-9dda-bac06dca6665</td>\n",
       "      <td>60300bef-0aa0-4abe-bdf0-11f348be9a07</td>\n",
       "      <td>2025-08-13 14:32:24.834205+00:00</td>\n",
       "    </tr>\n",
       "    <tr>\n",
       "      <th>3</th>\n",
       "      <td>548dcd41-c18b-4828-9dda-bac06dca6665</td>\n",
       "      <td>340a33eb-ab2f-48c5-844d-a65570723a0d</td>\n",
       "      <td>2025-08-13 14:32:24.883538+00:00</td>\n",
       "    </tr>\n",
       "    <tr>\n",
       "      <th>4</th>\n",
       "      <td>66fffc05-4e9b-4381-b8ab-8fc7a42b6704</td>\n",
       "      <td>6ab18db7-c83a-4755-ad1c-d670a72b0ea1</td>\n",
       "      <td>2025-08-13 14:32:25.641882+00:00</td>\n",
       "    </tr>\n",
       "    <tr>\n",
       "      <th>...</th>\n",
       "      <td>...</td>\n",
       "      <td>...</td>\n",
       "      <td>...</td>\n",
       "    </tr>\n",
       "    <tr>\n",
       "      <th>1783</th>\n",
       "      <td>5a5da229-4c7c-422a-b906-a1c3a9c17d6a</td>\n",
       "      <td>c2103420-7e4d-429a-8610-419ef7b6901d</td>\n",
       "      <td>2025-08-13 14:49:58.967558+00:00</td>\n",
       "    </tr>\n",
       "    <tr>\n",
       "      <th>1784</th>\n",
       "      <td>f9b9394b-7d21-45e3-bb70-e593660c456d</td>\n",
       "      <td>6563ccf9-b157-4eef-ad37-93eb72648a35</td>\n",
       "      <td>2025-08-13 14:49:59.402789+00:00</td>\n",
       "    </tr>\n",
       "    <tr>\n",
       "      <th>1785</th>\n",
       "      <td>f9b9394b-7d21-45e3-bb70-e593660c456d</td>\n",
       "      <td>023ce283-bd59-412d-b812-7c69da1fddac</td>\n",
       "      <td>2025-08-13 14:49:59.480628+00:00</td>\n",
       "    </tr>\n",
       "    <tr>\n",
       "      <th>1786</th>\n",
       "      <td>bd12441b-07a7-4da8-8118-7d8032c0bb9e</td>\n",
       "      <td>22c0f93f-4734-4974-b49c-28a5eff854ed</td>\n",
       "      <td>2025-08-13 14:49:59.691235+00:00</td>\n",
       "    </tr>\n",
       "    <tr>\n",
       "      <th>1787</th>\n",
       "      <td>f861c2eb-e9a6-4870-a63e-917370f0339a</td>\n",
       "      <td>22c0f93f-4734-4974-b49c-28a5eff854ed</td>\n",
       "      <td>2025-08-13 14:49:59.866168+00:00</td>\n",
       "    </tr>\n",
       "  </tbody>\n",
       "</table>\n",
       "<p>1788 rows × 3 columns</p>\n",
       "</div>"
      ],
      "text/plain": [
       "                                  receiver  \\\n",
       "0     edb5c615-33c9-423d-8ef1-2b575dfaecac   \n",
       "1     31fa4077-11be-4e31-aaa3-b6a85a08f706   \n",
       "2     548dcd41-c18b-4828-9dda-bac06dca6665   \n",
       "3     548dcd41-c18b-4828-9dda-bac06dca6665   \n",
       "4     66fffc05-4e9b-4381-b8ab-8fc7a42b6704   \n",
       "...                                    ...   \n",
       "1783  5a5da229-4c7c-422a-b906-a1c3a9c17d6a   \n",
       "1784  f9b9394b-7d21-45e3-bb70-e593660c456d   \n",
       "1785  f9b9394b-7d21-45e3-bb70-e593660c456d   \n",
       "1786  bd12441b-07a7-4da8-8118-7d8032c0bb9e   \n",
       "1787  f861c2eb-e9a6-4870-a63e-917370f0339a   \n",
       "\n",
       "                               transmitter                        timestamp  \n",
       "0     340a33eb-ab2f-48c5-844d-a65570723a0d 2025-08-13 14:32:22.845391+00:00  \n",
       "1     95d7b911-1c4e-4a71-b669-9cb838018663 2025-08-13 14:32:23.630786+00:00  \n",
       "2     60300bef-0aa0-4abe-bdf0-11f348be9a07 2025-08-13 14:32:24.834205+00:00  \n",
       "3     340a33eb-ab2f-48c5-844d-a65570723a0d 2025-08-13 14:32:24.883538+00:00  \n",
       "4     6ab18db7-c83a-4755-ad1c-d670a72b0ea1 2025-08-13 14:32:25.641882+00:00  \n",
       "...                                    ...                              ...  \n",
       "1783  c2103420-7e4d-429a-8610-419ef7b6901d 2025-08-13 14:49:58.967558+00:00  \n",
       "1784  6563ccf9-b157-4eef-ad37-93eb72648a35 2025-08-13 14:49:59.402789+00:00  \n",
       "1785  023ce283-bd59-412d-b812-7c69da1fddac 2025-08-13 14:49:59.480628+00:00  \n",
       "1786  22c0f93f-4734-4974-b49c-28a5eff854ed 2025-08-13 14:49:59.691235+00:00  \n",
       "1787  22c0f93f-4734-4974-b49c-28a5eff854ed 2025-08-13 14:49:59.866168+00:00  \n",
       "\n",
       "[1788 rows x 3 columns]"
      ]
     },
     "execution_count": 5,
     "metadata": {},
     "output_type": "execute_result"
    }
   ],
   "source": [
    "df"
   ]
  },
  {
   "cell_type": "code",
   "execution_count": 6,
   "id": "9032ee41",
   "metadata": {},
   "outputs": [],
   "source": [
    "class IoTInteractionAnalyzer:\n",
    "    def __init__(self, df):\n",
    "        self.df = df.copy()\n",
    "        self.df['timestamp'] = pd.to_datetime(self.df['timestamp'])\n",
    "        self.df = self.df.sort_values('timestamp').reset_index(drop=True)\n",
    "        \n",
    "        # Parametri configurabili\n",
    "        self.max_gap_seconds = 30  # Soglia per considerare interrotta un'interazione\n",
    "        self.min_interaction_duration = 5  # Durata minima per considerare valida un'interazione\n",
    "        \n",
    "    def preprocess_interactions(self):\n",
    "        \"\"\"\n",
    "        Calcola le durate delle interazioni e gestisce la bidirezionalità\n",
    "        \"\"\"\n",
    "        print(\"🔄 Preprocessing delle interazioni...\")\n",
    "        \n",
    "        # Crea coppie ordinate per evitare duplicati (A-B = B-A)\n",
    "        self.df['pair'] = self.df.apply(\n",
    "            lambda x: tuple(sorted([x['receiver'], x['transmitter']])), axis=1\n",
    "        )\n",
    "        \n",
    "        interactions = []\n",
    "        \n",
    "        for pair in self.df['pair'].unique():\n",
    "            pair_data = self.df[self.df['pair'] == pair].sort_values('timestamp')\n",
    "            \n",
    "            if len(pair_data) == 0:\n",
    "                continue\n",
    "                \n",
    "            current_interaction = {\n",
    "                'device_1': pair[0],\n",
    "                'device_2': pair[1],\n",
    "                'start_time': pair_data.iloc[0]['timestamp'],\n",
    "                'detections': [pair_data.iloc[0]['timestamp']]\n",
    "            }\n",
    "            \n",
    "            last_timestamp = pair_data.iloc[0]['timestamp']\n",
    "            \n",
    "            for i in range(1, len(pair_data)):\n",
    "                row = pair_data.iloc[i]\n",
    "                time_gap = (row['timestamp'] - last_timestamp).total_seconds()\n",
    "                \n",
    "                if time_gap <= self.max_gap_seconds:\n",
    "                    # Continua la stessa interazione\n",
    "                    current_interaction['detections'].append(row['timestamp'])\n",
    "                else:\n",
    "                    # Fine dell'interazione corrente\n",
    "                    if len(current_interaction['detections']) > 0:\n",
    "                        current_interaction['end_time'] = max(current_interaction['detections'])\n",
    "                        current_interaction['duration'] = (\n",
    "                            current_interaction['end_time'] - current_interaction['start_time']\n",
    "                        ).total_seconds()\n",
    "                        current_interaction['detection_count'] = len(current_interaction['detections'])\n",
    "                        \n",
    "                        if current_interaction['duration'] >= self.min_interaction_duration:\n",
    "                            interactions.append(current_interaction.copy())\n",
    "                    \n",
    "                    # Inizia nuova interazione\n",
    "                    current_interaction = {\n",
    "                        'device_1': pair[0],\n",
    "                        'device_2': pair[1],\n",
    "                        'start_time': row['timestamp'],\n",
    "                        'detections': [row['timestamp']]\n",
    "                    }\n",
    "                \n",
    "                last_timestamp = row['timestamp']\n",
    "            \n",
    "            # Non dimenticare l'ultima interazione\n",
    "            if len(current_interaction['detections']) > 0:\n",
    "                current_interaction['end_time'] = max(current_interaction['detections'])\n",
    "                current_interaction['duration'] = (\n",
    "                    current_interaction['end_time'] - current_interaction['start_time']\n",
    "                ).total_seconds()\n",
    "                current_interaction['detection_count'] = len(current_interaction['detections'])\n",
    "                \n",
    "                if current_interaction['duration'] >= self.min_interaction_duration:\n",
    "                    interactions.append(current_interaction)\n",
    "        \n",
    "        self.interactions_df = pd.DataFrame(interactions)\n",
    "        print(f\"✅ Trovate {len(self.interactions_df)} interazioni valide\")\n",
    "        return self.interactions_df\n",
    "    \n",
    "    def calculate_device_statistics(self):\n",
    "        \"\"\"\n",
    "        Calcola statistiche per ogni dispositivo (versione blindata e definitiva).\n",
    "        \"\"\"\n",
    "        print(\"📊 Calcolando statistiche per dispositivo...\")\n",
    "        \n",
    "        if not hasattr(self, 'interactions_df'):\n",
    "            print(\"⚠️ 'interactions_df' non trovato. Esegui prima preprocess_interactions().\")\n",
    "            self.device_stats_df = pd.DataFrame()\n",
    "            return self.device_stats_df\n",
    "\n",
    "        device_stats = {}\n",
    "        all_devices = set(self.df['receiver'].unique()) | set(self.df['transmitter'].unique())\n",
    "        \n",
    "        for device in all_devices:\n",
    "            device_interactions = self.interactions_df[\n",
    "                (self.interactions_df['device_1'] == device) | \n",
    "                (self.interactions_df['device_2'] == device)\n",
    "            ]\n",
    "            \n",
    "            detections_as_receiver = len(self.df[self.df['receiver'] == device])\n",
    "            detections_as_transmitter = len(self.df[self.df['transmitter'] == device])\n",
    "            \n",
    "            contacts = set()\n",
    "            for _, interaction in device_interactions.iterrows():\n",
    "                contacts.add(interaction['device_2'] if interaction['device_1'] == device else interaction['device_1'])\n",
    "            \n",
    "            device_activity = self.df[(self.df['receiver'] == device) | (self.df['transmitter'] == device)]\n",
    "            first_activity = device_activity['timestamp'].min() if not device_activity.empty else pd.NaT\n",
    "            last_activity = device_activity['timestamp'].max() if not device_activity.empty else pd.NaT\n",
    "            \n",
    "            device_stats[device] = {\n",
    "                'total_interactions': len(device_interactions),\n",
    "                'unique_contacts': len(contacts),\n",
    "                'total_interaction_time': device_interactions['duration'].sum(),\n",
    "                'avg_interaction_duration': device_interactions['duration'].mean(),\n",
    "                'detections_as_receiver': detections_as_receiver,\n",
    "                'detections_as_transmitter': detections_as_transmitter,\n",
    "                'total_detections': detections_as_receiver + detections_as_transmitter,\n",
    "                'first_activity': first_activity,\n",
    "                'last_activity': last_activity\n",
    "            }\n",
    "        \n",
    "        self.device_stats_df = pd.DataFrame(device_stats).T\n",
    "\n",
    "        # <<< CORREZIONE BLINDATA >>>\n",
    "        if not self.device_stats_df.empty:\n",
    "            # 1. Gestisci le colonne numeriche\n",
    "            numeric_cols = ['total_interactions', 'unique_contacts', 'total_interaction_time',\n",
    "                            'avg_interaction_duration', 'detections_as_receiver',\n",
    "                            'detections_as_transmitter', 'total_detections']\n",
    "            self.device_stats_df[numeric_cols] = self.device_stats_df[numeric_cols].apply(pd.to_numeric, errors='coerce').fillna(0)\n",
    "            \n",
    "            # Converti in interi le colonne che devono esserlo\n",
    "            int_cols = ['total_interactions', 'unique_contacts', 'detections_as_receiver', \n",
    "                        'detections_as_transmitter', 'total_detections']\n",
    "            self.device_stats_df[int_cols] = self.device_stats_df[int_cols].astype(int)\n",
    "\n",
    "            # 2. FORZA LA CONVERSIONE DELLE COLONNE DI DATE\n",
    "            # Questa è la parte cruciale che risolve l'errore.\n",
    "            datetime_cols = ['first_activity', 'last_activity']\n",
    "            for col in datetime_cols:\n",
    "                self.device_stats_df[col] = pd.to_datetime(self.device_stats_df[col], errors='coerce')\n",
    "\n",
    "        return self.device_stats_df\n",
    "    \n",
    "    def create_interaction_network(self):\n",
    "        \"\"\"\n",
    "        Crea il grafo pesato delle interazioni\n",
    "        \"\"\"\n",
    "        print(\"🕸️ Creando rete delle interazioni...\")\n",
    "        \n",
    "        if len(self.interactions_df) == 0:\n",
    "            print(\"⚠️ Nessuna interazione trovata, creando grafo vuoto\")\n",
    "            self.network = nx.Graph()\n",
    "            self.network_data = pd.DataFrame()\n",
    "            return self.network\n",
    "        \n",
    "        # Aggrega per coppia di dispositivi\n",
    "        network_data = self.interactions_df.groupby(['device_1', 'device_2']).agg({\n",
    "            'duration': 'sum',\n",
    "            'detection_count': 'sum',\n",
    "            'start_time': 'count'  # Numero di sessioni di interazione\n",
    "        }).rename(columns={'start_time': 'interaction_sessions'}).reset_index()\n",
    "        \n",
    "        # Crea grafo\n",
    "        G = nx.Graph()\n",
    "        \n",
    "        # Aggiungi tutti i dispositivi come nodi (anche quelli senza interazioni)\n",
    "        all_devices = set(self.df['receiver'].unique()) | set(self.df['transmitter'].unique())\n",
    "        G.add_nodes_from(all_devices)\n",
    "        \n",
    "        # Aggiungi edges per le interazioni\n",
    "        for _, row in network_data.iterrows():\n",
    "            G.add_edge(\n",
    "                row['device_1'], \n",
    "                row['device_2'],\n",
    "                weight=row['duration'],\n",
    "                detection_count=row['detection_count'],\n",
    "                interaction_sessions=row['interaction_sessions'],\n",
    "                avg_session_duration=row['duration'] / row['interaction_sessions']\n",
    "            )\n",
    "        \n",
    "        self.network = G\n",
    "        self.network_data = network_data\n",
    "        return G\n",
    "    \n",
    "    def analyze_network_metrics(self):\n",
    "        \"\"\"\n",
    "        Calcola metriche di network analysis con gestione di grafi disconnessi\n",
    "        \"\"\"\n",
    "        print(\"📈 Calcolando metriche di rete...\")\n",
    "        \n",
    "        if not hasattr(self, 'network'):\n",
    "            self.create_interaction_network()\n",
    "        \n",
    "        metrics = {}\n",
    "        \n",
    "        # Metriche globali\n",
    "        num_nodes = self.network.number_of_nodes()\n",
    "        num_edges = self.network.number_of_edges()\n",
    "        is_connected = nx.is_connected(self.network)\n",
    "        \n",
    "        metrics['global'] = {\n",
    "            'num_nodes': num_nodes,\n",
    "            'num_edges': num_edges,\n",
    "            'density': nx.density(self.network) if num_nodes > 1 else 0,\n",
    "            'avg_clustering': nx.average_clustering(self.network) if num_nodes > 0 else 0,\n",
    "            'is_connected': is_connected,\n",
    "            'num_connected_components': nx.number_connected_components(self.network)\n",
    "        }\n",
    "        \n",
    "        # Analisi delle componenti connesse\n",
    "        connected_components = list(nx.connected_components(self.network))\n",
    "        if connected_components:\n",
    "            largest_cc = max(connected_components, key=len)\n",
    "            metrics['global']['largest_component_size'] = len(largest_cc)\n",
    "            metrics['global']['largest_component_percentage'] = len(largest_cc) / num_nodes * 100 if num_nodes > 0 else 0\n",
    "            \n",
    "            # Metriche per la componente più grande\n",
    "            if len(largest_cc) > 1:\n",
    "                largest_subgraph = self.network.subgraph(largest_cc)\n",
    "                if nx.is_connected(largest_subgraph):\n",
    "                    metrics['global']['diameter_largest_component'] = nx.diameter(largest_subgraph)\n",
    "                    metrics['global']['avg_path_length_largest_component'] = nx.average_shortest_path_length(largest_subgraph)\n",
    "        \n",
    "        # Se il grafo è completamente connesso\n",
    "        if is_connected and num_nodes > 1:\n",
    "            metrics['global']['diameter'] = nx.diameter(self.network)\n",
    "            metrics['global']['avg_path_length'] = nx.average_shortest_path_length(self.network)\n",
    "        \n",
    "        # Metriche per nodo (gestiscono automaticamente grafi disconnessi)\n",
    "        if num_nodes > 0:\n",
    "            degree_centrality = nx.degree_centrality(self.network)\n",
    "            betweenness_centrality = nx.betweenness_centrality(self.network)\n",
    "            closeness_centrality = nx.closeness_centrality(self.network)\n",
    "            \n",
    "            # Eigenvector centrality - con gestione errori per grafi disconnessi\n",
    "            try:\n",
    "                eigenvector_centrality = nx.eigenvector_centrality(self.network, max_iter=1000, tol=1e-06)\n",
    "            except (nx.PowerIterationFailedConvergence, nx.NetworkXError):\n",
    "                print(\"⚠️ Eigenvector centrality non convergente (normale per grafi disconnessi)\")\n",
    "                try:\n",
    "                    # Prova con parametri più rilassati\n",
    "                    eigenvector_centrality = nx.eigenvector_centrality(self.network, max_iter=500, tol=1e-04)\n",
    "                except:\n",
    "                    # Se ancora non converge, usa valori basati su degree centrality\n",
    "                    print(\"   → Uso approssimazione basata su degree centrality\")\n",
    "                    max_degree = max(degree_centrality.values()) if degree_centrality else 1\n",
    "                    eigenvector_centrality = {node: deg/max_degree for node, deg in degree_centrality.items()}\n",
    "            \n",
    "            # PageRank come alternativa robusta (funziona sempre)\n",
    "            try:\n",
    "                pagerank_centrality = nx.pagerank(self.network, weight='weight', alpha=0.85, max_iter=1000)\n",
    "            except:\n",
    "                pagerank_centrality = {node: 1.0/num_nodes for node in self.network.nodes()}\n",
    "            \n",
    "            node_metrics = pd.DataFrame({\n",
    "                'device': list(degree_centrality.keys()),\n",
    "                'degree_centrality': list(degree_centrality.values()),\n",
    "                'betweenness_centrality': list(betweenness_centrality.values()),\n",
    "                'closeness_centrality': list(closeness_centrality.values()),\n",
    "                'eigenvector_centrality': list(eigenvector_centrality.values()),\n",
    "                'pagerank_centrality': list(pagerank_centrality.values())\n",
    "            })\n",
    "        else:\n",
    "            node_metrics = pd.DataFrame()\n",
    "        \n",
    "        metrics['nodes'] = node_metrics\n",
    "        self.network_metrics = metrics\n",
    "        return metrics\n",
    "    \n",
    "    def detect_communities(self):\n",
    "        \"\"\"\n",
    "        Rileva comunità nella rete (gestisce grafi disconnessi)\n",
    "        \"\"\"\n",
    "        print(\"👥 Rilevando comunità...\")\n",
    "        \n",
    "        if not hasattr(self, 'network'):\n",
    "            self.create_interaction_network()\n",
    "        \n",
    "        if self.network.number_of_edges() == 0:\n",
    "            print(\"   ⚠️ Nessun edge nel grafo, ogni nodo è una comunità isolata\")\n",
    "            communities = [frozenset([node]) for node in self.network.nodes()]\n",
    "        else:\n",
    "            # Algoritmo di Louvain per community detection (gestisce grafi disconnessi)\n",
    "            try:\n",
    "                communities = nx.community.louvain_communities(self.network, weight='weight', seed=42)\n",
    "            except:\n",
    "                # Fallback: usa le componenti connesse come comunità\n",
    "                print(\"   → Uso componenti connesse come comunità\")\n",
    "                communities = [frozenset(component) for component in nx.connected_components(self.network)]\n",
    "        \n",
    "        community_dict = {}\n",
    "        for i, community in enumerate(communities):\n",
    "            for node in community:\n",
    "                community_dict[node] = i\n",
    "        \n",
    "        self.communities = communities\n",
    "        self.community_dict = community_dict\n",
    "        return communities\n",
    "    \n",
    "    def plot_interaction_timeline(self):\n",
    "        \"\"\"\n",
    "        Crea timeline delle interazioni\n",
    "        \"\"\"\n",
    "        print(\"⏱️ Creando timeline delle interazioni...\")\n",
    "        \n",
    "        fig = make_subplots(\n",
    "            rows=2, cols=1,\n",
    "            subplot_titles=['Numero di Rilevazioni per Ora', 'Durata Interazioni nel Tempo'],\n",
    "            vertical_spacing=0.1\n",
    "        )\n",
    "        \n",
    "        # Rilevazioni per ora\n",
    "        hourly_data = self.df.copy()\n",
    "        hourly_data['hour'] = hourly_data['timestamp'].dt.floor('H')\n",
    "        hourly_counts = hourly_data.groupby('hour').size().reset_index(name='detections')\n",
    "        \n",
    "        fig.add_trace(\n",
    "            go.Scatter(\n",
    "                x=hourly_counts['hour'],\n",
    "                y=hourly_counts['detections'],\n",
    "                mode='lines+markers',\n",
    "                name='Rilevazioni/Ora'\n",
    "            ),\n",
    "            row=1, col=1\n",
    "        )\n",
    "        \n",
    "        # Durata interazioni nel tempo\n",
    "        if hasattr(self, 'interactions_df') and len(self.interactions_df) > 0:\n",
    "            fig.add_trace(\n",
    "                go.Scatter(\n",
    "                    x=self.interactions_df['start_time'],\n",
    "                    y=self.interactions_df['duration'],\n",
    "                    mode='markers',\n",
    "                    name='Durata Interazioni',\n",
    "                    marker=dict(\n",
    "                        size=self.interactions_df['detection_count'],\n",
    "                        sizemode='diameter',\n",
    "                        sizeref=2.*max(self.interactions_df['detection_count'])/(20.**2) if len(self.interactions_df) > 0 else 1,\n",
    "                        sizemin=4\n",
    "                    )\n",
    "                ),\n",
    "                row=2, col=1\n",
    "            )\n",
    "        \n",
    "        fig.update_layout(height=800, title_text=\"Timeline delle Interazioni IoT\")\n",
    "        fig.show()\n",
    "    \n",
    "    def plot_network_graph(self):\n",
    "        \"\"\"\n",
    "        Visualizza il grafo delle interazioni (gestisce grafi disconnessi)\n",
    "        \"\"\"\n",
    "        print(\"🎨 Creando visualizzazione della rete...\")\n",
    "        \n",
    "        if not hasattr(self, 'network'):\n",
    "            self.create_interaction_network()\n",
    "        \n",
    "        if self.network.number_of_nodes() == 0:\n",
    "            print(\"   ⚠️ Nessun nodo nel grafo\")\n",
    "            return\n",
    "        \n",
    "        # Layout del grafo\n",
    "        try:\n",
    "            if nx.is_connected(self.network):\n",
    "                pos = nx.spring_layout(self.network, k=1, iterations=50, seed=42)\n",
    "            else:\n",
    "                pos = nx.spring_layout(self.network, k=3, iterations=50, seed=42)\n",
    "        except:\n",
    "            pos = {node: (np.random.random(), np.random.random()) for node in self.network.nodes()}\n",
    "        \n",
    "        # Preparazione dati per Plotly\n",
    "        edge_x, edge_y, edge_weights = [], [], []\n",
    "        for edge in self.network.edges():\n",
    "            x0, y0 = pos[edge[0]]\n",
    "            x1, y1 = pos[edge[1]]\n",
    "            edge_x.extend([x0, x1, None])\n",
    "            edge_y.extend([y0, y1, None])\n",
    "            edge_weights.append(self.network[edge[0]][edge[1]].get('weight', 1))\n",
    "        \n",
    "        edge_trace = go.Scatter(\n",
    "            x=edge_x, y=edge_y,\n",
    "            line=dict(width=0.8, color='#888'),\n",
    "            hoverinfo='none',\n",
    "            mode='lines'\n",
    "        )\n",
    "        \n",
    "        # Nodes\n",
    "        node_x, node_y, node_text, node_size, node_colors = [], [], [], [], []\n",
    "        for node in self.network.nodes():\n",
    "            x, y = pos[node]\n",
    "            node_x.append(x)\n",
    "            node_y.append(y)\n",
    "            \n",
    "            degree = self.network.degree(node)\n",
    "            total_weight = sum(self.network[node][neighbor].get('weight', 0) for neighbor in self.network.neighbors(node))\n",
    "            community_id = self.community_dict.get(node, 0) if hasattr(self, 'community_dict') else 0\n",
    "            \n",
    "            node_text.append(f\"Device: {node}<br>Connessioni: {degree}<br>Tempo totale: {total_weight:.1f}s<br>Comunità: {community_id}\")\n",
    "            node_size.append(max(10, 10 + degree * 3))\n",
    "            node_colors.append(community_id)\n",
    "        \n",
    "        node_trace = go.Scatter(\n",
    "            x=node_x, y=node_y,\n",
    "            mode='markers+text',\n",
    "            hoverinfo='text',\n",
    "            text=[node[:8] + '...' if len(node) > 8 else node for node in self.network.nodes()],\n",
    "            textposition=\"middle center\",\n",
    "            hovertext=node_text,\n",
    "            marker=dict(\n",
    "                showscale=True,\n",
    "                colorscale='viridis',  # Correzione 1\n",
    "                color=node_colors,\n",
    "                size=node_size,\n",
    "                colorbar=dict(thickness=15, len=0.5, x=1.02, title=\"Comunità\"),\n",
    "                line=dict(width=2, color='black')\n",
    "            )\n",
    "        )\n",
    "        \n",
    "        # Informazioni sulla connettività\n",
    "        connectivity_info = f\"Componenti connesse: {nx.number_connected_components(self.network)}\"\n",
    "        if hasattr(self, 'network_metrics'):\n",
    "            largest_comp_size = self.network_metrics['global'].get('largest_component_size', 0)\n",
    "            connectivity_info += f\"<br>Componente più grande: {largest_comp_size} nodi\"\n",
    "        \n",
    "        # Layout del plot\n",
    "        fig = go.Figure(data=[edge_trace, node_trace],\n",
    "                    layout=go.Layout(\n",
    "                        # Correzione 2: 'title' è ora un dizionario\n",
    "                        title=dict(\n",
    "                            text=f'Rete delle Interazioni IoT<br><sub>{connectivity_info}</sub>',\n",
    "                            font=dict(size=16)\n",
    "                        ),\n",
    "                        showlegend=False,\n",
    "                        hovermode='closest',\n",
    "                        margin=dict(b=20, l=5, r=5, t=60),\n",
    "                        annotations=[dict(\n",
    "                            text=\"Colore = comunità, dimensione = numero connessioni\",\n",
    "                            showarrow=False,\n",
    "                            xref=\"paper\", yref=\"paper\",\n",
    "                            x=0.005, y=-0.002,\n",
    "                            xanchor='left', yanchor='bottom',\n",
    "                            font=dict(color='gray', size=12)\n",
    "                        )],\n",
    "                        xaxis=dict(showgrid=False, zeroline=False, showticklabels=False),\n",
    "                        yaxis=dict(showgrid=False, zeroline=False, showticklabels=False))\n",
    "                    )\n",
    "        fig.show()\n",
    "    \n",
    "    def analyze_connectivity(self):\n",
    "        \"\"\"\n",
    "        Analizza la connettività del grafo in dettaglio\n",
    "        \"\"\"\n",
    "        print(\"🔗 Analisi dettagliata della connettività...\")\n",
    "        \n",
    "        if not hasattr(self, 'network'):\n",
    "            self.create_interaction_network()\n",
    "        \n",
    "        components = list(nx.connected_components(self.network))\n",
    "        \n",
    "        print(f\"   📊 Componenti connesse: {len(components)}\")\n",
    "        \n",
    "        if len(components) > 1:\n",
    "            # Analizza le componenti\n",
    "            component_sizes = [len(comp) for comp in components]\n",
    "            component_sizes.sort(reverse=True)\n",
    "            \n",
    "            print(f\"   🏆 Componente più grande: {component_sizes[0]} nodi ({component_sizes[0]/self.network.number_of_nodes()*100:.1f}%)\")\n",
    "            print(f\"   📈 Distribuzione dimensioni componenti: {component_sizes[:5]}...\")\n",
    "            \n",
    "            # Nodi isolati\n",
    "            isolated_nodes = [comp for comp in components if len(comp) == 1]\n",
    "            if isolated_nodes:\n",
    "                print(f\"   🏝️ Nodi isolati: {len(isolated_nodes)} ({len(isolated_nodes)/self.network.number_of_nodes()*100:.1f}%)\")\n",
    "        \n",
    "        # Densità locale per componente\n",
    "        for i, component in enumerate(components[:3]):  # Solo prime 3 componenti\n",
    "            if len(component) > 1:\n",
    "                subgraph = self.network.subgraph(component)\n",
    "                local_density = nx.density(subgraph)\n",
    "                print(f\"   🕸️ Densità componente {i+1}: {local_density:.3f}\")\n",
    "    \n",
    "    def generate_summary_report(self):\n",
    "        \"\"\"\n",
    "        Genera report riassuntivo\n",
    "        \"\"\"\n",
    "        print(\"\\n\" + \"=\"*70)\n",
    "        print(\"📋 REPORT RIASSUNTIVO ANALISI INTERAZIONI IoT\")\n",
    "        print(\"=\"*70)\n",
    "        \n",
    "        # Statistiche globali\n",
    "        total_detections = len(self.df)\n",
    "        unique_devices = len(set(self.df['receiver'].unique()) | set(self.df['transmitter'].unique()))\n",
    "        event_duration = (self.df['timestamp'].max() - self.df['timestamp'].min()).total_seconds() / 3600\n",
    "        \n",
    "        print(f\"\\n🔍 STATISTICHE GENERALI:\")\n",
    "        print(f\"   • Rilevazioni totali: {total_detections:,}\")\n",
    "        print(f\"   • Dispositivi unici: {unique_devices}\")\n",
    "        print(f\"   • Durata evento: {event_duration:.1f} ore\")\n",
    "        print(f\"   • Media rilevazioni/ora: {total_detections/event_duration:.1f}\")\n",
    "        \n",
    "        if hasattr(self, 'interactions_df') and len(self.interactions_df) > 0:\n",
    "            print(f\"\\n🤝 INTERAZIONI:\")\n",
    "            print(f\"   • Interazioni totali: {len(self.interactions_df)}\")\n",
    "            print(f\"   • Durata media: {self.interactions_df['duration'].mean():.1f} secondi\")\n",
    "            print(f\"   • Interazione più lunga: {self.interactions_df['duration'].max():.1f} secondi\")\n",
    "            print(f\"   • Tempo totale di interazione: {self.interactions_df['duration'].sum()/60:.1f} minuti\")\n",
    "        \n",
    "        if hasattr(self, 'network_metrics'):\n",
    "            print(f\"\\n🕸️ RETE SOCIALE:\")\n",
    "            metrics = self.network_metrics['global']\n",
    "            print(f\"   • Nodi: {metrics['num_nodes']}, Archi: {metrics['num_edges']}\")\n",
    "            print(f\"   • Densità rete: {metrics['density']:.3f}\")\n",
    "            print(f\"   • Clustering medio: {metrics['avg_clustering']:.3f}\")\n",
    "            print(f\"   • Componenti connesse: {metrics['num_connected_components']}\")\n",
    "            \n",
    "            if metrics['num_connected_components'] > 1:\n",
    "                print(f\"   • Componente più grande: {metrics.get('largest_component_size', 0)} nodi \"\n",
    "                      f\"({metrics.get('largest_component_percentage', 0):.1f}%)\")\n",
    "            \n",
    "            if metrics['is_connected']:\n",
    "                print(f\"   • Diametro: {metrics['diameter']}\")\n",
    "                print(f\"   • Lunghezza media percorso: {metrics['avg_path_length']:.2f}\")\n",
    "            \n",
    "            if hasattr(self, 'communities'):\n",
    "                print(f\"   • Comunità rilevate: {len(self.communities)}\")\n",
    "        \n",
    "        # Top dispositivi\n",
    "        if hasattr(self, 'device_stats_df') and len(self.device_stats_df) > 0:\n",
    "            print(f\"\\n🏆 TOP DISPOSITIVI:\")\n",
    "            top_social = self.device_stats_df.nlargest(min(3, len(self.device_stats_df)), 'unique_contacts')\n",
    "            for i, (device, stats) in enumerate(top_social.iterrows()):\n",
    "                print(f\"   {i+1}. {device[:12]}... - {int(stats['unique_contacts'])} contatti, \"\n",
    "                      f\"{stats['total_interaction_time']:.0f}s di interazione\")\n",
    "        \n",
    "        # Analisi connettività\n",
    "        if hasattr(self, 'network'):\n",
    "            self.analyze_connectivity()\n",
    "        \n",
    "        print(\"\\n\" + \"=\"*70)"
   ]
  },
  {
   "cell_type": "code",
   "execution_count": 7,
   "id": "c5bc222e",
   "metadata": {},
   "outputs": [],
   "source": [
    "def analyze_iot_data(df):\n",
    "    \"\"\"\n",
    "    Funzione principale per analizzare i dati IoT\n",
    "    \"\"\"\n",
    "    analyzer = IoTInteractionAnalyzer(df)\n",
    "    \n",
    "    # Pipeline di analisi\n",
    "    analyzer.preprocess_interactions()\n",
    "    analyzer.calculate_device_statistics()\n",
    "    analyzer.create_interaction_network()\n",
    "    analyzer.analyze_network_metrics()\n",
    "    analyzer.detect_communities()\n",
    "    \n",
    "    # Visualizzazioni\n",
    "    analyzer.plot_interaction_timeline()\n",
    "    analyzer.plot_network_graph()\n",
    "    \n",
    "    # Report finale\n",
    "    analyzer.generate_summary_report()\n",
    "    \n",
    "    return analyzer"
   ]
  },
  {
   "cell_type": "code",
   "execution_count": 8,
   "id": "ce361e9c",
   "metadata": {},
   "outputs": [
    {
     "name": "stdout",
     "output_type": "stream",
     "text": [
      "🔄 Preprocessing delle interazioni...\n",
      "✅ Trovate 186 interazioni valide\n",
      "📊 Calcolando statistiche per dispositivo...\n",
      "🕸️ Creando rete delle interazioni...\n",
      "📈 Calcolando metriche di rete...\n",
      "👥 Rilevando comunità...\n",
      "⏱️ Creando timeline delle interazioni...\n"
     ]
    },
    {
     "data": {
      "application/vnd.plotly.v1+json": {
       "config": {
        "plotlyServerURL": "https://plot.ly"
       },
       "data": [
        {
         "mode": "lines+markers",
         "name": "Rilevazioni/Ora",
         "type": "scatter",
         "x": [
          "2025-08-13T14:00:00.000000000"
         ],
         "xaxis": "x",
         "y": {
          "bdata": "/AY=",
          "dtype": "i2"
         },
         "yaxis": "y"
        },
        {
         "marker": {
          "size": {
           "bdata": "AgICAgMDAwICAgICAgICAgICAgMCBQICAgIDAgICAgICAgMCAwICAgICAgICAwICAgICAgICAgICAwICAgICAgIDAgICAgIDAgIDAgMCAgICAgICAgICAgICAgIEBQIDAgICAgICAgIDAgICAwICAgIDAgIDAgICAgICAgICAgMCAgICAgMCAgICAgICBAICAgICAgICAgICAgMCAgICAgICAgICAgMCAgIEAgICAgICAwIDAgICAgIC",
           "dtype": "i1"
          },
          "sizemin": 4,
          "sizemode": "diameter",
          "sizeref": 0.025
         },
         "mode": "markers",
         "name": "Durata Interazioni",
         "type": "scatter",
         "x": [
          "2025-08-13T14:32:22.845391000",
          "2025-08-13T14:32:25.641882000",
          "2025-08-13T14:32:25.836405000",
          "2025-08-13T14:40:23.111005000",
          "2025-08-13T14:32:32.871633000",
          "2025-08-13T14:36:57.548956000",
          "2025-08-13T14:43:43.571881000",
          "2025-08-13T14:36:15.170308000",
          "2025-08-13T14:32:36.709423000",
          "2025-08-13T14:32:36.850026000",
          "2025-08-13T14:34:36.136834000",
          "2025-08-13T14:47:38.712667000",
          "2025-08-13T14:34:07.331750000",
          "2025-08-13T14:41:29.938656000",
          "2025-08-13T14:32:43.711707000",
          "2025-08-13T14:32:43.801854000",
          "2025-08-13T14:34:56.932378000",
          "2025-08-13T14:44:59.741964000",
          "2025-08-13T14:45:48.208668000",
          "2025-08-13T14:38:40.902240000",
          "2025-08-13T14:37:03.746782000",
          "2025-08-13T14:39:13.662438000",
          "2025-08-13T14:44:14.406476000",
          "2025-08-13T14:49:12.980442000",
          "2025-08-13T14:45:31.567548000",
          "2025-08-13T14:39:13.707555000",
          "2025-08-13T14:46:03.688159000",
          "2025-08-13T14:40:23.154623000",
          "2025-08-13T14:41:52.698194000",
          "2025-08-13T14:44:32.991185000",
          "2025-08-13T14:41:52.789580000",
          "2025-08-13T14:32:47.037234000",
          "2025-08-13T14:36:14.336661000",
          "2025-08-13T14:45:40.476816000",
          "2025-08-13T14:32:49.761923000",
          "2025-08-13T14:48:15.660894000",
          "2025-08-13T14:41:20.150225000",
          "2025-08-13T14:39:37.969220000",
          "2025-08-13T14:44:04.752588000",
          "2025-08-13T14:33:06.769181000",
          "2025-08-13T14:33:06.814268000",
          "2025-08-13T14:35:59.374640000",
          "2025-08-13T14:42:51.335600000",
          "2025-08-13T14:44:43.189774000",
          "2025-08-13T14:48:45.544979000",
          "2025-08-13T14:43:14.144551000",
          "2025-08-13T14:39:00.799374000",
          "2025-08-13T14:33:12.836860000",
          "2025-08-13T14:43:08.581372000",
          "2025-08-13T14:42:17.040293000",
          "2025-08-13T14:43:43.434879000",
          "2025-08-13T14:39:50.637284000",
          "2025-08-13T14:39:37.676093000",
          "2025-08-13T14:33:17.969887000",
          "2025-08-13T14:36:15.269029000",
          "2025-08-13T14:42:34.922652000",
          "2025-08-13T14:35:54.854708000",
          "2025-08-13T14:44:07.806350000",
          "2025-08-13T14:34:56.835155000",
          "2025-08-13T14:36:09.479957000",
          "2025-08-13T14:42:01.720743000",
          "2025-08-13T14:37:04.571650000",
          "2025-08-13T14:37:30.777473000",
          "2025-08-13T14:45:06.570580000",
          "2025-08-13T14:38:31.010789000",
          "2025-08-13T14:35:09.832434000",
          "2025-08-13T14:43:58.459797000",
          "2025-08-13T14:36:33.444861000",
          "2025-08-13T14:45:52.575813000",
          "2025-08-13T14:35:44.275478000",
          "2025-08-13T14:39:37.726787000",
          "2025-08-13T14:33:38.704263000",
          "2025-08-13T14:35:14.299686000",
          "2025-08-13T14:42:19.357298000",
          "2025-08-13T14:34:58.127663000",
          "2025-08-13T14:38:45.310565000",
          "2025-08-13T14:33:43.003883000",
          "2025-08-13T14:39:37.773077000",
          "2025-08-13T14:48:14.330893000",
          "2025-08-13T14:33:47.168492000",
          "2025-08-13T14:35:57.024675000",
          "2025-08-13T14:36:59.093255000",
          "2025-08-13T14:33:47.211537000",
          "2025-08-13T14:33:47.952452000",
          "2025-08-13T14:44:51.268667000",
          "2025-08-13T14:33:48.179449000",
          "2025-08-13T14:33:49.729383000",
          "2025-08-13T14:38:35.508719000",
          "2025-08-13T14:44:34.385227000",
          "2025-08-13T14:48:38.689264000",
          "2025-08-13T14:33:52.124209000",
          "2025-08-13T14:41:25.571640000",
          "2025-08-13T14:41:55.459445000",
          "2025-08-13T14:34:03.890809000",
          "2025-08-13T14:49:48.934713000",
          "2025-08-13T14:34:03.936570000",
          "2025-08-13T14:43:07.922277000",
          "2025-08-13T14:44:25.280479000",
          "2025-08-13T14:34:07.285263000",
          "2025-08-13T14:36:40.421597000",
          "2025-08-13T14:40:17.903202000",
          "2025-08-13T14:34:11.844300000",
          "2025-08-13T14:37:38.149378000",
          "2025-08-13T14:34:11.935160000",
          "2025-08-13T14:47:32.000564000",
          "2025-08-13T14:34:22.116152000",
          "2025-08-13T14:47:43.342390000",
          "2025-08-13T14:45:52.132923000",
          "2025-08-13T14:41:37.619755000",
          "2025-08-13T14:41:35.595778000",
          "2025-08-13T14:38:35.421656000",
          "2025-08-13T14:34:55.201785000",
          "2025-08-13T14:38:35.464616000",
          "2025-08-13T14:35:08.526343000",
          "2025-08-13T14:34:27.911172000",
          "2025-08-13T14:41:02.688006000",
          "2025-08-13T14:34:31.856065000",
          "2025-08-13T14:40:33.760851000",
          "2025-08-13T14:34:40.229331000",
          "2025-08-13T14:43:59.285039000",
          "2025-08-13T14:40:14.580349000",
          "2025-08-13T14:43:16.368348000",
          "2025-08-13T14:48:13.799508000",
          "2025-08-13T14:36:30.972736000",
          "2025-08-13T14:41:32.386420000",
          "2025-08-13T14:43:04.242112000",
          "2025-08-13T14:43:43.480699000",
          "2025-08-13T14:40:52.254232000",
          "2025-08-13T14:35:16.043519000",
          "2025-08-13T14:42:27.646038000",
          "2025-08-13T14:47:53.080124000",
          "2025-08-13T14:38:14.536768000",
          "2025-08-13T14:44:45.200237000",
          "2025-08-13T14:47:43.471954000",
          "2025-08-13T14:49:49.806767000",
          "2025-08-13T14:35:28.336990000",
          "2025-08-13T14:35:30.412511000",
          "2025-08-13T14:41:30.125954000",
          "2025-08-13T14:49:10.384055000",
          "2025-08-13T14:37:00.558706000",
          "2025-08-13T14:43:28.329563000",
          "2025-08-13T14:35:40.320886000",
          "2025-08-13T14:40:06.840885000",
          "2025-08-13T14:41:49.383449000",
          "2025-08-13T14:44:55.966822000",
          "2025-08-13T14:42:41.189796000",
          "2025-08-13T14:35:55.173560000",
          "2025-08-13T14:36:09.435637000",
          "2025-08-13T14:43:36.224967000",
          "2025-08-13T14:36:30.927465000",
          "2025-08-13T14:36:32.513030000",
          "2025-08-13T14:43:29.010310000",
          "2025-08-13T14:36:39.456033000",
          "2025-08-13T14:36:46.078720000",
          "2025-08-13T14:44:33.081878000",
          "2025-08-13T14:38:45.262690000",
          "2025-08-13T14:44:59.695567000",
          "2025-08-13T14:37:00.605623000",
          "2025-08-13T14:45:06.614693000",
          "2025-08-13T14:37:04.617971000",
          "2025-08-13T14:37:30.821317000",
          "2025-08-13T14:37:38.102049000",
          "2025-08-13T14:49:49.759513000",
          "2025-08-13T14:43:53.532083000",
          "2025-08-13T14:38:09.389918000",
          "2025-08-13T14:41:18.066889000",
          "2025-08-13T14:46:04.920909000",
          "2025-08-13T14:38:27.447816000",
          "2025-08-13T14:48:11.833371000",
          "2025-08-13T14:38:30.966816000",
          "2025-08-13T14:41:20.107283000",
          "2025-08-13T14:38:31.528815000",
          "2025-08-13T14:39:50.774105000",
          "2025-08-13T14:40:32.882142000",
          "2025-08-13T14:42:22.947709000",
          "2025-08-13T14:41:06.097164000",
          "2025-08-13T14:41:29.984969000",
          "2025-08-13T14:41:30.030004000",
          "2025-08-13T14:42:17.084674000",
          "2025-08-13T14:44:39.974179000",
          "2025-08-13T14:48:00.506862000",
          "2025-08-13T14:44:10.957153000",
          "2025-08-13T14:44:11.046470000",
          "2025-08-13T14:45:32.432414000",
          "2025-08-13T14:48:14.234476000",
          "2025-08-13T14:48:23.993000000"
         ],
         "xaxis": "x2",
         "y": {
          "bdata": "X10VqMWEOUCiCRSxiEE4QKGi6lc61yVAZYo5CDpyI0A/rDdqhT08QHY1ecpqJkRAUDblCu8GP0DIsfUM4TA4QFvQe2MIwCBACi/BqQ8AMEBVo1cDlAY1QJMa2gBsyD1AS1ewjXjmOkCFsvD1tb45QHxHjQkxpxRAv9Nkxtv+M0Agf2lRn5QqQCVcyCO4ySZAdsO2RZmdNkDEXb2KjC5EQDKuuDgqtxZABfpEniTRVUA17PfEOkU5QBFXzt4ZETlAEsE4uHSkNkC7RsuBHpoeQLznwHKEokZATtaoh2ikI0BzLO+qB6wdQPC+KhcqYzVAryKjA5JAG0Agm+RH/HofQMEb0qjAETlA7blMTYLDPECrksg+yDYyQIDSUKOQGDpAS1mGONbdSEAdBB2tavkkQFqCjIAK3zhAAAAAAABQJkAZcQFolAo0QFdbsb/syjhAiSgmb4DhO0CKj0/IzgcyQNcxrrg4CjpAYM0BgjmERkAn3ZbIBT8xQMx+3enO+zNAW8064/vqKEAuymyQSQY8QH5VLlT+rSdAdm9FYoL+OkC1bRgFwQcyQOjewyXH3RtAj1GeeTnsOkDmWrQAbUsYQBYTm49rNztAVkW4yahaRUCV10roLrk9QCOD3EWYUhpAO/vKg/Q8IEArNBDLZm4cQKp8z0iEAjVAzt+EQgRcGEAoY3yYvewbQGSuDKoN/jFAgzKNJhfbKUDcniCx3Vk8QPfkYaHW3DtAR+f8FMcZJkDVBFH3AXAiQGgibHh6j0ZARaFl3T8mK0B2N091yI07QCQrvwzGeEFAXoHoSZn4O0Aq5iDoaINBQEonEkw1iylAdy0hH/TcKUCxUGuadyA8QPbP04BBFjNArJDyk2pfHUBBEYsYdiArQPlNYaWCWjZAQDVeukl8I0CDFDyFXEkpQHi13JkJBjdA14nL8QqkKUCv0XKgh34xQNEhcCTQ2CBA0SAFTyG3L0CrPldbsb8mQPiKbr2mC0JAM6X1twTJUUDCFVCop+8kQO/Lme0Kj0JAXYqryr4HMkDaykv+JwcwQGCvsOB+iD1A4GQbuAMVLkBaLhud88snQA0AVdy47ThAndhD+1gNO0Ba2T7kLZM8QH8xW7IqhjlA/u+ICtX5OkA8LT9wlQ85QIvFbworBSdAdqimJOscMkDvHMpQFUsoQDpY/+cwJzRAj6Z6Mv/oPUC9p3LaU9IpQEQTKGIR+zFAe4hGdxBbIEAiOC7jphI9QM2tEFZjjT5AnPnVHCAUMUCJ7lnXaBE0QMwJ2uTwCTBARKhSswcyJEAOL4hITfs4QC+lLhnHWCpAH7k16bYMOEAtP3CVJ6A3QG6Kx0W1/DJAUfTAx2CVJEBPWriswvo2QGCOHr+3FTZAqUvGMZIFPEDdfY6PFh8lQOYF2EenFjhAWg2Jeyz9NEBJZvUOtx8xQAuz0M5pHiRASRCugEIlKEAG1QYnogs2QHWvk/qyFCxAPWGJB5QNLkDpRe1+FSg7QHl4z4HlSCBADoelgR8iUUDRzf5AuR07QFu0AG2r7T1AS6/NxkoEIUCiRbbz/YQWQNlD+1jBCzRAdELooEssOkCSsG8nESEiQGbbaWtELDVAIEYIjzZqNkCvX7AbthE1QMKJ6NfWDztAb2b0o+GUIkCd2hmmtuhAQBbbpKKxojFALCy4H/D4MUBPzHoxlNc3QIy61t6njjFAqfkq+dgBMkBuv3yyYpgtQLpMTYI3JDtAbO19qgrdI0C+EkiJXV89QLiswmaAHz1AmG4Sg8AKPEBkeOxnsQA4QKmJPh9lfC9AoYUEjC4LPEBU4jrGFc8rQKHyr+WVGzhAsOJUa2FOI0DB5EaRtb44QOlGWFTESShAJO6x9KELIEDx1Y7iHAUyQBhgH526tjFACTVDqij+PUAnM95WegU8QDF8REyJ+DpAborHRbXMPEB6jsh3KUUsQHqKHCJuNiRATgrzHmf+NkAcfjfdsqsgQA2mYfiIqCtA",
          "dtype": "f8"
         },
         "yaxis": "y2"
        }
       ],
       "layout": {
        "annotations": [
         {
          "font": {
           "size": 16
          },
          "showarrow": false,
          "text": "Numero di Rilevazioni per Ora",
          "x": 0.5,
          "xanchor": "center",
          "xref": "paper",
          "y": 1,
          "yanchor": "bottom",
          "yref": "paper"
         },
         {
          "font": {
           "size": 16
          },
          "showarrow": false,
          "text": "Durata Interazioni nel Tempo",
          "x": 0.5,
          "xanchor": "center",
          "xref": "paper",
          "y": 0.45,
          "yanchor": "bottom",
          "yref": "paper"
         }
        ],
        "height": 800,
        "template": {
         "data": {
          "bar": [
           {
            "error_x": {
             "color": "#2a3f5f"
            },
            "error_y": {
             "color": "#2a3f5f"
            },
            "marker": {
             "line": {
              "color": "#E5ECF6",
              "width": 0.5
             },
             "pattern": {
              "fillmode": "overlay",
              "size": 10,
              "solidity": 0.2
             }
            },
            "type": "bar"
           }
          ],
          "barpolar": [
           {
            "marker": {
             "line": {
              "color": "#E5ECF6",
              "width": 0.5
             },
             "pattern": {
              "fillmode": "overlay",
              "size": 10,
              "solidity": 0.2
             }
            },
            "type": "barpolar"
           }
          ],
          "carpet": [
           {
            "aaxis": {
             "endlinecolor": "#2a3f5f",
             "gridcolor": "white",
             "linecolor": "white",
             "minorgridcolor": "white",
             "startlinecolor": "#2a3f5f"
            },
            "baxis": {
             "endlinecolor": "#2a3f5f",
             "gridcolor": "white",
             "linecolor": "white",
             "minorgridcolor": "white",
             "startlinecolor": "#2a3f5f"
            },
            "type": "carpet"
           }
          ],
          "choropleth": [
           {
            "colorbar": {
             "outlinewidth": 0,
             "ticks": ""
            },
            "type": "choropleth"
           }
          ],
          "contour": [
           {
            "colorbar": {
             "outlinewidth": 0,
             "ticks": ""
            },
            "colorscale": [
             [
              0,
              "#0d0887"
             ],
             [
              0.1111111111111111,
              "#46039f"
             ],
             [
              0.2222222222222222,
              "#7201a8"
             ],
             [
              0.3333333333333333,
              "#9c179e"
             ],
             [
              0.4444444444444444,
              "#bd3786"
             ],
             [
              0.5555555555555556,
              "#d8576b"
             ],
             [
              0.6666666666666666,
              "#ed7953"
             ],
             [
              0.7777777777777778,
              "#fb9f3a"
             ],
             [
              0.8888888888888888,
              "#fdca26"
             ],
             [
              1,
              "#f0f921"
             ]
            ],
            "type": "contour"
           }
          ],
          "contourcarpet": [
           {
            "colorbar": {
             "outlinewidth": 0,
             "ticks": ""
            },
            "type": "contourcarpet"
           }
          ],
          "heatmap": [
           {
            "colorbar": {
             "outlinewidth": 0,
             "ticks": ""
            },
            "colorscale": [
             [
              0,
              "#0d0887"
             ],
             [
              0.1111111111111111,
              "#46039f"
             ],
             [
              0.2222222222222222,
              "#7201a8"
             ],
             [
              0.3333333333333333,
              "#9c179e"
             ],
             [
              0.4444444444444444,
              "#bd3786"
             ],
             [
              0.5555555555555556,
              "#d8576b"
             ],
             [
              0.6666666666666666,
              "#ed7953"
             ],
             [
              0.7777777777777778,
              "#fb9f3a"
             ],
             [
              0.8888888888888888,
              "#fdca26"
             ],
             [
              1,
              "#f0f921"
             ]
            ],
            "type": "heatmap"
           }
          ],
          "histogram": [
           {
            "marker": {
             "pattern": {
              "fillmode": "overlay",
              "size": 10,
              "solidity": 0.2
             }
            },
            "type": "histogram"
           }
          ],
          "histogram2d": [
           {
            "colorbar": {
             "outlinewidth": 0,
             "ticks": ""
            },
            "colorscale": [
             [
              0,
              "#0d0887"
             ],
             [
              0.1111111111111111,
              "#46039f"
             ],
             [
              0.2222222222222222,
              "#7201a8"
             ],
             [
              0.3333333333333333,
              "#9c179e"
             ],
             [
              0.4444444444444444,
              "#bd3786"
             ],
             [
              0.5555555555555556,
              "#d8576b"
             ],
             [
              0.6666666666666666,
              "#ed7953"
             ],
             [
              0.7777777777777778,
              "#fb9f3a"
             ],
             [
              0.8888888888888888,
              "#fdca26"
             ],
             [
              1,
              "#f0f921"
             ]
            ],
            "type": "histogram2d"
           }
          ],
          "histogram2dcontour": [
           {
            "colorbar": {
             "outlinewidth": 0,
             "ticks": ""
            },
            "colorscale": [
             [
              0,
              "#0d0887"
             ],
             [
              0.1111111111111111,
              "#46039f"
             ],
             [
              0.2222222222222222,
              "#7201a8"
             ],
             [
              0.3333333333333333,
              "#9c179e"
             ],
             [
              0.4444444444444444,
              "#bd3786"
             ],
             [
              0.5555555555555556,
              "#d8576b"
             ],
             [
              0.6666666666666666,
              "#ed7953"
             ],
             [
              0.7777777777777778,
              "#fb9f3a"
             ],
             [
              0.8888888888888888,
              "#fdca26"
             ],
             [
              1,
              "#f0f921"
             ]
            ],
            "type": "histogram2dcontour"
           }
          ],
          "mesh3d": [
           {
            "colorbar": {
             "outlinewidth": 0,
             "ticks": ""
            },
            "type": "mesh3d"
           }
          ],
          "parcoords": [
           {
            "line": {
             "colorbar": {
              "outlinewidth": 0,
              "ticks": ""
             }
            },
            "type": "parcoords"
           }
          ],
          "pie": [
           {
            "automargin": true,
            "type": "pie"
           }
          ],
          "scatter": [
           {
            "fillpattern": {
             "fillmode": "overlay",
             "size": 10,
             "solidity": 0.2
            },
            "type": "scatter"
           }
          ],
          "scatter3d": [
           {
            "line": {
             "colorbar": {
              "outlinewidth": 0,
              "ticks": ""
             }
            },
            "marker": {
             "colorbar": {
              "outlinewidth": 0,
              "ticks": ""
             }
            },
            "type": "scatter3d"
           }
          ],
          "scattercarpet": [
           {
            "marker": {
             "colorbar": {
              "outlinewidth": 0,
              "ticks": ""
             }
            },
            "type": "scattercarpet"
           }
          ],
          "scattergeo": [
           {
            "marker": {
             "colorbar": {
              "outlinewidth": 0,
              "ticks": ""
             }
            },
            "type": "scattergeo"
           }
          ],
          "scattergl": [
           {
            "marker": {
             "colorbar": {
              "outlinewidth": 0,
              "ticks": ""
             }
            },
            "type": "scattergl"
           }
          ],
          "scattermap": [
           {
            "marker": {
             "colorbar": {
              "outlinewidth": 0,
              "ticks": ""
             }
            },
            "type": "scattermap"
           }
          ],
          "scattermapbox": [
           {
            "marker": {
             "colorbar": {
              "outlinewidth": 0,
              "ticks": ""
             }
            },
            "type": "scattermapbox"
           }
          ],
          "scatterpolar": [
           {
            "marker": {
             "colorbar": {
              "outlinewidth": 0,
              "ticks": ""
             }
            },
            "type": "scatterpolar"
           }
          ],
          "scatterpolargl": [
           {
            "marker": {
             "colorbar": {
              "outlinewidth": 0,
              "ticks": ""
             }
            },
            "type": "scatterpolargl"
           }
          ],
          "scatterternary": [
           {
            "marker": {
             "colorbar": {
              "outlinewidth": 0,
              "ticks": ""
             }
            },
            "type": "scatterternary"
           }
          ],
          "surface": [
           {
            "colorbar": {
             "outlinewidth": 0,
             "ticks": ""
            },
            "colorscale": [
             [
              0,
              "#0d0887"
             ],
             [
              0.1111111111111111,
              "#46039f"
             ],
             [
              0.2222222222222222,
              "#7201a8"
             ],
             [
              0.3333333333333333,
              "#9c179e"
             ],
             [
              0.4444444444444444,
              "#bd3786"
             ],
             [
              0.5555555555555556,
              "#d8576b"
             ],
             [
              0.6666666666666666,
              "#ed7953"
             ],
             [
              0.7777777777777778,
              "#fb9f3a"
             ],
             [
              0.8888888888888888,
              "#fdca26"
             ],
             [
              1,
              "#f0f921"
             ]
            ],
            "type": "surface"
           }
          ],
          "table": [
           {
            "cells": {
             "fill": {
              "color": "#EBF0F8"
             },
             "line": {
              "color": "white"
             }
            },
            "header": {
             "fill": {
              "color": "#C8D4E3"
             },
             "line": {
              "color": "white"
             }
            },
            "type": "table"
           }
          ]
         },
         "layout": {
          "annotationdefaults": {
           "arrowcolor": "#2a3f5f",
           "arrowhead": 0,
           "arrowwidth": 1
          },
          "autotypenumbers": "strict",
          "coloraxis": {
           "colorbar": {
            "outlinewidth": 0,
            "ticks": ""
           }
          },
          "colorscale": {
           "diverging": [
            [
             0,
             "#8e0152"
            ],
            [
             0.1,
             "#c51b7d"
            ],
            [
             0.2,
             "#de77ae"
            ],
            [
             0.3,
             "#f1b6da"
            ],
            [
             0.4,
             "#fde0ef"
            ],
            [
             0.5,
             "#f7f7f7"
            ],
            [
             0.6,
             "#e6f5d0"
            ],
            [
             0.7,
             "#b8e186"
            ],
            [
             0.8,
             "#7fbc41"
            ],
            [
             0.9,
             "#4d9221"
            ],
            [
             1,
             "#276419"
            ]
           ],
           "sequential": [
            [
             0,
             "#0d0887"
            ],
            [
             0.1111111111111111,
             "#46039f"
            ],
            [
             0.2222222222222222,
             "#7201a8"
            ],
            [
             0.3333333333333333,
             "#9c179e"
            ],
            [
             0.4444444444444444,
             "#bd3786"
            ],
            [
             0.5555555555555556,
             "#d8576b"
            ],
            [
             0.6666666666666666,
             "#ed7953"
            ],
            [
             0.7777777777777778,
             "#fb9f3a"
            ],
            [
             0.8888888888888888,
             "#fdca26"
            ],
            [
             1,
             "#f0f921"
            ]
           ],
           "sequentialminus": [
            [
             0,
             "#0d0887"
            ],
            [
             0.1111111111111111,
             "#46039f"
            ],
            [
             0.2222222222222222,
             "#7201a8"
            ],
            [
             0.3333333333333333,
             "#9c179e"
            ],
            [
             0.4444444444444444,
             "#bd3786"
            ],
            [
             0.5555555555555556,
             "#d8576b"
            ],
            [
             0.6666666666666666,
             "#ed7953"
            ],
            [
             0.7777777777777778,
             "#fb9f3a"
            ],
            [
             0.8888888888888888,
             "#fdca26"
            ],
            [
             1,
             "#f0f921"
            ]
           ]
          },
          "colorway": [
           "#636efa",
           "#EF553B",
           "#00cc96",
           "#ab63fa",
           "#FFA15A",
           "#19d3f3",
           "#FF6692",
           "#B6E880",
           "#FF97FF",
           "#FECB52"
          ],
          "font": {
           "color": "#2a3f5f"
          },
          "geo": {
           "bgcolor": "white",
           "lakecolor": "white",
           "landcolor": "#E5ECF6",
           "showlakes": true,
           "showland": true,
           "subunitcolor": "white"
          },
          "hoverlabel": {
           "align": "left"
          },
          "hovermode": "closest",
          "mapbox": {
           "style": "light"
          },
          "paper_bgcolor": "white",
          "plot_bgcolor": "#E5ECF6",
          "polar": {
           "angularaxis": {
            "gridcolor": "white",
            "linecolor": "white",
            "ticks": ""
           },
           "bgcolor": "#E5ECF6",
           "radialaxis": {
            "gridcolor": "white",
            "linecolor": "white",
            "ticks": ""
           }
          },
          "scene": {
           "xaxis": {
            "backgroundcolor": "#E5ECF6",
            "gridcolor": "white",
            "gridwidth": 2,
            "linecolor": "white",
            "showbackground": true,
            "ticks": "",
            "zerolinecolor": "white"
           },
           "yaxis": {
            "backgroundcolor": "#E5ECF6",
            "gridcolor": "white",
            "gridwidth": 2,
            "linecolor": "white",
            "showbackground": true,
            "ticks": "",
            "zerolinecolor": "white"
           },
           "zaxis": {
            "backgroundcolor": "#E5ECF6",
            "gridcolor": "white",
            "gridwidth": 2,
            "linecolor": "white",
            "showbackground": true,
            "ticks": "",
            "zerolinecolor": "white"
           }
          },
          "shapedefaults": {
           "line": {
            "color": "#2a3f5f"
           }
          },
          "ternary": {
           "aaxis": {
            "gridcolor": "white",
            "linecolor": "white",
            "ticks": ""
           },
           "baxis": {
            "gridcolor": "white",
            "linecolor": "white",
            "ticks": ""
           },
           "bgcolor": "#E5ECF6",
           "caxis": {
            "gridcolor": "white",
            "linecolor": "white",
            "ticks": ""
           }
          },
          "title": {
           "x": 0.05
          },
          "xaxis": {
           "automargin": true,
           "gridcolor": "white",
           "linecolor": "white",
           "ticks": "",
           "title": {
            "standoff": 15
           },
           "zerolinecolor": "white",
           "zerolinewidth": 2
          },
          "yaxis": {
           "automargin": true,
           "gridcolor": "white",
           "linecolor": "white",
           "ticks": "",
           "title": {
            "standoff": 15
           },
           "zerolinecolor": "white",
           "zerolinewidth": 2
          }
         }
        },
        "title": {
         "text": "Timeline delle Interazioni IoT"
        },
        "xaxis": {
         "anchor": "y",
         "domain": [
          0,
          1
         ]
        },
        "xaxis2": {
         "anchor": "y2",
         "domain": [
          0,
          1
         ]
        },
        "yaxis": {
         "anchor": "x",
         "domain": [
          0.55,
          1
         ]
        },
        "yaxis2": {
         "anchor": "x2",
         "domain": [
          0,
          0.45
         ]
        }
       }
      }
     },
     "metadata": {},
     "output_type": "display_data"
    },
    {
     "name": "stdout",
     "output_type": "stream",
     "text": [
      "🎨 Creando visualizzazione della rete...\n"
     ]
    },
    {
     "data": {
      "application/vnd.plotly.v1+json": {
       "config": {
        "plotlyServerURL": "https://plot.ly"
       },
       "data": [
        {
         "hoverinfo": "none",
         "line": {
          "color": "#888",
          "width": 0.8
         },
         "mode": "lines",
         "type": "scatter",
         "x": [
          -0.5826923685311478,
          -0.3678383869669172,
          null,
          -0.5826923685311478,
          -0.5374279153504314,
          null,
          -0.5826923685311478,
          -0.4455870716356827,
          null,
          -0.5826923685311478,
          -0.6265949402407399,
          null,
          0.3125222368985313,
          0.3670532900733378,
          null,
          0.3125222368985313,
          0.16287424117442878,
          null,
          0.3125222368985313,
          0.47051956551403235,
          null,
          0.3125222368985313,
          0.4801972270283385,
          null,
          0.3125222368985313,
          0.5459177080244022,
          null,
          0.3125222368985313,
          0.33421867797933463,
          null,
          0.2125315557494133,
          0.2878384640965506,
          null,
          0.2125315557494133,
          0.3670532900733378,
          null,
          0.2125315557494133,
          0.410094105291956,
          null,
          0.2125315557494133,
          -0.015795444228373985,
          null,
          0.2125315557494133,
          0.38273827890641254,
          null,
          0.2125315557494133,
          0.29773603995656933,
          null,
          0.5936415153607846,
          0.36035512643413103,
          null,
          0.5936415153607846,
          0.6521621715154711,
          null,
          -0.1467705757800059,
          -0.09594986666031018,
          null,
          -0.1467705757800059,
          -0.14869355114517288,
          null,
          -0.1467705757800059,
          -0.20021034059419834,
          null,
          -0.1467705757800059,
          0.16287424117442878,
          null,
          -0.1467705757800059,
          -0.34589515849021835,
          null,
          -0.1467705757800059,
          -0.3441097210082762,
          null,
          -0.885874394066824,
          -0.5551242110867665,
          null,
          -0.885874394066824,
          -0.9695828824025217,
          null,
          -0.885874394066824,
          -0.7533243101732114,
          null,
          -0.885874394066824,
          -0.9040742524111038,
          null,
          -0.885874394066824,
          -1,
          null,
          -0.20021034059419834,
          -0.09594986666031018,
          null,
          -0.20021034059419834,
          -0.14869355114517288,
          null,
          -0.20021034059419834,
          -0.34589515849021835,
          null,
          -0.20021034059419834,
          -0.3441097210082762,
          null,
          -0.20021034059419834,
          -0.07253110808443135,
          null,
          -0.14869355114517288,
          -0.09594986666031018,
          null,
          -0.14869355114517288,
          0.16287424117442878,
          null,
          -0.14869355114517288,
          -0.3441097210082762,
          null,
          0.1825005978701477,
          0.3690025456244402,
          null,
          0.1825005978701477,
          -0.09616674542170857,
          null,
          0.1825005978701477,
          -0.07834744780093764,
          null,
          0.1825005978701477,
          0.4801972270283385,
          null,
          0.1825005978701477,
          0.045245930545913214,
          null,
          0.1825005978701477,
          0.037290813869462015,
          null,
          -0.07834744780093764,
          -0.09616674542170857,
          null,
          -0.07834744780093764,
          0.36035512643413103,
          null,
          -0.07834744780093764,
          -0.2686315926246723,
          null,
          -0.07834744780093764,
          -0.239623630441001,
          null,
          -0.07834744780093764,
          0.045245930545913214,
          null,
          -0.07834744780093764,
          -0.4455870716356827,
          null,
          -0.07834744780093764,
          0.1655180207001047,
          null,
          -0.7533243101732114,
          -0.5129927894189218,
          null,
          -0.7533243101732114,
          -0.9695828824025217,
          null,
          -0.7533243101732114,
          -0.9040742524111038,
          null,
          0.47051956551403235,
          0.3670532900733378,
          null,
          0.47051956551403235,
          0.16287424117442878,
          null,
          0.47051956551403235,
          0.4801972270283385,
          null,
          0.47051956551403235,
          0.5459177080244022,
          null,
          0.47051956551403235,
          0.33421867797933463,
          null,
          0.037290813869462015,
          -0.09616674542170857,
          null,
          0.037290813869462015,
          0.045245930545913214,
          null,
          -0.9040742524111038,
          -0.5129927894189218,
          null,
          -0.9040742524111038,
          -0.9695828824025217,
          null,
          -0.9040742524111038,
          -1,
          null,
          0.1655180207001047,
          0.38645497894587305,
          null,
          0.1655180207001047,
          -0.07253110808443135,
          null,
          0.1655180207001047,
          0.3092691521974784,
          null,
          0.1655180207001047,
          0.045245930545913214,
          null,
          0.1655180207001047,
          0.33783774788538695,
          null,
          0.026780023471546722,
          -0.3678383869669172,
          null,
          0.026780023471546722,
          0.3752225538753221,
          null,
          0.026780023471546722,
          0.22230099114703056,
          null,
          0.49018810878858804,
          0.38645497894587305,
          null,
          0.49018810878858804,
          0.3092691521974784,
          null,
          0.49018810878858804,
          0.33783774788538695,
          null,
          0.3752225538753221,
          0.33783774788538695,
          null,
          0.3690025456244402,
          0.3670532900733378,
          null,
          0.3690025456244402,
          0.16287424117442878,
          null,
          0.3690025456244402,
          0.5459177080244022,
          null,
          0.3690025456244402,
          0.33421867797933463,
          null,
          0.3690025456244402,
          0.3267787588149163,
          null,
          0.5459177080244022,
          0.38645497894587305,
          null,
          0.5459177080244022,
          0.4801972270283385,
          null,
          -0.422216523719069,
          -0.5374279153504314,
          null,
          -0.422216523719069,
          0.34123086167807803,
          null,
          -0.422216523719069,
          -0.6265949402407399,
          null,
          -0.422216523719069,
          -0.6542561126529295,
          null,
          -0.422216523719069,
          -0.42527284411905236,
          null,
          -0.6265949402407399,
          -0.5374279153504314,
          null,
          -0.6265949402407399,
          -0.4455870716356827,
          null,
          -0.6265949402407399,
          -0.6542561126529295,
          null,
          -0.6265949402407399,
          -0.42527284411905236,
          null,
          0.38273827890641254,
          0.2878384640965506,
          null,
          0.38273827890641254,
          0.7614584205274801,
          null,
          -0.6542561126529295,
          -0.5374279153504314,
          null,
          -0.6542561126529295,
          -0.42527284411905236,
          null,
          0.2878384640965506,
          0.410094105291956,
          null,
          0.2878384640965506,
          -0.015795444228373985,
          null,
          0.2878384640965506,
          -0.09616674542170857,
          null,
          0.2878384640965506,
          0.5626460301606102,
          null,
          0.36035512643413103,
          0.8243028948738553,
          null,
          0.36035512643413103,
          0.34123086167807803,
          null,
          0.36035512643413103,
          0.3267787588149163,
          null,
          0.38645497894587305,
          0.33783774788538695,
          null,
          0.38645497894587305,
          0.22230099114703056,
          null,
          0.33421867797933463,
          0.16287424117442878,
          null,
          -0.015795444228373985,
          -0.42527284411905236,
          null,
          -0.34589515849021835,
          -0.3441097210082762,
          null,
          -0.34589515849021835,
          -0.42527284411905236,
          null,
          0.3670532900733378,
          0.16287424117442878,
          null,
          0.3670532900733378,
          0.4801972270283385,
          null,
          0.33783774788538695,
          0.3092691521974784,
          null,
          0.33783774788538695,
          0.22230099114703056,
          null,
          -0.9695828824025217,
          -1,
          null,
          -0.4455870716356827,
          -0.3678383869669172,
          null,
          -0.4455870716356827,
          -0.5374279153504314,
          null,
          0.061155550074697355,
          0.045245930545913214,
          null,
          0.061155550074697355,
          0.22230099114703056,
          null,
          0.34123086167807803,
          0.6521621715154711,
          null,
          -1,
          -0.5551242110867665,
          null,
          0.3092691521974784,
          0.22230099114703056,
          null,
          -0.5551242110867665,
          -0.5129927894189218,
          null,
          0.16287424117442878,
          -0.09594986666031018,
          null,
          -0.07253110808443135,
          -0.09594986666031018,
          null,
          -0.5374279153504314,
          -0.3678383869669172,
          null,
          -0.5374279153504314,
          -0.42527284411905236,
          null,
          -0.2686315926246723,
          -0.239623630441001,
          null,
          0.5626460301606102,
          0.410094105291956,
          null,
          0.29773603995656933,
          0.410094105291956,
          null,
          -0.09616674542170857,
          -0.5129927894189218,
          null,
          -0.09616674542170857,
          -0.239623630441001,
          null,
          -0.09616674542170857,
          0.045245930545913214,
          null,
          0.8243028948738553,
          0.7614584205274801,
          null,
          0.8243028948738553,
          0.6521621715154711,
          null,
          0.3267787588149163,
          0.6521621715154711,
          null,
          0.6521621715154711,
          0.7614584205274801,
          null
         ],
         "y": [
          0.6134329143650828,
          0.5908651183562501,
          null,
          0.6134329143650828,
          0.43559004950155894,
          null,
          0.6134329143650828,
          0.45646402967055216,
          null,
          0.6134329143650828,
          0.4890863750591337,
          null,
          -0.5620263990628542,
          -0.6216781256945508,
          null,
          -0.5620263990628542,
          -0.6426952808580461,
          null,
          -0.5620263990628542,
          -0.49546499468340294,
          null,
          -0.5620263990628542,
          -0.35520274427794096,
          null,
          -0.5620263990628542,
          -0.2103444081994032,
          null,
          -0.5620263990628542,
          -0.5189752257564292,
          null,
          -0.40130334425467906,
          -0.3187711117101465,
          null,
          -0.40130334425467906,
          -0.6216781256945508,
          null,
          -0.40130334425467906,
          -0.5084144935245033,
          null,
          -0.40130334425467906,
          -0.18763926223419028,
          null,
          -0.40130334425467906,
          -0.20843189926474637,
          null,
          -0.40130334425467906,
          -0.7058055180536698,
          null,
          0.21840600918657604,
          0.13947215994549467,
          null,
          0.21840600918657604,
          0.16876475193245274,
          null,
          -0.6429201217155924,
          -0.5285205526501617,
          null,
          -0.6429201217155924,
          -0.7823016652023866,
          null,
          -0.6429201217155924,
          -0.4615987365163552,
          null,
          -0.6429201217155924,
          -0.6426952808580461,
          null,
          -0.6429201217155924,
          -0.47245277418060994,
          null,
          -0.6429201217155924,
          -0.599332397707099,
          null,
          -0.1078613936032148,
          -0.11026326757183587,
          null,
          -0.1078613936032148,
          -0.0567320744001857,
          null,
          -0.1078613936032148,
          0.00681672728621884,
          null,
          -0.1078613936032148,
          0.012012123558587485,
          null,
          -0.1078613936032148,
          -0.14818200227003828,
          null,
          -0.4615987365163552,
          -0.5285205526501617,
          null,
          -0.4615987365163552,
          -0.7823016652023866,
          null,
          -0.4615987365163552,
          -0.47245277418060994,
          null,
          -0.4615987365163552,
          -0.599332397707099,
          null,
          -0.4615987365163552,
          -0.24484518559225685,
          null,
          -0.7823016652023866,
          -0.5285205526501617,
          null,
          -0.7823016652023866,
          -0.6426952808580461,
          null,
          -0.7823016652023866,
          -0.599332397707099,
          null,
          0.04794848212791727,
          -0.3710009701451848,
          null,
          0.04794848212791727,
          0.1256257050448489,
          null,
          0.04794848212791727,
          0.22666557506161897,
          null,
          0.04794848212791727,
          -0.35520274427794096,
          null,
          0.04794848212791727,
          0.325822488978618,
          null,
          0.04794848212791727,
          0.23780195098038479,
          null,
          0.22666557506161897,
          0.1256257050448489,
          null,
          0.22666557506161897,
          0.13947215994549467,
          null,
          0.22666557506161897,
          0.1065520274759424,
          null,
          0.22666557506161897,
          0.2315901307335745,
          null,
          0.22666557506161897,
          0.325822488978618,
          null,
          0.22666557506161897,
          0.45646402967055216,
          null,
          0.22666557506161897,
          0.26765889558222367,
          null,
          0.00681672728621884,
          0.029370095015486392,
          null,
          0.00681672728621884,
          -0.0567320744001857,
          null,
          0.00681672728621884,
          0.012012123558587485,
          null,
          -0.49546499468340294,
          -0.6216781256945508,
          null,
          -0.49546499468340294,
          -0.6426952808580461,
          null,
          -0.49546499468340294,
          -0.35520274427794096,
          null,
          -0.49546499468340294,
          -0.2103444081994032,
          null,
          -0.49546499468340294,
          -0.5189752257564292,
          null,
          0.23780195098038479,
          0.1256257050448489,
          null,
          0.23780195098038479,
          0.325822488978618,
          null,
          0.012012123558587485,
          0.029370095015486392,
          null,
          0.012012123558587485,
          -0.0567320744001857,
          null,
          0.012012123558587485,
          -0.14818200227003828,
          null,
          0.26765889558222367,
          0.4151805848098009,
          null,
          0.26765889558222367,
          -0.24484518559225685,
          null,
          0.26765889558222367,
          0.6389067515970398,
          null,
          0.26765889558222367,
          0.325822488978618,
          null,
          0.26765889558222367,
          0.557832313928349,
          null,
          0.5301222317983132,
          0.5908651183562501,
          null,
          0.5301222317983132,
          0.6171217112230817,
          null,
          0.5301222317983132,
          0.6709665756396299,
          null,
          0.7076331824469605,
          0.4151805848098009,
          null,
          0.7076331824469605,
          0.6389067515970398,
          null,
          0.7076331824469605,
          0.557832313928349,
          null,
          0.6171217112230817,
          0.557832313928349,
          null,
          -0.3710009701451848,
          -0.6216781256945508,
          null,
          -0.3710009701451848,
          -0.6426952808580461,
          null,
          -0.3710009701451848,
          -0.2103444081994032,
          null,
          -0.3710009701451848,
          -0.5189752257564292,
          null,
          -0.3710009701451848,
          -0.1894096527002503,
          null,
          -0.2103444081994032,
          0.4151805848098009,
          null,
          -0.2103444081994032,
          -0.35520274427794096,
          null,
          0.3541249471970432,
          0.43559004950155894,
          null,
          0.3541249471970432,
          0.28463676165770385,
          null,
          0.3541249471970432,
          0.4890863750591337,
          null,
          0.3541249471970432,
          0.34409863313288436,
          null,
          0.3541249471970432,
          0.16681918544838079,
          null,
          0.4890863750591337,
          0.43559004950155894,
          null,
          0.4890863750591337,
          0.45646402967055216,
          null,
          0.4890863750591337,
          0.34409863313288436,
          null,
          0.4890863750591337,
          0.16681918544838079,
          null,
          -0.20843189926474637,
          -0.3187711117101465,
          null,
          -0.20843189926474637,
          0.05374837222938998,
          null,
          0.34409863313288436,
          0.43559004950155894,
          null,
          0.34409863313288436,
          0.16681918544838079,
          null,
          -0.3187711117101465,
          -0.5084144935245033,
          null,
          -0.3187711117101465,
          -0.18763926223419028,
          null,
          -0.3187711117101465,
          0.1256257050448489,
          null,
          -0.3187711117101465,
          -0.4770965339829772,
          null,
          0.13947215994549467,
          0.18304283913058153,
          null,
          0.13947215994549467,
          0.28463676165770385,
          null,
          0.13947215994549467,
          -0.1894096527002503,
          null,
          0.4151805848098009,
          0.557832313928349,
          null,
          0.4151805848098009,
          0.6709665756396299,
          null,
          -0.5189752257564292,
          -0.6426952808580461,
          null,
          -0.18763926223419028,
          0.16681918544838079,
          null,
          -0.47245277418060994,
          -0.599332397707099,
          null,
          -0.47245277418060994,
          0.16681918544838079,
          null,
          -0.6216781256945508,
          -0.6426952808580461,
          null,
          -0.6216781256945508,
          -0.35520274427794096,
          null,
          0.557832313928349,
          0.6389067515970398,
          null,
          0.557832313928349,
          0.6709665756396299,
          null,
          -0.0567320744001857,
          -0.14818200227003828,
          null,
          0.45646402967055216,
          0.5908651183562501,
          null,
          0.45646402967055216,
          0.43559004950155894,
          null,
          0.6750904357110276,
          0.325822488978618,
          null,
          0.6750904357110276,
          0.6709665756396299,
          null,
          0.28463676165770385,
          0.16876475193245274,
          null,
          -0.14818200227003828,
          -0.11026326757183587,
          null,
          0.6389067515970398,
          0.6709665756396299,
          null,
          -0.11026326757183587,
          0.029370095015486392,
          null,
          -0.6426952808580461,
          -0.5285205526501617,
          null,
          -0.24484518559225685,
          -0.5285205526501617,
          null,
          0.43559004950155894,
          0.5908651183562501,
          null,
          0.43559004950155894,
          0.16681918544838079,
          null,
          0.1065520274759424,
          0.2315901307335745,
          null,
          -0.4770965339829772,
          -0.5084144935245033,
          null,
          -0.7058055180536698,
          -0.5084144935245033,
          null,
          0.1256257050448489,
          0.029370095015486392,
          null,
          0.1256257050448489,
          0.2315901307335745,
          null,
          0.1256257050448489,
          0.325822488978618,
          null,
          0.18304283913058153,
          0.05374837222938998,
          null,
          0.18304283913058153,
          0.16876475193245274,
          null,
          -0.1894096527002503,
          0.16876475193245274,
          null,
          0.16876475193245274,
          0.05374837222938998,
          null
         ]
        },
        {
         "hoverinfo": "text",
         "hovertext": [
          "Device: 2b2d8750-2cab-4e70-82ed-b8d14d6c03fc<br>Connessioni: 4<br>Tempo totale: 147.0s<br>Comunità: 4",
          "Device: f97583db-9bcd-4bad-9720-eb597c1b0f68<br>Connessioni: 6<br>Tempo totale: 106.3s<br>Comunità: 2",
          "Device: e23a87bc-1d03-4029-8ef3-00f3c362d206<br>Connessioni: 6<br>Tempo totale: 208.6s<br>Comunità: 0",
          "Device: 495e5ae5-1515-4d2a-b62d-fc555caefd7b<br>Connessioni: 2<br>Tempo totale: 97.4s<br>Comunità: 6",
          "Device: 04ff9800-d20d-41b9-b477-56568bba397c<br>Connessioni: 6<br>Tempo totale: 149.9s<br>Comunità: 3",
          "Device: 74d7d70d-dc98-4864-bf63-a13084d17306<br>Connessioni: 5<br>Tempo totale: 185.4s<br>Comunità: 7",
          "Device: 31fa4077-11be-4e31-aaa3-b6a85a08f706<br>Connessioni: 6<br>Tempo totale: 214.8s<br>Comunità: 3",
          "Device: 125c8563-5d30-429d-81ee-6a43b4b577dd<br>Connessioni: 5<br>Tempo totale: 63.5s<br>Comunità: 3",
          "Device: c2103420-7e4d-429a-8610-419ef7b6901d<br>Connessioni: 6<br>Tempo totale: 99.8s<br>Comunità: 5",
          "Device: 66fffc05-4e9b-4381-b8ab-8fc7a42b6704<br>Connessioni: 8<br>Tempo totale: 218.7s<br>Comunità: 5",
          "Device: 891ef496-9aa8-469a-a6fa-cd0e1a3742f3<br>Connessioni: 4<br>Tempo totale: 129.1s<br>Comunità: 7",
          "Device: 581a298d-9725-402e-952f-34100c626d19<br>Connessioni: 6<br>Tempo totale: 190.4s<br>Comunità: 2",
          "Device: eefc563e-953b-4803-b3b5-0be7a6a808f5<br>Connessioni: 3<br>Tempo totale: 79.3s<br>Comunità: 5",
          "Device: ecf67978-52c5-44a1-a1e8-8e86b128db65<br>Connessioni: 5<br>Tempo totale: 105.1s<br>Comunità: 7",
          "Device: d1ec5cd6-e228-43ba-9948-094d221f2b6f<br>Connessioni: 6<br>Tempo totale: 163.2s<br>Comunità: 1",
          "Device: 5a5da229-4c7c-422a-b906-a1c3a9c17d6a<br>Connessioni: 3<br>Tempo totale: 72.1s<br>Comunità: 1",
          "Device: 9dc20899-8030-4848-b66d-3c3243a7043e<br>Connessioni: 3<br>Tempo totale: 70.3s<br>Comunità: 1",
          "Device: 2b649167-9930-4903-a283-5787f31080b9<br>Connessioni: 2<br>Tempo totale: 40.2s<br>Comunità: 1",
          "Device: 22c0f93f-4734-4974-b49c-28a5eff854ed<br>Connessioni: 6<br>Tempo totale: 58.8s<br>Comunità: 2",
          "Device: bd12441b-07a7-4da8-8118-7d8032c0bb9e<br>Connessioni: 5<br>Tempo totale: 99.4s<br>Comunità: 2",
          "Device: e9b24feb-3118-47ef-854a-064dbd448daa<br>Connessioni: 5<br>Tempo totale: 194.1s<br>Comunità: 4",
          "Device: cf9952b4-4ea0-4b4a-9ec0-2ac55662d78e<br>Connessioni: 6<br>Tempo totale: 227.3s<br>Comunità: 4",
          "Device: cb944ece-bb27-4483-b3eb-5ede215f246f<br>Connessioni: 3<br>Tempo totale: 111.8s<br>Comunità: 0",
          "Device: d0eb0951-4f8c-42c3-9b67-3d3633abfceb<br>Connessioni: 4<br>Tempo totale: 79.7s<br>Comunità: 4",
          "Device: 023ce283-bd59-412d-b812-7c69da1fddac<br>Connessioni: 6<br>Tempo totale: 194.1s<br>Comunità: 0",
          "Device: 6ab18db7-c83a-4755-ad1c-d670a72b0ea1<br>Connessioni: 5<br>Tempo totale: 105.4s<br>Comunità: 6",
          "Device: 4c3f4bd7-a49e-404d-bb9e-75fab08c01b7<br>Connessioni: 5<br>Tempo totale: 127.9s<br>Comunità: 1",
          "Device: e3b40b5f-6445-4988-a335-cd626cad60b2<br>Connessioni: 4<br>Tempo totale: 94.0s<br>Comunità: 2",
          "Device: 340a33eb-ab2f-48c5-844d-a65570723a0d<br>Connessioni: 3<br>Tempo totale: 104.8s<br>Comunità: 0",
          "Device: 6ac9d1f7-87c3-433c-b121-c6bd80c3b3dd<br>Connessioni: 4<br>Tempo totale: 159.0s<br>Comunità: 3",
          "Device: 0cc5420c-446e-4b3a-9e5f-7f9940905c6a<br>Connessioni: 6<br>Tempo totale: 164.9s<br>Comunità: 2",
          "Device: caa77a82-37be-4544-b4cb-a1914d56c4fd<br>Connessioni: 6<br>Tempo totale: 200.0s<br>Comunità: 1",
          "Device: 6563ccf9-b157-4eef-ad37-93eb72648a35<br>Connessioni: 4<br>Tempo totale: 217.0s<br>Comunità: 7",
          "Device: cf03148e-0d7d-472e-8c1b-246efe31f1c7<br>Connessioni: 5<br>Tempo totale: 85.0s<br>Comunità: 4",
          "Device: 5784b34b-f637-49ba-95ce-43fd98643da5<br>Connessioni: 2<br>Tempo totale: 51.7s<br>Comunità: 5",
          "Device: 84afb2fd-6077-49ab-9170-476185f7b5a0<br>Connessioni: 3<br>Tempo totale: 54.9s<br>Comunità: 6",
          "Device: f9b9394b-7d21-45e3-bb70-e593660c456d<br>Connessioni: 4<br>Tempo totale: 135.7s<br>Comunità: 7",
          "Device: 97d762dd-1b37-4b3a-8541-733e8ad5abf2<br>Connessioni: 4<br>Tempo totale: 159.1s<br>Comunità: 1",
          "Device: 60300bef-0aa0-4abe-bdf0-11f348be9a07<br>Connessioni: 3<br>Tempo totale: 67.2s<br>Comunità: 7",
          "Device: 548dcd41-c18b-4828-9dda-bac06dca6665<br>Connessioni: 8<br>Tempo totale: 218.1s<br>Comunità: 2",
          "Device: 778cb695-778b-4d2f-abf6-bfa46143a9a4<br>Connessioni: 3<br>Tempo totale: 137.5s<br>Comunità: 3",
          "Device: 65472b6f-1889-4fa7-86d7-c90824e7a900<br>Connessioni: 7<br>Tempo totale: 339.7s<br>Comunità: 4",
          "Device: 95d7b911-1c4e-4a71-b669-9cb838018663<br>Connessioni: 2<br>Tempo totale: 78.2s<br>Comunità: 5",
          "Device: b0116881-9047-4eec-ac71-26879e8c0af2<br>Connessioni: 2<br>Tempo totale: 71.2s<br>Comunità: 0",
          "Device: ec45c08b-0f47-4491-9f76-38df1c8c22a2<br>Connessioni: 2<br>Tempo totale: 53.2s<br>Comunità: 0",
          "Device: 41e2a4d5-f185-422a-bb3f-61c6ce262e83<br>Connessioni: 7<br>Tempo totale: 187.5s<br>Comunità: 5",
          "Device: 24382566-3621-4e54-8914-e4baaab83030<br>Connessioni: 3<br>Tempo totale: 97.2s<br>Comunità: 6",
          "Device: 7f0d32ac-f03a-47d8-865c-876bc3733a7f<br>Connessioni: 5<br>Tempo totale: 145.9s<br>Comunità: 2",
          "Device: 30f69f2a-3f9d-417f-9460-3bacb40fcce8<br>Connessioni: 4<br>Tempo totale: 140.0s<br>Comunità: 0",
          "Device: f861c2eb-e9a6-4870-a63e-917370f0339a<br>Connessioni: 3<br>Tempo totale: 39.2s<br>Comunità: 6",
          "Device: 03384f60-ce21-47f8-a7e4-d3b6f87d9d1f<br>Connessioni: 4<br>Tempo totale: 93.7s<br>Comunità: 4",
          "Device: a288c0da-9a28-4c35-a1b1-51aaf9f2a3c5<br>Connessioni: 3<br>Tempo totale: 81.0s<br>Comunità: 5",
          "Device: a38e7241-f084-48d7-b903-8a127d5b3028<br>Connessioni: 5<br>Tempo totale: 167.1s<br>Comunità: 6",
          "Device: 6f70263a-ab1d-41e8-b509-8ac7124e803b<br>Connessioni: 4<br>Tempo totale: 107.5s<br>Comunità: 3",
          "Device: 0d125bf1-a2bc-4cc6-b37a-51bf12180941<br>Connessioni: 5<br>Tempo totale: 131.8s<br>Comunità: 3",
          "Device: efda4c5b-9400-4035-ad5f-23e123f7d257<br>Connessioni: 5<br>Tempo totale: 144.9s<br>Comunità: 1",
          "Device: 13330718-fa81-489a-9c97-a84a344cff11<br>Connessioni: 4<br>Tempo totale: 101.0s<br>Comunità: 7",
          "Device: 85f61a5f-b837-4d48-b361-69f1b2c87ae3<br>Connessioni: 3<br>Tempo totale: 62.3s<br>Comunità: 6",
          "Device: a942bba9-2ad7-4a07-9b61-d30c745a55ad<br>Connessioni: 6<br>Tempo totale: 163.8s<br>Comunità: 5",
          "Device: edb5c615-33c9-423d-8ef1-2b575dfaecac<br>Connessioni: 6<br>Tempo totale: 170.1s<br>Comunità: 4"
         ],
         "marker": {
          "color": [
           4,
           2,
           0,
           6,
           3,
           7,
           3,
           3,
           5,
           5,
           7,
           2,
           5,
           7,
           1,
           1,
           1,
           1,
           2,
           2,
           4,
           4,
           0,
           4,
           0,
           6,
           1,
           2,
           0,
           3,
           2,
           1,
           7,
           4,
           5,
           6,
           7,
           1,
           7,
           2,
           3,
           4,
           5,
           0,
           0,
           5,
           6,
           2,
           0,
           6,
           4,
           5,
           6,
           3,
           3,
           1,
           7,
           6,
           5,
           4
          ],
          "colorbar": {
           "len": 0.5,
           "thickness": 15,
           "title": {
            "text": "Comunità"
           },
           "x": 1.02
          },
          "colorscale": [
           [
            0,
            "#440154"
           ],
           [
            0.1111111111111111,
            "#482878"
           ],
           [
            0.2222222222222222,
            "#3e4989"
           ],
           [
            0.3333333333333333,
            "#31688e"
           ],
           [
            0.4444444444444444,
            "#26828e"
           ],
           [
            0.5555555555555556,
            "#1f9e89"
           ],
           [
            0.6666666666666666,
            "#35b779"
           ],
           [
            0.7777777777777778,
            "#6ece58"
           ],
           [
            0.8888888888888888,
            "#b5de2b"
           ],
           [
            1,
            "#fde725"
           ]
          ],
          "line": {
           "color": "black",
           "width": 2
          },
          "showscale": true,
          "size": [
           22,
           28,
           28,
           16,
           28,
           25,
           28,
           25,
           28,
           34,
           22,
           28,
           19,
           25,
           28,
           19,
           19,
           16,
           28,
           25,
           25,
           28,
           19,
           22,
           28,
           25,
           25,
           22,
           19,
           22,
           28,
           28,
           22,
           25,
           16,
           19,
           22,
           22,
           19,
           34,
           19,
           31,
           16,
           16,
           16,
           31,
           19,
           25,
           22,
           19,
           22,
           19,
           25,
           22,
           25,
           25,
           22,
           19,
           28,
           28
          ]
         },
         "mode": "markers+text",
         "text": [
          "2b2d8750...",
          "f97583db...",
          "e23a87bc...",
          "495e5ae5...",
          "04ff9800...",
          "74d7d70d...",
          "31fa4077...",
          "125c8563...",
          "c2103420...",
          "66fffc05...",
          "891ef496...",
          "581a298d...",
          "eefc563e...",
          "ecf67978...",
          "d1ec5cd6...",
          "5a5da229...",
          "9dc20899...",
          "2b649167...",
          "22c0f93f...",
          "bd12441b...",
          "e9b24feb...",
          "cf9952b4...",
          "cb944ece...",
          "d0eb0951...",
          "023ce283...",
          "6ab18db7...",
          "4c3f4bd7...",
          "e3b40b5f...",
          "340a33eb...",
          "6ac9d1f7...",
          "0cc5420c...",
          "caa77a82...",
          "6563ccf9...",
          "cf03148e...",
          "5784b34b...",
          "84afb2fd...",
          "f9b9394b...",
          "97d762dd...",
          "60300bef...",
          "548dcd41...",
          "778cb695...",
          "65472b6f...",
          "95d7b911...",
          "b0116881...",
          "ec45c08b...",
          "41e2a4d5...",
          "24382566...",
          "7f0d32ac...",
          "30f69f2a...",
          "f861c2eb...",
          "03384f60...",
          "a288c0da...",
          "a38e7241...",
          "6f70263a...",
          "0d125bf1...",
          "efda4c5b...",
          "13330718...",
          "85f61a5f...",
          "a942bba9...",
          "edb5c615..."
         ],
         "textposition": "middle center",
         "type": "scatter",
         "x": [
          -0.5826923685311478,
          0.3125222368985313,
          0.2125315557494133,
          0.5936415153607846,
          -0.1467705757800059,
          -0.885874394066824,
          -0.20021034059419834,
          -0.14869355114517288,
          0.1825005978701477,
          -0.07834744780093764,
          -0.7533243101732114,
          0.47051956551403235,
          0.037290813869462015,
          -0.9040742524111038,
          0.1655180207001047,
          0.026780023471546722,
          0.49018810878858804,
          0.3752225538753221,
          0.3690025456244402,
          0.5459177080244022,
          -0.422216523719069,
          -0.6265949402407399,
          0.38273827890641254,
          -0.6542561126529295,
          0.2878384640965506,
          0.36035512643413103,
          0.38645497894587305,
          0.33421867797933463,
          -0.015795444228373985,
          -0.34589515849021835,
          0.3670532900733378,
          0.33783774788538695,
          -0.9695828824025217,
          -0.4455870716356827,
          0.061155550074697355,
          0.34123086167807803,
          -1,
          0.3092691521974784,
          -0.5551242110867665,
          0.16287424117442878,
          -0.07253110808443135,
          -0.5374279153504314,
          -0.2686315926246723,
          0.5626460301606102,
          0.29773603995656933,
          -0.09616674542170857,
          0.8243028948738553,
          0.4801972270283385,
          0.410094105291956,
          0.3267787588149163,
          -0.3678383869669172,
          -0.239623630441001,
          0.6521621715154711,
          -0.3441097210082762,
          -0.09594986666031018,
          0.22230099114703056,
          -0.5129927894189218,
          0.7614584205274801,
          0.045245930545913214,
          -0.42527284411905236
         ],
         "y": [
          0.6134329143650828,
          -0.5620263990628542,
          -0.40130334425467906,
          0.21840600918657604,
          -0.6429201217155924,
          -0.1078613936032148,
          -0.4615987365163552,
          -0.7823016652023866,
          0.04794848212791727,
          0.22666557506161897,
          0.00681672728621884,
          -0.49546499468340294,
          0.23780195098038479,
          0.012012123558587485,
          0.26765889558222367,
          0.5301222317983132,
          0.7076331824469605,
          0.6171217112230817,
          -0.3710009701451848,
          -0.2103444081994032,
          0.3541249471970432,
          0.4890863750591337,
          -0.20843189926474637,
          0.34409863313288436,
          -0.3187711117101465,
          0.13947215994549467,
          0.4151805848098009,
          -0.5189752257564292,
          -0.18763926223419028,
          -0.47245277418060994,
          -0.6216781256945508,
          0.557832313928349,
          -0.0567320744001857,
          0.45646402967055216,
          0.6750904357110276,
          0.28463676165770385,
          -0.14818200227003828,
          0.6389067515970398,
          -0.11026326757183587,
          -0.6426952808580461,
          -0.24484518559225685,
          0.43559004950155894,
          0.1065520274759424,
          -0.4770965339829772,
          -0.7058055180536698,
          0.1256257050448489,
          0.18304283913058153,
          -0.35520274427794096,
          -0.5084144935245033,
          -0.1894096527002503,
          0.5908651183562501,
          0.2315901307335745,
          0.16876475193245274,
          -0.599332397707099,
          -0.5285205526501617,
          0.6709665756396299,
          0.029370095015486392,
          0.05374837222938998,
          0.325822488978618,
          0.16681918544838079
         ]
        }
       ],
       "layout": {
        "annotations": [
         {
          "font": {
           "color": "gray",
           "size": 12
          },
          "showarrow": false,
          "text": "Colore = comunità, dimensione = numero connessioni",
          "x": 0.005,
          "xanchor": "left",
          "xref": "paper",
          "y": -0.002,
          "yanchor": "bottom",
          "yref": "paper"
         }
        ],
        "hovermode": "closest",
        "margin": {
         "b": 20,
         "l": 5,
         "r": 5,
         "t": 60
        },
        "showlegend": false,
        "template": {
         "data": {
          "bar": [
           {
            "error_x": {
             "color": "#2a3f5f"
            },
            "error_y": {
             "color": "#2a3f5f"
            },
            "marker": {
             "line": {
              "color": "#E5ECF6",
              "width": 0.5
             },
             "pattern": {
              "fillmode": "overlay",
              "size": 10,
              "solidity": 0.2
             }
            },
            "type": "bar"
           }
          ],
          "barpolar": [
           {
            "marker": {
             "line": {
              "color": "#E5ECF6",
              "width": 0.5
             },
             "pattern": {
              "fillmode": "overlay",
              "size": 10,
              "solidity": 0.2
             }
            },
            "type": "barpolar"
           }
          ],
          "carpet": [
           {
            "aaxis": {
             "endlinecolor": "#2a3f5f",
             "gridcolor": "white",
             "linecolor": "white",
             "minorgridcolor": "white",
             "startlinecolor": "#2a3f5f"
            },
            "baxis": {
             "endlinecolor": "#2a3f5f",
             "gridcolor": "white",
             "linecolor": "white",
             "minorgridcolor": "white",
             "startlinecolor": "#2a3f5f"
            },
            "type": "carpet"
           }
          ],
          "choropleth": [
           {
            "colorbar": {
             "outlinewidth": 0,
             "ticks": ""
            },
            "type": "choropleth"
           }
          ],
          "contour": [
           {
            "colorbar": {
             "outlinewidth": 0,
             "ticks": ""
            },
            "colorscale": [
             [
              0,
              "#0d0887"
             ],
             [
              0.1111111111111111,
              "#46039f"
             ],
             [
              0.2222222222222222,
              "#7201a8"
             ],
             [
              0.3333333333333333,
              "#9c179e"
             ],
             [
              0.4444444444444444,
              "#bd3786"
             ],
             [
              0.5555555555555556,
              "#d8576b"
             ],
             [
              0.6666666666666666,
              "#ed7953"
             ],
             [
              0.7777777777777778,
              "#fb9f3a"
             ],
             [
              0.8888888888888888,
              "#fdca26"
             ],
             [
              1,
              "#f0f921"
             ]
            ],
            "type": "contour"
           }
          ],
          "contourcarpet": [
           {
            "colorbar": {
             "outlinewidth": 0,
             "ticks": ""
            },
            "type": "contourcarpet"
           }
          ],
          "heatmap": [
           {
            "colorbar": {
             "outlinewidth": 0,
             "ticks": ""
            },
            "colorscale": [
             [
              0,
              "#0d0887"
             ],
             [
              0.1111111111111111,
              "#46039f"
             ],
             [
              0.2222222222222222,
              "#7201a8"
             ],
             [
              0.3333333333333333,
              "#9c179e"
             ],
             [
              0.4444444444444444,
              "#bd3786"
             ],
             [
              0.5555555555555556,
              "#d8576b"
             ],
             [
              0.6666666666666666,
              "#ed7953"
             ],
             [
              0.7777777777777778,
              "#fb9f3a"
             ],
             [
              0.8888888888888888,
              "#fdca26"
             ],
             [
              1,
              "#f0f921"
             ]
            ],
            "type": "heatmap"
           }
          ],
          "histogram": [
           {
            "marker": {
             "pattern": {
              "fillmode": "overlay",
              "size": 10,
              "solidity": 0.2
             }
            },
            "type": "histogram"
           }
          ],
          "histogram2d": [
           {
            "colorbar": {
             "outlinewidth": 0,
             "ticks": ""
            },
            "colorscale": [
             [
              0,
              "#0d0887"
             ],
             [
              0.1111111111111111,
              "#46039f"
             ],
             [
              0.2222222222222222,
              "#7201a8"
             ],
             [
              0.3333333333333333,
              "#9c179e"
             ],
             [
              0.4444444444444444,
              "#bd3786"
             ],
             [
              0.5555555555555556,
              "#d8576b"
             ],
             [
              0.6666666666666666,
              "#ed7953"
             ],
             [
              0.7777777777777778,
              "#fb9f3a"
             ],
             [
              0.8888888888888888,
              "#fdca26"
             ],
             [
              1,
              "#f0f921"
             ]
            ],
            "type": "histogram2d"
           }
          ],
          "histogram2dcontour": [
           {
            "colorbar": {
             "outlinewidth": 0,
             "ticks": ""
            },
            "colorscale": [
             [
              0,
              "#0d0887"
             ],
             [
              0.1111111111111111,
              "#46039f"
             ],
             [
              0.2222222222222222,
              "#7201a8"
             ],
             [
              0.3333333333333333,
              "#9c179e"
             ],
             [
              0.4444444444444444,
              "#bd3786"
             ],
             [
              0.5555555555555556,
              "#d8576b"
             ],
             [
              0.6666666666666666,
              "#ed7953"
             ],
             [
              0.7777777777777778,
              "#fb9f3a"
             ],
             [
              0.8888888888888888,
              "#fdca26"
             ],
             [
              1,
              "#f0f921"
             ]
            ],
            "type": "histogram2dcontour"
           }
          ],
          "mesh3d": [
           {
            "colorbar": {
             "outlinewidth": 0,
             "ticks": ""
            },
            "type": "mesh3d"
           }
          ],
          "parcoords": [
           {
            "line": {
             "colorbar": {
              "outlinewidth": 0,
              "ticks": ""
             }
            },
            "type": "parcoords"
           }
          ],
          "pie": [
           {
            "automargin": true,
            "type": "pie"
           }
          ],
          "scatter": [
           {
            "fillpattern": {
             "fillmode": "overlay",
             "size": 10,
             "solidity": 0.2
            },
            "type": "scatter"
           }
          ],
          "scatter3d": [
           {
            "line": {
             "colorbar": {
              "outlinewidth": 0,
              "ticks": ""
             }
            },
            "marker": {
             "colorbar": {
              "outlinewidth": 0,
              "ticks": ""
             }
            },
            "type": "scatter3d"
           }
          ],
          "scattercarpet": [
           {
            "marker": {
             "colorbar": {
              "outlinewidth": 0,
              "ticks": ""
             }
            },
            "type": "scattercarpet"
           }
          ],
          "scattergeo": [
           {
            "marker": {
             "colorbar": {
              "outlinewidth": 0,
              "ticks": ""
             }
            },
            "type": "scattergeo"
           }
          ],
          "scattergl": [
           {
            "marker": {
             "colorbar": {
              "outlinewidth": 0,
              "ticks": ""
             }
            },
            "type": "scattergl"
           }
          ],
          "scattermap": [
           {
            "marker": {
             "colorbar": {
              "outlinewidth": 0,
              "ticks": ""
             }
            },
            "type": "scattermap"
           }
          ],
          "scattermapbox": [
           {
            "marker": {
             "colorbar": {
              "outlinewidth": 0,
              "ticks": ""
             }
            },
            "type": "scattermapbox"
           }
          ],
          "scatterpolar": [
           {
            "marker": {
             "colorbar": {
              "outlinewidth": 0,
              "ticks": ""
             }
            },
            "type": "scatterpolar"
           }
          ],
          "scatterpolargl": [
           {
            "marker": {
             "colorbar": {
              "outlinewidth": 0,
              "ticks": ""
             }
            },
            "type": "scatterpolargl"
           }
          ],
          "scatterternary": [
           {
            "marker": {
             "colorbar": {
              "outlinewidth": 0,
              "ticks": ""
             }
            },
            "type": "scatterternary"
           }
          ],
          "surface": [
           {
            "colorbar": {
             "outlinewidth": 0,
             "ticks": ""
            },
            "colorscale": [
             [
              0,
              "#0d0887"
             ],
             [
              0.1111111111111111,
              "#46039f"
             ],
             [
              0.2222222222222222,
              "#7201a8"
             ],
             [
              0.3333333333333333,
              "#9c179e"
             ],
             [
              0.4444444444444444,
              "#bd3786"
             ],
             [
              0.5555555555555556,
              "#d8576b"
             ],
             [
              0.6666666666666666,
              "#ed7953"
             ],
             [
              0.7777777777777778,
              "#fb9f3a"
             ],
             [
              0.8888888888888888,
              "#fdca26"
             ],
             [
              1,
              "#f0f921"
             ]
            ],
            "type": "surface"
           }
          ],
          "table": [
           {
            "cells": {
             "fill": {
              "color": "#EBF0F8"
             },
             "line": {
              "color": "white"
             }
            },
            "header": {
             "fill": {
              "color": "#C8D4E3"
             },
             "line": {
              "color": "white"
             }
            },
            "type": "table"
           }
          ]
         },
         "layout": {
          "annotationdefaults": {
           "arrowcolor": "#2a3f5f",
           "arrowhead": 0,
           "arrowwidth": 1
          },
          "autotypenumbers": "strict",
          "coloraxis": {
           "colorbar": {
            "outlinewidth": 0,
            "ticks": ""
           }
          },
          "colorscale": {
           "diverging": [
            [
             0,
             "#8e0152"
            ],
            [
             0.1,
             "#c51b7d"
            ],
            [
             0.2,
             "#de77ae"
            ],
            [
             0.3,
             "#f1b6da"
            ],
            [
             0.4,
             "#fde0ef"
            ],
            [
             0.5,
             "#f7f7f7"
            ],
            [
             0.6,
             "#e6f5d0"
            ],
            [
             0.7,
             "#b8e186"
            ],
            [
             0.8,
             "#7fbc41"
            ],
            [
             0.9,
             "#4d9221"
            ],
            [
             1,
             "#276419"
            ]
           ],
           "sequential": [
            [
             0,
             "#0d0887"
            ],
            [
             0.1111111111111111,
             "#46039f"
            ],
            [
             0.2222222222222222,
             "#7201a8"
            ],
            [
             0.3333333333333333,
             "#9c179e"
            ],
            [
             0.4444444444444444,
             "#bd3786"
            ],
            [
             0.5555555555555556,
             "#d8576b"
            ],
            [
             0.6666666666666666,
             "#ed7953"
            ],
            [
             0.7777777777777778,
             "#fb9f3a"
            ],
            [
             0.8888888888888888,
             "#fdca26"
            ],
            [
             1,
             "#f0f921"
            ]
           ],
           "sequentialminus": [
            [
             0,
             "#0d0887"
            ],
            [
             0.1111111111111111,
             "#46039f"
            ],
            [
             0.2222222222222222,
             "#7201a8"
            ],
            [
             0.3333333333333333,
             "#9c179e"
            ],
            [
             0.4444444444444444,
             "#bd3786"
            ],
            [
             0.5555555555555556,
             "#d8576b"
            ],
            [
             0.6666666666666666,
             "#ed7953"
            ],
            [
             0.7777777777777778,
             "#fb9f3a"
            ],
            [
             0.8888888888888888,
             "#fdca26"
            ],
            [
             1,
             "#f0f921"
            ]
           ]
          },
          "colorway": [
           "#636efa",
           "#EF553B",
           "#00cc96",
           "#ab63fa",
           "#FFA15A",
           "#19d3f3",
           "#FF6692",
           "#B6E880",
           "#FF97FF",
           "#FECB52"
          ],
          "font": {
           "color": "#2a3f5f"
          },
          "geo": {
           "bgcolor": "white",
           "lakecolor": "white",
           "landcolor": "#E5ECF6",
           "showlakes": true,
           "showland": true,
           "subunitcolor": "white"
          },
          "hoverlabel": {
           "align": "left"
          },
          "hovermode": "closest",
          "mapbox": {
           "style": "light"
          },
          "paper_bgcolor": "white",
          "plot_bgcolor": "#E5ECF6",
          "polar": {
           "angularaxis": {
            "gridcolor": "white",
            "linecolor": "white",
            "ticks": ""
           },
           "bgcolor": "#E5ECF6",
           "radialaxis": {
            "gridcolor": "white",
            "linecolor": "white",
            "ticks": ""
           }
          },
          "scene": {
           "xaxis": {
            "backgroundcolor": "#E5ECF6",
            "gridcolor": "white",
            "gridwidth": 2,
            "linecolor": "white",
            "showbackground": true,
            "ticks": "",
            "zerolinecolor": "white"
           },
           "yaxis": {
            "backgroundcolor": "#E5ECF6",
            "gridcolor": "white",
            "gridwidth": 2,
            "linecolor": "white",
            "showbackground": true,
            "ticks": "",
            "zerolinecolor": "white"
           },
           "zaxis": {
            "backgroundcolor": "#E5ECF6",
            "gridcolor": "white",
            "gridwidth": 2,
            "linecolor": "white",
            "showbackground": true,
            "ticks": "",
            "zerolinecolor": "white"
           }
          },
          "shapedefaults": {
           "line": {
            "color": "#2a3f5f"
           }
          },
          "ternary": {
           "aaxis": {
            "gridcolor": "white",
            "linecolor": "white",
            "ticks": ""
           },
           "baxis": {
            "gridcolor": "white",
            "linecolor": "white",
            "ticks": ""
           },
           "bgcolor": "#E5ECF6",
           "caxis": {
            "gridcolor": "white",
            "linecolor": "white",
            "ticks": ""
           }
          },
          "title": {
           "x": 0.05
          },
          "xaxis": {
           "automargin": true,
           "gridcolor": "white",
           "linecolor": "white",
           "ticks": "",
           "title": {
            "standoff": 15
           },
           "zerolinecolor": "white",
           "zerolinewidth": 2
          },
          "yaxis": {
           "automargin": true,
           "gridcolor": "white",
           "linecolor": "white",
           "ticks": "",
           "title": {
            "standoff": 15
           },
           "zerolinecolor": "white",
           "zerolinewidth": 2
          }
         }
        },
        "title": {
         "font": {
          "size": 16
         },
         "text": "Rete delle Interazioni IoT<br><sub>Componenti connesse: 1<br>Componente più grande: 60 nodi</sub>"
        },
        "xaxis": {
         "showgrid": false,
         "showticklabels": false,
         "zeroline": false
        },
        "yaxis": {
         "showgrid": false,
         "showticklabels": false,
         "zeroline": false
        }
       }
      }
     },
     "metadata": {},
     "output_type": "display_data"
    },
    {
     "name": "stdout",
     "output_type": "stream",
     "text": [
      "\n",
      "======================================================================\n",
      "📋 REPORT RIASSUNTIVO ANALISI INTERAZIONI IoT\n",
      "======================================================================\n",
      "\n",
      "🔍 STATISTICHE GENERALI:\n",
      "   • Rilevazioni totali: 1,788\n",
      "   • Dispositivi unici: 60\n",
      "   • Durata evento: 0.3 ore\n",
      "   • Media rilevazioni/ora: 6089.6\n",
      "\n",
      "🤝 INTERAZIONI:\n",
      "   • Interazioni totali: 186\n",
      "   • Durata media: 20.9 secondi\n",
      "   • Interazione più lunga: 87.3 secondi\n",
      "   • Tempo totale di interazione: 64.7 minuti\n",
      "\n",
      "🕸️ RETE SOCIALE:\n",
      "   • Nodi: 60, Archi: 135\n",
      "   • Densità rete: 0.076\n",
      "   • Clustering medio: 0.452\n",
      "   • Componenti connesse: 1\n",
      "   • Diametro: 8\n",
      "   • Lunghezza media percorso: 3.68\n",
      "   • Comunità rilevate: 8\n",
      "\n",
      "🏆 TOP DISPOSITIVI:\n",
      "   1. 66fffc05-4e9... - 8 contatti, 219s di interazione\n",
      "   2. 548dcd41-c18... - 8 contatti, 218s di interazione\n",
      "   3. 65472b6f-188... - 7 contatti, 340s di interazione\n",
      "🔗 Analisi dettagliata della connettività...\n",
      "   📊 Componenti connesse: 1\n",
      "   🕸️ Densità componente 1: 0.076\n",
      "\n",
      "======================================================================\n"
     ]
    }
   ],
   "source": [
    "analyzer = analyze_iot_data(df)\n",
    "\n",
    "interactions = analyzer.interactions_df\n",
    "device_stats = analyzer.device_stats_df\n",
    "network_metrics = analyzer.network_metrics\n",
    "communities = analyzer.communities"
   ]
  },
  {
   "cell_type": "code",
   "execution_count": 9,
   "id": "c9eef38c",
   "metadata": {},
   "outputs": [
    {
     "name": "stdout",
     "output_type": "stream",
     "text": [
      "📊 ANALISI DELLE INTERAZIONI\n",
      "Numero di interazioni processate: 186\n",
      "Durata media interazione: 20.9 secondi\n",
      "Durata totale di tutte le interazioni: 1.08 ore\n"
     ]
    },
    {
     "data": {
      "image/png": "[encoded data removed]",
      "text/plain": [
       "<Figure size 1200x500 with 2 Axes>"
      ]
     },
     "metadata": {},
     "output_type": "display_data"
    },
    {
     "name": "stdout",
     "output_type": "stream",
     "text": [
      "\n",
      "\n",
      "👥 ANALISI DEI DISPOSITIVI\n",
      "Numero dispositivi analizzati: 60\n"
     ]
    },
    {
     "data": {
      "image/png": "[encoded data removed]",
      "text/plain": [
       "<Figure size 1200x1000 with 5 Axes>"
      ]
     },
     "metadata": {},
     "output_type": "display_data"
    },
    {
     "name": "stdout",
     "output_type": "stream",
     "text": [
      "\n",
      "\n",
      "🕸️ ANALISI DELLA RETE SOCIALE\n"
     ]
    },
    {
     "data": {
      "image/png": "[encoded data removed]",
      "text/plain": [
       "<Figure size 1500x500 with 3 Axes>"
      ]
     },
     "metadata": {},
     "output_type": "display_data"
    },
    {
     "name": "stdout",
     "output_type": "stream",
     "text": [
      "\n",
      "\n",
      "👥 ANALISI DELLE COMUNITÀ\n",
      "Numero di comunità rilevate: 8\n",
      "Dimensione media comunità: 7.5\n",
      "Dimensione comunità più grande: 8\n"
     ]
    },
    {
     "data": {
      "image/png": "[encoded data removed]",
      "text/plain": [
       "<Figure size 1200x500 with 2 Axes>"
      ]
     },
     "metadata": {},
     "output_type": "display_data"
    },
    {
     "name": "stdout",
     "output_type": "stream",
     "text": [
      "\n",
      "================================================================================\n",
      "✅ ANALISI ESPLORATIVA COMPLETATA!\n",
      "================================================================================\n"
     ]
    }
   ],
   "source": [
    "# =============================================================================\n",
    "# ESPLORAZIONE AVANZATA E ROBUSTA DEI RISULTATI\n",
    "# =============================================================================\n",
    "\n",
    "# Funzione helper per evitare errori su plot vuoti\n",
    "def show_plot():\n",
    "    try:\n",
    "        plt.tight_layout()\n",
    "        plt.show()\n",
    "    except Exception as e:\n",
    "        print(f\"Avviso: impossibile mostrare il plot. ({e})\")\n",
    "\n",
    "# =============================================================================\n",
    "# 1. ANALISI DELLE INTERAZIONI\n",
    "# =============================================================================\n",
    "print(\"📊 ANALISI DELLE INTERAZIONI\")\n",
    "if not interactions.empty:\n",
    "    print(f\"Numero di interazioni processate: {len(interactions)}\")\n",
    "    print(f\"Durata media interazione: {interactions['duration'].mean():.1f} secondi\")\n",
    "    print(f\"Durata totale di tutte le interazioni: {interactions['duration'].sum()/3600:.2f} ore\")\n",
    "\n",
    "    # Distribuzione delle durate\n",
    "    plt.figure(figsize=(12, 5))\n",
    "    plt.suptitle('Analisi delle Singole Interazioni', fontsize=16)\n",
    "\n",
    "    plt.subplot(1, 2, 1)\n",
    "    plt.hist(interactions['duration'], bins=50, color='skyblue', log=True)\n",
    "    plt.xlabel('Durata (secondi)'); plt.ylabel('Frequenza (log)'); plt.title('Distribuzione Durate Interazioni')\n",
    "\n",
    "    plt.subplot(1, 2, 2)\n",
    "    plt.hist(interactions['detection_count'], bins=30, color='lightcoral', log=True)\n",
    "    plt.xlabel('Numero Rilevazioni per Interazione'); plt.ylabel('Frequenza (log)'); plt.title('Distribuzione Rilevazioni')\n",
    "    show_plot()\n",
    "else:\n",
    "    print(\"Nessuna interazione valida da analizzare.\")\n",
    "\n",
    "# =============================================================================\n",
    "# 2. ANALISI DEI DISPOSITIVI\n",
    "# =============================================================================\n",
    "print(\"\\n\\n👥 ANALISI DEI DISPOSITIVI\")\n",
    "if not device_stats.empty:\n",
    "    print(f\"Numero dispositivi analizzati: {len(device_stats)}\")\n",
    "\n",
    "    # Visualizzazioni statistiche sui dispositivi\n",
    "    plt.figure(figsize=(12, 10))\n",
    "    plt.suptitle('Analisi Statistica dei Dispositivi', fontsize=16)\n",
    "\n",
    "    # Subplot 1: Contatti Unici vs Tempo Totale Interazione\n",
    "    plt.subplot(2, 2, 1)\n",
    "    plt.scatter(device_stats['unique_contacts'], device_stats['total_interaction_time'], \n",
    "               alpha=0.7, c=device_stats['total_interactions'], cmap='viridis')\n",
    "    plt.xlabel('Numero Contatti Unici'); plt.ylabel('Tempo Totale Interazione (s)'); plt.title('Socialità vs Durata')\n",
    "    plt.colorbar(label='Numero Interazioni'); plt.xscale('log'); plt.yscale('log')\n",
    "\n",
    "    # Subplot 2: Distribuzione del rapporto di rilevamento\n",
    "    plt.subplot(2, 2, 2)\n",
    "    total_detections = device_stats['detections_as_receiver'] + device_stats['detections_as_transmitter']\n",
    "    detection_ratio = device_stats['detections_as_receiver'] / total_detections.replace(0, 1) # Evita divisione per zero\n",
    "    plt.hist(detection_ratio.dropna(), bins=20, alpha=0.7, color='orange')\n",
    "    plt.xlabel('Rapporto (Ricezioni / Totali)'); plt.ylabel('Numero Dispositivi'); plt.title('Distribuzione Bilanciamento Ricezione/Trasmissione')\n",
    "\n",
    "    # Subplot 3: Durata media delle interazioni per dispositivo\n",
    "    plt.subplot(2, 2, 3)\n",
    "    plt.boxplot(device_stats['avg_interaction_duration'].dropna())\n",
    "    plt.ylabel('Durata Media Interazione (s)'); plt.title('Box Plot Durata Media Interazioni'); plt.yscale('log')\n",
    "\n",
    "    # Subplot 4: Durata di attività dei dispositivi\n",
    "    plt.subplot(2, 2, 4)\n",
    "    \n",
    "    # <<< SAFETY NET CHE RISOLVE L'ERRORE >>>\n",
    "    # Assicurati che le colonne siano di tipo datetime prima di fare calcoli\n",
    "    first_activity_dt = pd.to_datetime(device_stats['first_activity'], errors='coerce')\n",
    "    last_activity_dt = pd.to_datetime(device_stats['last_activity'], errors='coerce')\n",
    "    \n",
    "    # Ora esegui il calcolo sulle colonne corrette\n",
    "    active_duration_hours = (last_activity_dt - first_activity_dt).dt.total_seconds() / 3600\n",
    "    \n",
    "    plt.hist(active_duration_hours.dropna(), bins=20, alpha=0.7, color='lightgreen')\n",
    "    plt.xlabel('Durata Attività (ore)'); plt.ylabel('Numero Dispositivi'); plt.title('Durata di Partecipazione all\\'Evento')\n",
    "    \n",
    "    show_plot()\n",
    "else:\n",
    "    print(\"Nessuna statistica sui dispositivi da analizzare.\")\n",
    "\n",
    "# =============================================================================\n",
    "# 3. ANALISI DELLE METRICHE DI RETE\n",
    "# =============================================================================\n",
    "print(\"\\n\\n🕸️ ANALISI DELLA RETE SOCIALE\")\n",
    "if network_metrics and network_metrics.get('nodes') is not None and not network_metrics['nodes'].empty:\n",
    "    node_metrics = network_metrics['nodes']\n",
    "    \n",
    "    # Visualizzazione metriche di centralità\n",
    "    plt.figure(figsize=(15, 5))\n",
    "    plt.suptitle('Analisi della Centralità dei Nodi', fontsize=16)\n",
    "    \n",
    "    plt.subplot(1, 3, 1)\n",
    "    plt.hist(node_metrics['degree_centrality'], bins=20, alpha=0.7, color='blue')\n",
    "    plt.xlabel('Degree Centrality'); plt.ylabel('Frequenza'); plt.title('Distribuzione Degree')\n",
    "\n",
    "    plt.subplot(1, 3, 2)\n",
    "    plt.hist(node_metrics['betweenness_centrality'], bins=20, alpha=0.7, color='orange')\n",
    "    plt.xlabel('Betweenness Centrality'); plt.title('Distribuzione Betweenness')\n",
    "\n",
    "    plt.subplot(1, 3, 3)\n",
    "    plt.hist(node_metrics['pagerank_centrality'], bins=20, alpha=0.7, color='purple')\n",
    "    plt.xlabel('PageRank Centrality'); plt.title('Distribuzione PageRank')\n",
    "    show_plot()\n",
    "else:\n",
    "    print(\"Nessuna metrica di rete da analizzare.\")\n",
    "\n",
    "# =============================================================================\n",
    "# 4. ANALISI DELLE COMUNITÀ\n",
    "# =============================================================================\n",
    "print(f\"\\n\\n👥 ANALISI DELLE COMUNITÀ\")\n",
    "if communities:\n",
    "    community_sizes = [len(c) for c in communities if c]\n",
    "    print(f\"Numero di comunità rilevate: {len(community_sizes)}\")\n",
    "    if community_sizes:\n",
    "        print(f\"Dimensione media comunità: {np.mean(community_sizes):.1f}\")\n",
    "        print(f\"Dimensione comunità più grande: {max(community_sizes)}\")\n",
    "\n",
    "        # Visualizzazione dimensioni comunità\n",
    "        plt.figure(figsize=(12, 5))\n",
    "        plt.suptitle('Analisi delle Comunità', fontsize=16)\n",
    "        \n",
    "        plt.subplot(1, 2, 1)\n",
    "        plt.bar(range(len(community_sizes)), sorted(community_sizes, reverse=True))\n",
    "        plt.xlabel('Comunità (ordinate per dimensione)'); plt.ylabel('Numero Membri'); plt.title('Dimensioni delle Comunità'); plt.yscale('log')\n",
    "\n",
    "        plt.subplot(1, 2, 2)\n",
    "        top_communities = sorted(community_sizes, reverse=True)[:10]\n",
    "        labels = [f'C{i+1}' for i in range(len(top_communities))]\n",
    "        if len(community_sizes) > 10:\n",
    "            labels[-1] = 'Altre...'\n",
    "            top_communities[-1] = sum(sorted(community_sizes, reverse=True)[9:])\n",
    "            \n",
    "        plt.pie(top_communities, labels=labels, autopct='%1.1f%%', startangle=90)\n",
    "        plt.title('Distribuzione Percentuale Comunità'); plt.axis('equal')\n",
    "        show_plot()\n",
    "else:\n",
    "    print(\"Nessuna comunità da analizzare.\")\n",
    "\n",
    "print(\"\\n\" + \"=\"*80)\n",
    "print(\"✅ ANALISI ESPLORATIVA COMPLETATA!\")\n",
    "print(\"=\"*80)"
   ]
  },
  {
   "cell_type": "code",
   "execution_count": 10,
   "id": "8228c9ee",
   "metadata": {},
   "outputs": [
    {
     "name": "stdout",
     "output_type": "stream",
     "text": [
      "🔄 Preprocessing delle interazioni...\n",
      "✅ Trovate 186 interazioni valide\n",
      "📊 Calcolando statistiche per dispositivo...\n",
      "🕸️ Creando rete delle interazioni...\n",
      "📈 Calcolando metriche di rete...\n",
      "👥 Rilevando comunità...\n",
      "⏱️ Creando timeline delle interazioni...\n"
     ]
    },
    {
     "data": {
      "application/vnd.plotly.v1+json": {
       "config": {
        "plotlyServerURL": "https://plot.ly"
       },
       "data": [
        {
         "mode": "lines+markers",
         "name": "Rilevazioni/Ora",
         "type": "scatter",
         "x": [
          "2025-08-13T14:00:00.000000000"
         ],
         "xaxis": "x",
         "y": {
          "bdata": "/AY=",
          "dtype": "i2"
         },
         "yaxis": "y"
        },
        {
         "marker": {
          "size": {
           "bdata": "AgICAgMDAwICAgICAgICAgICAgMCBQICAgIDAgICAgICAgMCAwICAgICAgICAwICAgICAgICAgICAwICAgICAgIDAgICAgIDAgIDAgMCAgICAgICAgICAgICAgIEBQIDAgICAgICAgIDAgICAwICAgIDAgIDAgICAgICAgICAgMCAgICAgMCAgICAgICBAICAgICAgICAgICAgMCAgICAgICAgICAgMCAgIEAgICAgICAwIDAgICAgIC",
           "dtype": "i1"
          },
          "sizemin": 4,
          "sizemode": "diameter",
          "sizeref": 0.025
         },
         "mode": "markers",
         "name": "Durata Interazioni",
         "type": "scatter",
         "x": [
          "2025-08-13T14:32:22.845391000",
          "2025-08-13T14:32:25.641882000",
          "2025-08-13T14:32:25.836405000",
          "2025-08-13T14:40:23.111005000",
          "2025-08-13T14:32:32.871633000",
          "2025-08-13T14:36:57.548956000",
          "2025-08-13T14:43:43.571881000",
          "2025-08-13T14:36:15.170308000",
          "2025-08-13T14:32:36.709423000",
          "2025-08-13T14:32:36.850026000",
          "2025-08-13T14:34:36.136834000",
          "2025-08-13T14:47:38.712667000",
          "2025-08-13T14:34:07.331750000",
          "2025-08-13T14:41:29.938656000",
          "2025-08-13T14:32:43.711707000",
          "2025-08-13T14:32:43.801854000",
          "2025-08-13T14:34:56.932378000",
          "2025-08-13T14:44:59.741964000",
          "2025-08-13T14:45:48.208668000",
          "2025-08-13T14:38:40.902240000",
          "2025-08-13T14:37:03.746782000",
          "2025-08-13T14:39:13.662438000",
          "2025-08-13T14:44:14.406476000",
          "2025-08-13T14:49:12.980442000",
          "2025-08-13T14:45:31.567548000",
          "2025-08-13T14:39:13.707555000",
          "2025-08-13T14:46:03.688159000",
          "2025-08-13T14:40:23.154623000",
          "2025-08-13T14:41:52.698194000",
          "2025-08-13T14:44:32.991185000",
          "2025-08-13T14:41:52.789580000",
          "2025-08-13T14:32:47.037234000",
          "2025-08-13T14:36:14.336661000",
          "2025-08-13T14:45:40.476816000",
          "2025-08-13T14:32:49.761923000",
          "2025-08-13T14:48:15.660894000",
          "2025-08-13T14:41:20.150225000",
          "2025-08-13T14:39:37.969220000",
          "2025-08-13T14:44:04.752588000",
          "2025-08-13T14:33:06.769181000",
          "2025-08-13T14:33:06.814268000",
          "2025-08-13T14:35:59.374640000",
          "2025-08-13T14:42:51.335600000",
          "2025-08-13T14:44:43.189774000",
          "2025-08-13T14:48:45.544979000",
          "2025-08-13T14:43:14.144551000",
          "2025-08-13T14:39:00.799374000",
          "2025-08-13T14:33:12.836860000",
          "2025-08-13T14:43:08.581372000",
          "2025-08-13T14:42:17.040293000",
          "2025-08-13T14:43:43.434879000",
          "2025-08-13T14:39:50.637284000",
          "2025-08-13T14:39:37.676093000",
          "2025-08-13T14:33:17.969887000",
          "2025-08-13T14:36:15.269029000",
          "2025-08-13T14:42:34.922652000",
          "2025-08-13T14:35:54.854708000",
          "2025-08-13T14:44:07.806350000",
          "2025-08-13T14:34:56.835155000",
          "2025-08-13T14:36:09.479957000",
          "2025-08-13T14:42:01.720743000",
          "2025-08-13T14:37:04.571650000",
          "2025-08-13T14:37:30.777473000",
          "2025-08-13T14:45:06.570580000",
          "2025-08-13T14:38:31.010789000",
          "2025-08-13T14:35:09.832434000",
          "2025-08-13T14:43:58.459797000",
          "2025-08-13T14:36:33.444861000",
          "2025-08-13T14:45:52.575813000",
          "2025-08-13T14:35:44.275478000",
          "2025-08-13T14:39:37.726787000",
          "2025-08-13T14:33:38.704263000",
          "2025-08-13T14:35:14.299686000",
          "2025-08-13T14:42:19.357298000",
          "2025-08-13T14:34:58.127663000",
          "2025-08-13T14:38:45.310565000",
          "2025-08-13T14:33:43.003883000",
          "2025-08-13T14:39:37.773077000",
          "2025-08-13T14:48:14.330893000",
          "2025-08-13T14:33:47.168492000",
          "2025-08-13T14:35:57.024675000",
          "2025-08-13T14:36:59.093255000",
          "2025-08-13T14:33:47.211537000",
          "2025-08-13T14:33:47.952452000",
          "2025-08-13T14:44:51.268667000",
          "2025-08-13T14:33:48.179449000",
          "2025-08-13T14:33:49.729383000",
          "2025-08-13T14:38:35.508719000",
          "2025-08-13T14:44:34.385227000",
          "2025-08-13T14:48:38.689264000",
          "2025-08-13T14:33:52.124209000",
          "2025-08-13T14:41:25.571640000",
          "2025-08-13T14:41:55.459445000",
          "2025-08-13T14:34:03.890809000",
          "2025-08-13T14:49:48.934713000",
          "2025-08-13T14:34:03.936570000",
          "2025-08-13T14:43:07.922277000",
          "2025-08-13T14:44:25.280479000",
          "2025-08-13T14:34:07.285263000",
          "2025-08-13T14:36:40.421597000",
          "2025-08-13T14:40:17.903202000",
          "2025-08-13T14:34:11.844300000",
          "2025-08-13T14:37:38.149378000",
          "2025-08-13T14:34:11.935160000",
          "2025-08-13T14:47:32.000564000",
          "2025-08-13T14:34:22.116152000",
          "2025-08-13T14:47:43.342390000",
          "2025-08-13T14:45:52.132923000",
          "2025-08-13T14:41:37.619755000",
          "2025-08-13T14:41:35.595778000",
          "2025-08-13T14:38:35.421656000",
          "2025-08-13T14:34:55.201785000",
          "2025-08-13T14:38:35.464616000",
          "2025-08-13T14:35:08.526343000",
          "2025-08-13T14:34:27.911172000",
          "2025-08-13T14:41:02.688006000",
          "2025-08-13T14:34:31.856065000",
          "2025-08-13T14:40:33.760851000",
          "2025-08-13T14:34:40.229331000",
          "2025-08-13T14:43:59.285039000",
          "2025-08-13T14:40:14.580349000",
          "2025-08-13T14:43:16.368348000",
          "2025-08-13T14:48:13.799508000",
          "2025-08-13T14:36:30.972736000",
          "2025-08-13T14:41:32.386420000",
          "2025-08-13T14:43:04.242112000",
          "2025-08-13T14:43:43.480699000",
          "2025-08-13T14:40:52.254232000",
          "2025-08-13T14:35:16.043519000",
          "2025-08-13T14:42:27.646038000",
          "2025-08-13T14:47:53.080124000",
          "2025-08-13T14:38:14.536768000",
          "2025-08-13T14:44:45.200237000",
          "2025-08-13T14:47:43.471954000",
          "2025-08-13T14:49:49.806767000",
          "2025-08-13T14:35:28.336990000",
          "2025-08-13T14:35:30.412511000",
          "2025-08-13T14:41:30.125954000",
          "2025-08-13T14:49:10.384055000",
          "2025-08-13T14:37:00.558706000",
          "2025-08-13T14:43:28.329563000",
          "2025-08-13T14:35:40.320886000",
          "2025-08-13T14:40:06.840885000",
          "2025-08-13T14:41:49.383449000",
          "2025-08-13T14:44:55.966822000",
          "2025-08-13T14:42:41.189796000",
          "2025-08-13T14:35:55.173560000",
          "2025-08-13T14:36:09.435637000",
          "2025-08-13T14:43:36.224967000",
          "2025-08-13T14:36:30.927465000",
          "2025-08-13T14:36:32.513030000",
          "2025-08-13T14:43:29.010310000",
          "2025-08-13T14:36:39.456033000",
          "2025-08-13T14:36:46.078720000",
          "2025-08-13T14:44:33.081878000",
          "2025-08-13T14:38:45.262690000",
          "2025-08-13T14:44:59.695567000",
          "2025-08-13T14:37:00.605623000",
          "2025-08-13T14:45:06.614693000",
          "2025-08-13T14:37:04.617971000",
          "2025-08-13T14:37:30.821317000",
          "2025-08-13T14:37:38.102049000",
          "2025-08-13T14:49:49.759513000",
          "2025-08-13T14:43:53.532083000",
          "2025-08-13T14:38:09.389918000",
          "2025-08-13T14:41:18.066889000",
          "2025-08-13T14:46:04.920909000",
          "2025-08-13T14:38:27.447816000",
          "2025-08-13T14:48:11.833371000",
          "2025-08-13T14:38:30.966816000",
          "2025-08-13T14:41:20.107283000",
          "2025-08-13T14:38:31.528815000",
          "2025-08-13T14:39:50.774105000",
          "2025-08-13T14:40:32.882142000",
          "2025-08-13T14:42:22.947709000",
          "2025-08-13T14:41:06.097164000",
          "2025-08-13T14:41:29.984969000",
          "2025-08-13T14:41:30.030004000",
          "2025-08-13T14:42:17.084674000",
          "2025-08-13T14:44:39.974179000",
          "2025-08-13T14:48:00.506862000",
          "2025-08-13T14:44:10.957153000",
          "2025-08-13T14:44:11.046470000",
          "2025-08-13T14:45:32.432414000",
          "2025-08-13T14:48:14.234476000",
          "2025-08-13T14:48:23.993000000"
         ],
         "xaxis": "x2",
         "y": {
          "bdata": "X10VqMWEOUCiCRSxiEE4QKGi6lc61yVAZYo5CDpyI0A/rDdqhT08QHY1ecpqJkRAUDblCu8GP0DIsfUM4TA4QFvQe2MIwCBACi/BqQ8AMEBVo1cDlAY1QJMa2gBsyD1AS1ewjXjmOkCFsvD1tb45QHxHjQkxpxRAv9Nkxtv+M0Agf2lRn5QqQCVcyCO4ySZAdsO2RZmdNkDEXb2KjC5EQDKuuDgqtxZABfpEniTRVUA17PfEOkU5QBFXzt4ZETlAEsE4uHSkNkC7RsuBHpoeQLznwHKEokZATtaoh2ikI0BzLO+qB6wdQPC+KhcqYzVAryKjA5JAG0Agm+RH/HofQMEb0qjAETlA7blMTYLDPECrksg+yDYyQIDSUKOQGDpAS1mGONbdSEAdBB2tavkkQFqCjIAK3zhAAAAAAABQJkAZcQFolAo0QFdbsb/syjhAiSgmb4DhO0CKj0/IzgcyQNcxrrg4CjpAYM0BgjmERkAn3ZbIBT8xQMx+3enO+zNAW8064/vqKEAuymyQSQY8QH5VLlT+rSdAdm9FYoL+OkC1bRgFwQcyQOjewyXH3RtAj1GeeTnsOkDmWrQAbUsYQBYTm49rNztAVkW4yahaRUCV10roLrk9QCOD3EWYUhpAO/vKg/Q8IEArNBDLZm4cQKp8z0iEAjVAzt+EQgRcGEAoY3yYvewbQGSuDKoN/jFAgzKNJhfbKUDcniCx3Vk8QPfkYaHW3DtAR+f8FMcZJkDVBFH3AXAiQGgibHh6j0ZARaFl3T8mK0B2N091yI07QCQrvwzGeEFAXoHoSZn4O0Aq5iDoaINBQEonEkw1iylAdy0hH/TcKUCxUGuadyA8QPbP04BBFjNArJDyk2pfHUBBEYsYdiArQPlNYaWCWjZAQDVeukl8I0CDFDyFXEkpQHi13JkJBjdA14nL8QqkKUCv0XKgh34xQNEhcCTQ2CBA0SAFTyG3L0CrPldbsb8mQPiKbr2mC0JAM6X1twTJUUDCFVCop+8kQO/Lme0Kj0JAXYqryr4HMkDaykv+JwcwQGCvsOB+iD1A4GQbuAMVLkBaLhud88snQA0AVdy47ThAndhD+1gNO0Ba2T7kLZM8QH8xW7IqhjlA/u+ICtX5OkA8LT9wlQ85QIvFbworBSdAdqimJOscMkDvHMpQFUsoQDpY/+cwJzRAj6Z6Mv/oPUC9p3LaU9IpQEQTKGIR+zFAe4hGdxBbIEAiOC7jphI9QM2tEFZjjT5AnPnVHCAUMUCJ7lnXaBE0QMwJ2uTwCTBARKhSswcyJEAOL4hITfs4QC+lLhnHWCpAH7k16bYMOEAtP3CVJ6A3QG6Kx0W1/DJAUfTAx2CVJEBPWriswvo2QGCOHr+3FTZAqUvGMZIFPEDdfY6PFh8lQOYF2EenFjhAWg2Jeyz9NEBJZvUOtx8xQAuz0M5pHiRASRCugEIlKEAG1QYnogs2QHWvk/qyFCxAPWGJB5QNLkDpRe1+FSg7QHl4z4HlSCBADoelgR8iUUDRzf5AuR07QFu0AG2r7T1AS6/NxkoEIUCiRbbz/YQWQNlD+1jBCzRAdELooEssOkCSsG8nESEiQGbbaWtELDVAIEYIjzZqNkCvX7AbthE1QMKJ6NfWDztAb2b0o+GUIkCd2hmmtuhAQBbbpKKxojFALCy4H/D4MUBPzHoxlNc3QIy61t6njjFAqfkq+dgBMkBuv3yyYpgtQLpMTYI3JDtAbO19qgrdI0C+EkiJXV89QLiswmaAHz1AmG4Sg8AKPEBkeOxnsQA4QKmJPh9lfC9AoYUEjC4LPEBU4jrGFc8rQKHyr+WVGzhAsOJUa2FOI0DB5EaRtb44QOlGWFTESShAJO6x9KELIEDx1Y7iHAUyQBhgH526tjFACTVDqij+PUAnM95WegU8QDF8REyJ+DpAborHRbXMPEB6jsh3KUUsQHqKHCJuNiRATgrzHmf+NkAcfjfdsqsgQA2mYfiIqCtA",
          "dtype": "f8"
         },
         "yaxis": "y2"
        }
       ],
       "layout": {
        "annotations": [
         {
          "font": {
           "size": 16
          },
          "showarrow": false,
          "text": "Numero di Rilevazioni per Ora",
          "x": 0.5,
          "xanchor": "center",
          "xref": "paper",
          "y": 1,
          "yanchor": "bottom",
          "yref": "paper"
         },
         {
          "font": {
           "size": 16
          },
          "showarrow": false,
          "text": "Durata Interazioni nel Tempo",
          "x": 0.5,
          "xanchor": "center",
          "xref": "paper",
          "y": 0.45,
          "yanchor": "bottom",
          "yref": "paper"
         }
        ],
        "height": 800,
        "template": {
         "data": {
          "bar": [
           {
            "error_x": {
             "color": "#2a3f5f"
            },
            "error_y": {
             "color": "#2a3f5f"
            },
            "marker": {
             "line": {
              "color": "#E5ECF6",
              "width": 0.5
             },
             "pattern": {
              "fillmode": "overlay",
              "size": 10,
              "solidity": 0.2
             }
            },
            "type": "bar"
           }
          ],
          "barpolar": [
           {
            "marker": {
             "line": {
              "color": "#E5ECF6",
              "width": 0.5
             },
             "pattern": {
              "fillmode": "overlay",
              "size": 10,
              "solidity": 0.2
             }
            },
            "type": "barpolar"
           }
          ],
          "carpet": [
           {
            "aaxis": {
             "endlinecolor": "#2a3f5f",
             "gridcolor": "white",
             "linecolor": "white",
             "minorgridcolor": "white",
             "startlinecolor": "#2a3f5f"
            },
            "baxis": {
             "endlinecolor": "#2a3f5f",
             "gridcolor": "white",
             "linecolor": "white",
             "minorgridcolor": "white",
             "startlinecolor": "#2a3f5f"
            },
            "type": "carpet"
           }
          ],
          "choropleth": [
           {
            "colorbar": {
             "outlinewidth": 0,
             "ticks": ""
            },
            "type": "choropleth"
           }
          ],
          "contour": [
           {
            "colorbar": {
             "outlinewidth": 0,
             "ticks": ""
            },
            "colorscale": [
             [
              0,
              "#0d0887"
             ],
             [
              0.1111111111111111,
              "#46039f"
             ],
             [
              0.2222222222222222,
              "#7201a8"
             ],
             [
              0.3333333333333333,
              "#9c179e"
             ],
             [
              0.4444444444444444,
              "#bd3786"
             ],
             [
              0.5555555555555556,
              "#d8576b"
             ],
             [
              0.6666666666666666,
              "#ed7953"
             ],
             [
              0.7777777777777778,
              "#fb9f3a"
             ],
             [
              0.8888888888888888,
              "#fdca26"
             ],
             [
              1,
              "#f0f921"
             ]
            ],
            "type": "contour"
           }
          ],
          "contourcarpet": [
           {
            "colorbar": {
             "outlinewidth": 0,
             "ticks": ""
            },
            "type": "contourcarpet"
           }
          ],
          "heatmap": [
           {
            "colorbar": {
             "outlinewidth": 0,
             "ticks": ""
            },
            "colorscale": [
             [
              0,
              "#0d0887"
             ],
             [
              0.1111111111111111,
              "#46039f"
             ],
             [
              0.2222222222222222,
              "#7201a8"
             ],
             [
              0.3333333333333333,
              "#9c179e"
             ],
             [
              0.4444444444444444,
              "#bd3786"
             ],
             [
              0.5555555555555556,
              "#d8576b"
             ],
             [
              0.6666666666666666,
              "#ed7953"
             ],
             [
              0.7777777777777778,
              "#fb9f3a"
             ],
             [
              0.8888888888888888,
              "#fdca26"
             ],
             [
              1,
              "#f0f921"
             ]
            ],
            "type": "heatmap"
           }
          ],
          "histogram": [
           {
            "marker": {
             "pattern": {
              "fillmode": "overlay",
              "size": 10,
              "solidity": 0.2
             }
            },
            "type": "histogram"
           }
          ],
          "histogram2d": [
           {
            "colorbar": {
             "outlinewidth": 0,
             "ticks": ""
            },
            "colorscale": [
             [
              0,
              "#0d0887"
             ],
             [
              0.1111111111111111,
              "#46039f"
             ],
             [
              0.2222222222222222,
              "#7201a8"
             ],
             [
              0.3333333333333333,
              "#9c179e"
             ],
             [
              0.4444444444444444,
              "#bd3786"
             ],
             [
              0.5555555555555556,
              "#d8576b"
             ],
             [
              0.6666666666666666,
              "#ed7953"
             ],
             [
              0.7777777777777778,
              "#fb9f3a"
             ],
             [
              0.8888888888888888,
              "#fdca26"
             ],
             [
              1,
              "#f0f921"
             ]
            ],
            "type": "histogram2d"
           }
          ],
          "histogram2dcontour": [
           {
            "colorbar": {
             "outlinewidth": 0,
             "ticks": ""
            },
            "colorscale": [
             [
              0,
              "#0d0887"
             ],
             [
              0.1111111111111111,
              "#46039f"
             ],
             [
              0.2222222222222222,
              "#7201a8"
             ],
             [
              0.3333333333333333,
              "#9c179e"
             ],
             [
              0.4444444444444444,
              "#bd3786"
             ],
             [
              0.5555555555555556,
              "#d8576b"
             ],
             [
              0.6666666666666666,
              "#ed7953"
             ],
             [
              0.7777777777777778,
              "#fb9f3a"
             ],
             [
              0.8888888888888888,
              "#fdca26"
             ],
             [
              1,
              "#f0f921"
             ]
            ],
            "type": "histogram2dcontour"
           }
          ],
          "mesh3d": [
           {
            "colorbar": {
             "outlinewidth": 0,
             "ticks": ""
            },
            "type": "mesh3d"
           }
          ],
          "parcoords": [
           {
            "line": {
             "colorbar": {
              "outlinewidth": 0,
              "ticks": ""
             }
            },
            "type": "parcoords"
           }
          ],
          "pie": [
           {
            "automargin": true,
            "type": "pie"
           }
          ],
          "scatter": [
           {
            "fillpattern": {
             "fillmode": "overlay",
             "size": 10,
             "solidity": 0.2
            },
            "type": "scatter"
           }
          ],
          "scatter3d": [
           {
            "line": {
             "colorbar": {
              "outlinewidth": 0,
              "ticks": ""
             }
            },
            "marker": {
             "colorbar": {
              "outlinewidth": 0,
              "ticks": ""
             }
            },
            "type": "scatter3d"
           }
          ],
          "scattercarpet": [
           {
            "marker": {
             "colorbar": {
              "outlinewidth": 0,
              "ticks": ""
             }
            },
            "type": "scattercarpet"
           }
          ],
          "scattergeo": [
           {
            "marker": {
             "colorbar": {
              "outlinewidth": 0,
              "ticks": ""
             }
            },
            "type": "scattergeo"
           }
          ],
          "scattergl": [
           {
            "marker": {
             "colorbar": {
              "outlinewidth": 0,
              "ticks": ""
             }
            },
            "type": "scattergl"
           }
          ],
          "scattermap": [
           {
            "marker": {
             "colorbar": {
              "outlinewidth": 0,
              "ticks": ""
             }
            },
            "type": "scattermap"
           }
          ],
          "scattermapbox": [
           {
            "marker": {
             "colorbar": {
              "outlinewidth": 0,
              "ticks": ""
             }
            },
            "type": "scattermapbox"
           }
          ],
          "scatterpolar": [
           {
            "marker": {
             "colorbar": {
              "outlinewidth": 0,
              "ticks": ""
             }
            },
            "type": "scatterpolar"
           }
          ],
          "scatterpolargl": [
           {
            "marker": {
             "colorbar": {
              "outlinewidth": 0,
              "ticks": ""
             }
            },
            "type": "scatterpolargl"
           }
          ],
          "scatterternary": [
           {
            "marker": {
             "colorbar": {
              "outlinewidth": 0,
              "ticks": ""
             }
            },
            "type": "scatterternary"
           }
          ],
          "surface": [
           {
            "colorbar": {
             "outlinewidth": 0,
             "ticks": ""
            },
            "colorscale": [
             [
              0,
              "#0d0887"
             ],
             [
              0.1111111111111111,
              "#46039f"
             ],
             [
              0.2222222222222222,
              "#7201a8"
             ],
             [
              0.3333333333333333,
              "#9c179e"
             ],
             [
              0.4444444444444444,
              "#bd3786"
             ],
             [
              0.5555555555555556,
              "#d8576b"
             ],
             [
              0.6666666666666666,
              "#ed7953"
             ],
             [
              0.7777777777777778,
              "#fb9f3a"
             ],
             [
              0.8888888888888888,
              "#fdca26"
             ],
             [
              1,
              "#f0f921"
             ]
            ],
            "type": "surface"
           }
          ],
          "table": [
           {
            "cells": {
             "fill": {
              "color": "#EBF0F8"
             },
             "line": {
              "color": "white"
             }
            },
            "header": {
             "fill": {
              "color": "#C8D4E3"
             },
             "line": {
              "color": "white"
             }
            },
            "type": "table"
           }
          ]
         },
         "layout": {
          "annotationdefaults": {
           "arrowcolor": "#2a3f5f",
           "arrowhead": 0,
           "arrowwidth": 1
          },
          "autotypenumbers": "strict",
          "coloraxis": {
           "colorbar": {
            "outlinewidth": 0,
            "ticks": ""
           }
          },
          "colorscale": {
           "diverging": [
            [
             0,
             "#8e0152"
            ],
            [
             0.1,
             "#c51b7d"
            ],
            [
             0.2,
             "#de77ae"
            ],
            [
             0.3,
             "#f1b6da"
            ],
            [
             0.4,
             "#fde0ef"
            ],
            [
             0.5,
             "#f7f7f7"
            ],
            [
             0.6,
             "#e6f5d0"
            ],
            [
             0.7,
             "#b8e186"
            ],
            [
             0.8,
             "#7fbc41"
            ],
            [
             0.9,
             "#4d9221"
            ],
            [
             1,
             "#276419"
            ]
           ],
           "sequential": [
            [
             0,
             "#0d0887"
            ],
            [
             0.1111111111111111,
             "#46039f"
            ],
            [
             0.2222222222222222,
             "#7201a8"
            ],
            [
             0.3333333333333333,
             "#9c179e"
            ],
            [
             0.4444444444444444,
             "#bd3786"
            ],
            [
             0.5555555555555556,
             "#d8576b"
            ],
            [
             0.6666666666666666,
             "#ed7953"
            ],
            [
             0.7777777777777778,
             "#fb9f3a"
            ],
            [
             0.8888888888888888,
             "#fdca26"
            ],
            [
             1,
             "#f0f921"
            ]
           ],
           "sequentialminus": [
            [
             0,
             "#0d0887"
            ],
            [
             0.1111111111111111,
             "#46039f"
            ],
            [
             0.2222222222222222,
             "#7201a8"
            ],
            [
             0.3333333333333333,
             "#9c179e"
            ],
            [
             0.4444444444444444,
             "#bd3786"
            ],
            [
             0.5555555555555556,
             "#d8576b"
            ],
            [
             0.6666666666666666,
             "#ed7953"
            ],
            [
             0.7777777777777778,
             "#fb9f3a"
            ],
            [
             0.8888888888888888,
             "#fdca26"
            ],
            [
             1,
             "#f0f921"
            ]
           ]
          },
          "colorway": [
           "#636efa",
           "#EF553B",
           "#00cc96",
           "#ab63fa",
           "#FFA15A",
           "#19d3f3",
           "#FF6692",
           "#B6E880",
           "#FF97FF",
           "#FECB52"
          ],
          "font": {
           "color": "#2a3f5f"
          },
          "geo": {
           "bgcolor": "white",
           "lakecolor": "white",
           "landcolor": "#E5ECF6",
           "showlakes": true,
           "showland": true,
           "subunitcolor": "white"
          },
          "hoverlabel": {
           "align": "left"
          },
          "hovermode": "closest",
          "mapbox": {
           "style": "light"
          },
          "paper_bgcolor": "white",
          "plot_bgcolor": "#E5ECF6",
          "polar": {
           "angularaxis": {
            "gridcolor": "white",
            "linecolor": "white",
            "ticks": ""
           },
           "bgcolor": "#E5ECF6",
           "radialaxis": {
            "gridcolor": "white",
            "linecolor": "white",
            "ticks": ""
           }
          },
          "scene": {
           "xaxis": {
            "backgroundcolor": "#E5ECF6",
            "gridcolor": "white",
            "gridwidth": 2,
            "linecolor": "white",
            "showbackground": true,
            "ticks": "",
            "zerolinecolor": "white"
           },
           "yaxis": {
            "backgroundcolor": "#E5ECF6",
            "gridcolor": "white",
            "gridwidth": 2,
            "linecolor": "white",
            "showbackground": true,
            "ticks": "",
            "zerolinecolor": "white"
           },
           "zaxis": {
            "backgroundcolor": "#E5ECF6",
            "gridcolor": "white",
            "gridwidth": 2,
            "linecolor": "white",
            "showbackground": true,
            "ticks": "",
            "zerolinecolor": "white"
           }
          },
          "shapedefaults": {
           "line": {
            "color": "#2a3f5f"
           }
          },
          "ternary": {
           "aaxis": {
            "gridcolor": "white",
            "linecolor": "white",
            "ticks": ""
           },
           "baxis": {
            "gridcolor": "white",
            "linecolor": "white",
            "ticks": ""
           },
           "bgcolor": "#E5ECF6",
           "caxis": {
            "gridcolor": "white",
            "linecolor": "white",
            "ticks": ""
           }
          },
          "title": {
           "x": 0.05
          },
          "xaxis": {
           "automargin": true,
           "gridcolor": "white",
           "linecolor": "white",
           "ticks": "",
           "title": {
            "standoff": 15
           },
           "zerolinecolor": "white",
           "zerolinewidth": 2
          },
          "yaxis": {
           "automargin": true,
           "gridcolor": "white",
           "linecolor": "white",
           "ticks": "",
           "title": {
            "standoff": 15
           },
           "zerolinecolor": "white",
           "zerolinewidth": 2
          }
         }
        },
        "title": {
         "text": "Timeline delle Interazioni IoT"
        },
        "xaxis": {
         "anchor": "y",
         "domain": [
          0,
          1
         ]
        },
        "xaxis2": {
         "anchor": "y2",
         "domain": [
          0,
          1
         ]
        },
        "yaxis": {
         "anchor": "x",
         "domain": [
          0.55,
          1
         ]
        },
        "yaxis2": {
         "anchor": "x2",
         "domain": [
          0,
          0.45
         ]
        }
       }
      }
     },
     "metadata": {},
     "output_type": "display_data"
    },
    {
     "name": "stdout",
     "output_type": "stream",
     "text": [
      "🎨 Creando visualizzazione della rete...\n"
     ]
    },
    {
     "data": {
      "application/vnd.plotly.v1+json": {
       "config": {
        "plotlyServerURL": "https://plot.ly"
       },
       "data": [
        {
         "hoverinfo": "none",
         "line": {
          "color": "#888",
          "width": 0.8
         },
         "mode": "lines",
         "type": "scatter",
         "x": [
          -0.5826923685311478,
          -0.3678383869669172,
          null,
          -0.5826923685311478,
          -0.5374279153504314,
          null,
          -0.5826923685311478,
          -0.4455870716356827,
          null,
          -0.5826923685311478,
          -0.6265949402407399,
          null,
          0.3125222368985313,
          0.3670532900733378,
          null,
          0.3125222368985313,
          0.16287424117442878,
          null,
          0.3125222368985313,
          0.47051956551403235,
          null,
          0.3125222368985313,
          0.4801972270283385,
          null,
          0.3125222368985313,
          0.5459177080244022,
          null,
          0.3125222368985313,
          0.33421867797933463,
          null,
          0.2125315557494133,
          0.2878384640965506,
          null,
          0.2125315557494133,
          0.3670532900733378,
          null,
          0.2125315557494133,
          0.410094105291956,
          null,
          0.2125315557494133,
          -0.015795444228373985,
          null,
          0.2125315557494133,
          0.38273827890641254,
          null,
          0.2125315557494133,
          0.29773603995656933,
          null,
          0.5936415153607846,
          0.36035512643413103,
          null,
          0.5936415153607846,
          0.6521621715154711,
          null,
          -0.1467705757800059,
          -0.09594986666031018,
          null,
          -0.1467705757800059,
          -0.14869355114517288,
          null,
          -0.1467705757800059,
          -0.20021034059419834,
          null,
          -0.1467705757800059,
          0.16287424117442878,
          null,
          -0.1467705757800059,
          -0.34589515849021835,
          null,
          -0.1467705757800059,
          -0.3441097210082762,
          null,
          -0.885874394066824,
          -0.5551242110867665,
          null,
          -0.885874394066824,
          -0.9695828824025217,
          null,
          -0.885874394066824,
          -0.7533243101732114,
          null,
          -0.885874394066824,
          -0.9040742524111038,
          null,
          -0.885874394066824,
          -1,
          null,
          -0.20021034059419834,
          -0.09594986666031018,
          null,
          -0.20021034059419834,
          -0.14869355114517288,
          null,
          -0.20021034059419834,
          -0.34589515849021835,
          null,
          -0.20021034059419834,
          -0.3441097210082762,
          null,
          -0.20021034059419834,
          -0.07253110808443135,
          null,
          -0.14869355114517288,
          -0.09594986666031018,
          null,
          -0.14869355114517288,
          0.16287424117442878,
          null,
          -0.14869355114517288,
          -0.3441097210082762,
          null,
          0.1825005978701477,
          0.3690025456244402,
          null,
          0.1825005978701477,
          -0.09616674542170857,
          null,
          0.1825005978701477,
          -0.07834744780093764,
          null,
          0.1825005978701477,
          0.4801972270283385,
          null,
          0.1825005978701477,
          0.045245930545913214,
          null,
          0.1825005978701477,
          0.037290813869462015,
          null,
          -0.07834744780093764,
          -0.09616674542170857,
          null,
          -0.07834744780093764,
          0.36035512643413103,
          null,
          -0.07834744780093764,
          -0.2686315926246723,
          null,
          -0.07834744780093764,
          -0.239623630441001,
          null,
          -0.07834744780093764,
          0.045245930545913214,
          null,
          -0.07834744780093764,
          -0.4455870716356827,
          null,
          -0.07834744780093764,
          0.1655180207001047,
          null,
          -0.7533243101732114,
          -0.5129927894189218,
          null,
          -0.7533243101732114,
          -0.9695828824025217,
          null,
          -0.7533243101732114,
          -0.9040742524111038,
          null,
          0.47051956551403235,
          0.3670532900733378,
          null,
          0.47051956551403235,
          0.16287424117442878,
          null,
          0.47051956551403235,
          0.4801972270283385,
          null,
          0.47051956551403235,
          0.5459177080244022,
          null,
          0.47051956551403235,
          0.33421867797933463,
          null,
          0.037290813869462015,
          -0.09616674542170857,
          null,
          0.037290813869462015,
          0.045245930545913214,
          null,
          -0.9040742524111038,
          -0.5129927894189218,
          null,
          -0.9040742524111038,
          -0.9695828824025217,
          null,
          -0.9040742524111038,
          -1,
          null,
          0.1655180207001047,
          0.38645497894587305,
          null,
          0.1655180207001047,
          -0.07253110808443135,
          null,
          0.1655180207001047,
          0.3092691521974784,
          null,
          0.1655180207001047,
          0.045245930545913214,
          null,
          0.1655180207001047,
          0.33783774788538695,
          null,
          0.026780023471546722,
          -0.3678383869669172,
          null,
          0.026780023471546722,
          0.3752225538753221,
          null,
          0.026780023471546722,
          0.22230099114703056,
          null,
          0.49018810878858804,
          0.38645497894587305,
          null,
          0.49018810878858804,
          0.3092691521974784,
          null,
          0.49018810878858804,
          0.33783774788538695,
          null,
          0.3752225538753221,
          0.33783774788538695,
          null,
          0.3690025456244402,
          0.3670532900733378,
          null,
          0.3690025456244402,
          0.16287424117442878,
          null,
          0.3690025456244402,
          0.5459177080244022,
          null,
          0.3690025456244402,
          0.33421867797933463,
          null,
          0.3690025456244402,
          0.3267787588149163,
          null,
          0.5459177080244022,
          0.38645497894587305,
          null,
          0.5459177080244022,
          0.4801972270283385,
          null,
          -0.422216523719069,
          -0.5374279153504314,
          null,
          -0.422216523719069,
          0.34123086167807803,
          null,
          -0.422216523719069,
          -0.6265949402407399,
          null,
          -0.422216523719069,
          -0.6542561126529295,
          null,
          -0.422216523719069,
          -0.42527284411905236,
          null,
          -0.6265949402407399,
          -0.5374279153504314,
          null,
          -0.6265949402407399,
          -0.4455870716356827,
          null,
          -0.6265949402407399,
          -0.6542561126529295,
          null,
          -0.6265949402407399,
          -0.42527284411905236,
          null,
          0.38273827890641254,
          0.2878384640965506,
          null,
          0.38273827890641254,
          0.7614584205274801,
          null,
          -0.6542561126529295,
          -0.5374279153504314,
          null,
          -0.6542561126529295,
          -0.42527284411905236,
          null,
          0.2878384640965506,
          0.410094105291956,
          null,
          0.2878384640965506,
          -0.015795444228373985,
          null,
          0.2878384640965506,
          -0.09616674542170857,
          null,
          0.2878384640965506,
          0.5626460301606102,
          null,
          0.36035512643413103,
          0.8243028948738553,
          null,
          0.36035512643413103,
          0.34123086167807803,
          null,
          0.36035512643413103,
          0.3267787588149163,
          null,
          0.38645497894587305,
          0.33783774788538695,
          null,
          0.38645497894587305,
          0.22230099114703056,
          null,
          0.33421867797933463,
          0.16287424117442878,
          null,
          -0.015795444228373985,
          -0.42527284411905236,
          null,
          -0.34589515849021835,
          -0.3441097210082762,
          null,
          -0.34589515849021835,
          -0.42527284411905236,
          null,
          0.3670532900733378,
          0.16287424117442878,
          null,
          0.3670532900733378,
          0.4801972270283385,
          null,
          0.33783774788538695,
          0.3092691521974784,
          null,
          0.33783774788538695,
          0.22230099114703056,
          null,
          -0.9695828824025217,
          -1,
          null,
          -0.4455870716356827,
          -0.3678383869669172,
          null,
          -0.4455870716356827,
          -0.5374279153504314,
          null,
          0.061155550074697355,
          0.045245930545913214,
          null,
          0.061155550074697355,
          0.22230099114703056,
          null,
          0.34123086167807803,
          0.6521621715154711,
          null,
          -1,
          -0.5551242110867665,
          null,
          0.3092691521974784,
          0.22230099114703056,
          null,
          -0.5551242110867665,
          -0.5129927894189218,
          null,
          0.16287424117442878,
          -0.09594986666031018,
          null,
          -0.07253110808443135,
          -0.09594986666031018,
          null,
          -0.5374279153504314,
          -0.3678383869669172,
          null,
          -0.5374279153504314,
          -0.42527284411905236,
          null,
          -0.2686315926246723,
          -0.239623630441001,
          null,
          0.5626460301606102,
          0.410094105291956,
          null,
          0.29773603995656933,
          0.410094105291956,
          null,
          -0.09616674542170857,
          -0.5129927894189218,
          null,
          -0.09616674542170857,
          -0.239623630441001,
          null,
          -0.09616674542170857,
          0.045245930545913214,
          null,
          0.8243028948738553,
          0.7614584205274801,
          null,
          0.8243028948738553,
          0.6521621715154711,
          null,
          0.3267787588149163,
          0.6521621715154711,
          null,
          0.6521621715154711,
          0.7614584205274801,
          null
         ],
         "y": [
          0.6134329143650828,
          0.5908651183562501,
          null,
          0.6134329143650828,
          0.43559004950155894,
          null,
          0.6134329143650828,
          0.45646402967055216,
          null,
          0.6134329143650828,
          0.4890863750591337,
          null,
          -0.5620263990628542,
          -0.6216781256945508,
          null,
          -0.5620263990628542,
          -0.6426952808580461,
          null,
          -0.5620263990628542,
          -0.49546499468340294,
          null,
          -0.5620263990628542,
          -0.35520274427794096,
          null,
          -0.5620263990628542,
          -0.2103444081994032,
          null,
          -0.5620263990628542,
          -0.5189752257564292,
          null,
          -0.40130334425467906,
          -0.3187711117101465,
          null,
          -0.40130334425467906,
          -0.6216781256945508,
          null,
          -0.40130334425467906,
          -0.5084144935245033,
          null,
          -0.40130334425467906,
          -0.18763926223419028,
          null,
          -0.40130334425467906,
          -0.20843189926474637,
          null,
          -0.40130334425467906,
          -0.7058055180536698,
          null,
          0.21840600918657604,
          0.13947215994549467,
          null,
          0.21840600918657604,
          0.16876475193245274,
          null,
          -0.6429201217155924,
          -0.5285205526501617,
          null,
          -0.6429201217155924,
          -0.7823016652023866,
          null,
          -0.6429201217155924,
          -0.4615987365163552,
          null,
          -0.6429201217155924,
          -0.6426952808580461,
          null,
          -0.6429201217155924,
          -0.47245277418060994,
          null,
          -0.6429201217155924,
          -0.599332397707099,
          null,
          -0.1078613936032148,
          -0.11026326757183587,
          null,
          -0.1078613936032148,
          -0.0567320744001857,
          null,
          -0.1078613936032148,
          0.00681672728621884,
          null,
          -0.1078613936032148,
          0.012012123558587485,
          null,
          -0.1078613936032148,
          -0.14818200227003828,
          null,
          -0.4615987365163552,
          -0.5285205526501617,
          null,
          -0.4615987365163552,
          -0.7823016652023866,
          null,
          -0.4615987365163552,
          -0.47245277418060994,
          null,
          -0.4615987365163552,
          -0.599332397707099,
          null,
          -0.4615987365163552,
          -0.24484518559225685,
          null,
          -0.7823016652023866,
          -0.5285205526501617,
          null,
          -0.7823016652023866,
          -0.6426952808580461,
          null,
          -0.7823016652023866,
          -0.599332397707099,
          null,
          0.04794848212791727,
          -0.3710009701451848,
          null,
          0.04794848212791727,
          0.1256257050448489,
          null,
          0.04794848212791727,
          0.22666557506161897,
          null,
          0.04794848212791727,
          -0.35520274427794096,
          null,
          0.04794848212791727,
          0.325822488978618,
          null,
          0.04794848212791727,
          0.23780195098038479,
          null,
          0.22666557506161897,
          0.1256257050448489,
          null,
          0.22666557506161897,
          0.13947215994549467,
          null,
          0.22666557506161897,
          0.1065520274759424,
          null,
          0.22666557506161897,
          0.2315901307335745,
          null,
          0.22666557506161897,
          0.325822488978618,
          null,
          0.22666557506161897,
          0.45646402967055216,
          null,
          0.22666557506161897,
          0.26765889558222367,
          null,
          0.00681672728621884,
          0.029370095015486392,
          null,
          0.00681672728621884,
          -0.0567320744001857,
          null,
          0.00681672728621884,
          0.012012123558587485,
          null,
          -0.49546499468340294,
          -0.6216781256945508,
          null,
          -0.49546499468340294,
          -0.6426952808580461,
          null,
          -0.49546499468340294,
          -0.35520274427794096,
          null,
          -0.49546499468340294,
          -0.2103444081994032,
          null,
          -0.49546499468340294,
          -0.5189752257564292,
          null,
          0.23780195098038479,
          0.1256257050448489,
          null,
          0.23780195098038479,
          0.325822488978618,
          null,
          0.012012123558587485,
          0.029370095015486392,
          null,
          0.012012123558587485,
          -0.0567320744001857,
          null,
          0.012012123558587485,
          -0.14818200227003828,
          null,
          0.26765889558222367,
          0.4151805848098009,
          null,
          0.26765889558222367,
          -0.24484518559225685,
          null,
          0.26765889558222367,
          0.6389067515970398,
          null,
          0.26765889558222367,
          0.325822488978618,
          null,
          0.26765889558222367,
          0.557832313928349,
          null,
          0.5301222317983132,
          0.5908651183562501,
          null,
          0.5301222317983132,
          0.6171217112230817,
          null,
          0.5301222317983132,
          0.6709665756396299,
          null,
          0.7076331824469605,
          0.4151805848098009,
          null,
          0.7076331824469605,
          0.6389067515970398,
          null,
          0.7076331824469605,
          0.557832313928349,
          null,
          0.6171217112230817,
          0.557832313928349,
          null,
          -0.3710009701451848,
          -0.6216781256945508,
          null,
          -0.3710009701451848,
          -0.6426952808580461,
          null,
          -0.3710009701451848,
          -0.2103444081994032,
          null,
          -0.3710009701451848,
          -0.5189752257564292,
          null,
          -0.3710009701451848,
          -0.1894096527002503,
          null,
          -0.2103444081994032,
          0.4151805848098009,
          null,
          -0.2103444081994032,
          -0.35520274427794096,
          null,
          0.3541249471970432,
          0.43559004950155894,
          null,
          0.3541249471970432,
          0.28463676165770385,
          null,
          0.3541249471970432,
          0.4890863750591337,
          null,
          0.3541249471970432,
          0.34409863313288436,
          null,
          0.3541249471970432,
          0.16681918544838079,
          null,
          0.4890863750591337,
          0.43559004950155894,
          null,
          0.4890863750591337,
          0.45646402967055216,
          null,
          0.4890863750591337,
          0.34409863313288436,
          null,
          0.4890863750591337,
          0.16681918544838079,
          null,
          -0.20843189926474637,
          -0.3187711117101465,
          null,
          -0.20843189926474637,
          0.05374837222938998,
          null,
          0.34409863313288436,
          0.43559004950155894,
          null,
          0.34409863313288436,
          0.16681918544838079,
          null,
          -0.3187711117101465,
          -0.5084144935245033,
          null,
          -0.3187711117101465,
          -0.18763926223419028,
          null,
          -0.3187711117101465,
          0.1256257050448489,
          null,
          -0.3187711117101465,
          -0.4770965339829772,
          null,
          0.13947215994549467,
          0.18304283913058153,
          null,
          0.13947215994549467,
          0.28463676165770385,
          null,
          0.13947215994549467,
          -0.1894096527002503,
          null,
          0.4151805848098009,
          0.557832313928349,
          null,
          0.4151805848098009,
          0.6709665756396299,
          null,
          -0.5189752257564292,
          -0.6426952808580461,
          null,
          -0.18763926223419028,
          0.16681918544838079,
          null,
          -0.47245277418060994,
          -0.599332397707099,
          null,
          -0.47245277418060994,
          0.16681918544838079,
          null,
          -0.6216781256945508,
          -0.6426952808580461,
          null,
          -0.6216781256945508,
          -0.35520274427794096,
          null,
          0.557832313928349,
          0.6389067515970398,
          null,
          0.557832313928349,
          0.6709665756396299,
          null,
          -0.0567320744001857,
          -0.14818200227003828,
          null,
          0.45646402967055216,
          0.5908651183562501,
          null,
          0.45646402967055216,
          0.43559004950155894,
          null,
          0.6750904357110276,
          0.325822488978618,
          null,
          0.6750904357110276,
          0.6709665756396299,
          null,
          0.28463676165770385,
          0.16876475193245274,
          null,
          -0.14818200227003828,
          -0.11026326757183587,
          null,
          0.6389067515970398,
          0.6709665756396299,
          null,
          -0.11026326757183587,
          0.029370095015486392,
          null,
          -0.6426952808580461,
          -0.5285205526501617,
          null,
          -0.24484518559225685,
          -0.5285205526501617,
          null,
          0.43559004950155894,
          0.5908651183562501,
          null,
          0.43559004950155894,
          0.16681918544838079,
          null,
          0.1065520274759424,
          0.2315901307335745,
          null,
          -0.4770965339829772,
          -0.5084144935245033,
          null,
          -0.7058055180536698,
          -0.5084144935245033,
          null,
          0.1256257050448489,
          0.029370095015486392,
          null,
          0.1256257050448489,
          0.2315901307335745,
          null,
          0.1256257050448489,
          0.325822488978618,
          null,
          0.18304283913058153,
          0.05374837222938998,
          null,
          0.18304283913058153,
          0.16876475193245274,
          null,
          -0.1894096527002503,
          0.16876475193245274,
          null,
          0.16876475193245274,
          0.05374837222938998,
          null
         ]
        },
        {
         "hoverinfo": "text",
         "hovertext": [
          "Device: 2b2d8750-2cab-4e70-82ed-b8d14d6c03fc<br>Connessioni: 4<br>Tempo totale: 147.0s<br>Comunità: 4",
          "Device: f97583db-9bcd-4bad-9720-eb597c1b0f68<br>Connessioni: 6<br>Tempo totale: 106.3s<br>Comunità: 2",
          "Device: e23a87bc-1d03-4029-8ef3-00f3c362d206<br>Connessioni: 6<br>Tempo totale: 208.6s<br>Comunità: 0",
          "Device: 495e5ae5-1515-4d2a-b62d-fc555caefd7b<br>Connessioni: 2<br>Tempo totale: 97.4s<br>Comunità: 6",
          "Device: 04ff9800-d20d-41b9-b477-56568bba397c<br>Connessioni: 6<br>Tempo totale: 149.9s<br>Comunità: 3",
          "Device: 74d7d70d-dc98-4864-bf63-a13084d17306<br>Connessioni: 5<br>Tempo totale: 185.4s<br>Comunità: 7",
          "Device: 31fa4077-11be-4e31-aaa3-b6a85a08f706<br>Connessioni: 6<br>Tempo totale: 214.8s<br>Comunità: 3",
          "Device: 125c8563-5d30-429d-81ee-6a43b4b577dd<br>Connessioni: 5<br>Tempo totale: 63.5s<br>Comunità: 3",
          "Device: c2103420-7e4d-429a-8610-419ef7b6901d<br>Connessioni: 6<br>Tempo totale: 99.8s<br>Comunità: 5",
          "Device: 66fffc05-4e9b-4381-b8ab-8fc7a42b6704<br>Connessioni: 8<br>Tempo totale: 218.7s<br>Comunità: 5",
          "Device: 891ef496-9aa8-469a-a6fa-cd0e1a3742f3<br>Connessioni: 4<br>Tempo totale: 129.1s<br>Comunità: 7",
          "Device: 581a298d-9725-402e-952f-34100c626d19<br>Connessioni: 6<br>Tempo totale: 190.4s<br>Comunità: 2",
          "Device: eefc563e-953b-4803-b3b5-0be7a6a808f5<br>Connessioni: 3<br>Tempo totale: 79.3s<br>Comunità: 5",
          "Device: ecf67978-52c5-44a1-a1e8-8e86b128db65<br>Connessioni: 5<br>Tempo totale: 105.1s<br>Comunità: 7",
          "Device: d1ec5cd6-e228-43ba-9948-094d221f2b6f<br>Connessioni: 6<br>Tempo totale: 163.2s<br>Comunità: 1",
          "Device: 5a5da229-4c7c-422a-b906-a1c3a9c17d6a<br>Connessioni: 3<br>Tempo totale: 72.1s<br>Comunità: 1",
          "Device: 9dc20899-8030-4848-b66d-3c3243a7043e<br>Connessioni: 3<br>Tempo totale: 70.3s<br>Comunità: 1",
          "Device: 2b649167-9930-4903-a283-5787f31080b9<br>Connessioni: 2<br>Tempo totale: 40.2s<br>Comunità: 1",
          "Device: 22c0f93f-4734-4974-b49c-28a5eff854ed<br>Connessioni: 6<br>Tempo totale: 58.8s<br>Comunità: 2",
          "Device: bd12441b-07a7-4da8-8118-7d8032c0bb9e<br>Connessioni: 5<br>Tempo totale: 99.4s<br>Comunità: 2",
          "Device: e9b24feb-3118-47ef-854a-064dbd448daa<br>Connessioni: 5<br>Tempo totale: 194.1s<br>Comunità: 4",
          "Device: cf9952b4-4ea0-4b4a-9ec0-2ac55662d78e<br>Connessioni: 6<br>Tempo totale: 227.3s<br>Comunità: 4",
          "Device: cb944ece-bb27-4483-b3eb-5ede215f246f<br>Connessioni: 3<br>Tempo totale: 111.8s<br>Comunità: 0",
          "Device: d0eb0951-4f8c-42c3-9b67-3d3633abfceb<br>Connessioni: 4<br>Tempo totale: 79.7s<br>Comunità: 4",
          "Device: 023ce283-bd59-412d-b812-7c69da1fddac<br>Connessioni: 6<br>Tempo totale: 194.1s<br>Comunità: 0",
          "Device: 6ab18db7-c83a-4755-ad1c-d670a72b0ea1<br>Connessioni: 5<br>Tempo totale: 105.4s<br>Comunità: 6",
          "Device: 4c3f4bd7-a49e-404d-bb9e-75fab08c01b7<br>Connessioni: 5<br>Tempo totale: 127.9s<br>Comunità: 1",
          "Device: e3b40b5f-6445-4988-a335-cd626cad60b2<br>Connessioni: 4<br>Tempo totale: 94.0s<br>Comunità: 2",
          "Device: 340a33eb-ab2f-48c5-844d-a65570723a0d<br>Connessioni: 3<br>Tempo totale: 104.8s<br>Comunità: 0",
          "Device: 6ac9d1f7-87c3-433c-b121-c6bd80c3b3dd<br>Connessioni: 4<br>Tempo totale: 159.0s<br>Comunità: 3",
          "Device: 0cc5420c-446e-4b3a-9e5f-7f9940905c6a<br>Connessioni: 6<br>Tempo totale: 164.9s<br>Comunità: 2",
          "Device: caa77a82-37be-4544-b4cb-a1914d56c4fd<br>Connessioni: 6<br>Tempo totale: 200.0s<br>Comunità: 1",
          "Device: 6563ccf9-b157-4eef-ad37-93eb72648a35<br>Connessioni: 4<br>Tempo totale: 217.0s<br>Comunità: 7",
          "Device: cf03148e-0d7d-472e-8c1b-246efe31f1c7<br>Connessioni: 5<br>Tempo totale: 85.0s<br>Comunità: 4",
          "Device: 5784b34b-f637-49ba-95ce-43fd98643da5<br>Connessioni: 2<br>Tempo totale: 51.7s<br>Comunità: 5",
          "Device: 84afb2fd-6077-49ab-9170-476185f7b5a0<br>Connessioni: 3<br>Tempo totale: 54.9s<br>Comunità: 6",
          "Device: f9b9394b-7d21-45e3-bb70-e593660c456d<br>Connessioni: 4<br>Tempo totale: 135.7s<br>Comunità: 7",
          "Device: 97d762dd-1b37-4b3a-8541-733e8ad5abf2<br>Connessioni: 4<br>Tempo totale: 159.1s<br>Comunità: 1",
          "Device: 60300bef-0aa0-4abe-bdf0-11f348be9a07<br>Connessioni: 3<br>Tempo totale: 67.2s<br>Comunità: 7",
          "Device: 548dcd41-c18b-4828-9dda-bac06dca6665<br>Connessioni: 8<br>Tempo totale: 218.1s<br>Comunità: 2",
          "Device: 778cb695-778b-4d2f-abf6-bfa46143a9a4<br>Connessioni: 3<br>Tempo totale: 137.5s<br>Comunità: 3",
          "Device: 65472b6f-1889-4fa7-86d7-c90824e7a900<br>Connessioni: 7<br>Tempo totale: 339.7s<br>Comunità: 4",
          "Device: 95d7b911-1c4e-4a71-b669-9cb838018663<br>Connessioni: 2<br>Tempo totale: 78.2s<br>Comunità: 5",
          "Device: b0116881-9047-4eec-ac71-26879e8c0af2<br>Connessioni: 2<br>Tempo totale: 71.2s<br>Comunità: 0",
          "Device: ec45c08b-0f47-4491-9f76-38df1c8c22a2<br>Connessioni: 2<br>Tempo totale: 53.2s<br>Comunità: 0",
          "Device: 41e2a4d5-f185-422a-bb3f-61c6ce262e83<br>Connessioni: 7<br>Tempo totale: 187.5s<br>Comunità: 5",
          "Device: 24382566-3621-4e54-8914-e4baaab83030<br>Connessioni: 3<br>Tempo totale: 97.2s<br>Comunità: 6",
          "Device: 7f0d32ac-f03a-47d8-865c-876bc3733a7f<br>Connessioni: 5<br>Tempo totale: 145.9s<br>Comunità: 2",
          "Device: 30f69f2a-3f9d-417f-9460-3bacb40fcce8<br>Connessioni: 4<br>Tempo totale: 140.0s<br>Comunità: 0",
          "Device: f861c2eb-e9a6-4870-a63e-917370f0339a<br>Connessioni: 3<br>Tempo totale: 39.2s<br>Comunità: 6",
          "Device: 03384f60-ce21-47f8-a7e4-d3b6f87d9d1f<br>Connessioni: 4<br>Tempo totale: 93.7s<br>Comunità: 4",
          "Device: a288c0da-9a28-4c35-a1b1-51aaf9f2a3c5<br>Connessioni: 3<br>Tempo totale: 81.0s<br>Comunità: 5",
          "Device: a38e7241-f084-48d7-b903-8a127d5b3028<br>Connessioni: 5<br>Tempo totale: 167.1s<br>Comunità: 6",
          "Device: 6f70263a-ab1d-41e8-b509-8ac7124e803b<br>Connessioni: 4<br>Tempo totale: 107.5s<br>Comunità: 3",
          "Device: 0d125bf1-a2bc-4cc6-b37a-51bf12180941<br>Connessioni: 5<br>Tempo totale: 131.8s<br>Comunità: 3",
          "Device: efda4c5b-9400-4035-ad5f-23e123f7d257<br>Connessioni: 5<br>Tempo totale: 144.9s<br>Comunità: 1",
          "Device: 13330718-fa81-489a-9c97-a84a344cff11<br>Connessioni: 4<br>Tempo totale: 101.0s<br>Comunità: 7",
          "Device: 85f61a5f-b837-4d48-b361-69f1b2c87ae3<br>Connessioni: 3<br>Tempo totale: 62.3s<br>Comunità: 6",
          "Device: a942bba9-2ad7-4a07-9b61-d30c745a55ad<br>Connessioni: 6<br>Tempo totale: 163.8s<br>Comunità: 5",
          "Device: edb5c615-33c9-423d-8ef1-2b575dfaecac<br>Connessioni: 6<br>Tempo totale: 170.1s<br>Comunità: 4"
         ],
         "marker": {
          "color": [
           4,
           2,
           0,
           6,
           3,
           7,
           3,
           3,
           5,
           5,
           7,
           2,
           5,
           7,
           1,
           1,
           1,
           1,
           2,
           2,
           4,
           4,
           0,
           4,
           0,
           6,
           1,
           2,
           0,
           3,
           2,
           1,
           7,
           4,
           5,
           6,
           7,
           1,
           7,
           2,
           3,
           4,
           5,
           0,
           0,
           5,
           6,
           2,
           0,
           6,
           4,
           5,
           6,
           3,
           3,
           1,
           7,
           6,
           5,
           4
          ],
          "colorbar": {
           "len": 0.5,
           "thickness": 15,
           "title": {
            "text": "Comunità"
           },
           "x": 1.02
          },
          "colorscale": [
           [
            0,
            "#440154"
           ],
           [
            0.1111111111111111,
            "#482878"
           ],
           [
            0.2222222222222222,
            "#3e4989"
           ],
           [
            0.3333333333333333,
            "#31688e"
           ],
           [
            0.4444444444444444,
            "#26828e"
           ],
           [
            0.5555555555555556,
            "#1f9e89"
           ],
           [
            0.6666666666666666,
            "#35b779"
           ],
           [
            0.7777777777777778,
            "#6ece58"
           ],
           [
            0.8888888888888888,
            "#b5de2b"
           ],
           [
            1,
            "#fde725"
           ]
          ],
          "line": {
           "color": "black",
           "width": 2
          },
          "showscale": true,
          "size": [
           22,
           28,
           28,
           16,
           28,
           25,
           28,
           25,
           28,
           34,
           22,
           28,
           19,
           25,
           28,
           19,
           19,
           16,
           28,
           25,
           25,
           28,
           19,
           22,
           28,
           25,
           25,
           22,
           19,
           22,
           28,
           28,
           22,
           25,
           16,
           19,
           22,
           22,
           19,
           34,
           19,
           31,
           16,
           16,
           16,
           31,
           19,
           25,
           22,
           19,
           22,
           19,
           25,
           22,
           25,
           25,
           22,
           19,
           28,
           28
          ]
         },
         "mode": "markers+text",
         "text": [
          "2b2d8750...",
          "f97583db...",
          "e23a87bc...",
          "495e5ae5...",
          "04ff9800...",
          "74d7d70d...",
          "31fa4077...",
          "125c8563...",
          "c2103420...",
          "66fffc05...",
          "891ef496...",
          "581a298d...",
          "eefc563e...",
          "ecf67978...",
          "d1ec5cd6...",
          "5a5da229...",
          "9dc20899...",
          "2b649167...",
          "22c0f93f...",
          "bd12441b...",
          "e9b24feb...",
          "cf9952b4...",
          "cb944ece...",
          "d0eb0951...",
          "023ce283...",
          "6ab18db7...",
          "4c3f4bd7...",
          "e3b40b5f...",
          "340a33eb...",
          "6ac9d1f7...",
          "0cc5420c...",
          "caa77a82...",
          "6563ccf9...",
          "cf03148e...",
          "5784b34b...",
          "84afb2fd...",
          "f9b9394b...",
          "97d762dd...",
          "60300bef...",
          "548dcd41...",
          "778cb695...",
          "65472b6f...",
          "95d7b911...",
          "b0116881...",
          "ec45c08b...",
          "41e2a4d5...",
          "24382566...",
          "7f0d32ac...",
          "30f69f2a...",
          "f861c2eb...",
          "03384f60...",
          "a288c0da...",
          "a38e7241...",
          "6f70263a...",
          "0d125bf1...",
          "efda4c5b...",
          "13330718...",
          "85f61a5f...",
          "a942bba9...",
          "edb5c615..."
         ],
         "textposition": "middle center",
         "type": "scatter",
         "x": [
          -0.5826923685311478,
          0.3125222368985313,
          0.2125315557494133,
          0.5936415153607846,
          -0.1467705757800059,
          -0.885874394066824,
          -0.20021034059419834,
          -0.14869355114517288,
          0.1825005978701477,
          -0.07834744780093764,
          -0.7533243101732114,
          0.47051956551403235,
          0.037290813869462015,
          -0.9040742524111038,
          0.1655180207001047,
          0.026780023471546722,
          0.49018810878858804,
          0.3752225538753221,
          0.3690025456244402,
          0.5459177080244022,
          -0.422216523719069,
          -0.6265949402407399,
          0.38273827890641254,
          -0.6542561126529295,
          0.2878384640965506,
          0.36035512643413103,
          0.38645497894587305,
          0.33421867797933463,
          -0.015795444228373985,
          -0.34589515849021835,
          0.3670532900733378,
          0.33783774788538695,
          -0.9695828824025217,
          -0.4455870716356827,
          0.061155550074697355,
          0.34123086167807803,
          -1,
          0.3092691521974784,
          -0.5551242110867665,
          0.16287424117442878,
          -0.07253110808443135,
          -0.5374279153504314,
          -0.2686315926246723,
          0.5626460301606102,
          0.29773603995656933,
          -0.09616674542170857,
          0.8243028948738553,
          0.4801972270283385,
          0.410094105291956,
          0.3267787588149163,
          -0.3678383869669172,
          -0.239623630441001,
          0.6521621715154711,
          -0.3441097210082762,
          -0.09594986666031018,
          0.22230099114703056,
          -0.5129927894189218,
          0.7614584205274801,
          0.045245930545913214,
          -0.42527284411905236
         ],
         "y": [
          0.6134329143650828,
          -0.5620263990628542,
          -0.40130334425467906,
          0.21840600918657604,
          -0.6429201217155924,
          -0.1078613936032148,
          -0.4615987365163552,
          -0.7823016652023866,
          0.04794848212791727,
          0.22666557506161897,
          0.00681672728621884,
          -0.49546499468340294,
          0.23780195098038479,
          0.012012123558587485,
          0.26765889558222367,
          0.5301222317983132,
          0.7076331824469605,
          0.6171217112230817,
          -0.3710009701451848,
          -0.2103444081994032,
          0.3541249471970432,
          0.4890863750591337,
          -0.20843189926474637,
          0.34409863313288436,
          -0.3187711117101465,
          0.13947215994549467,
          0.4151805848098009,
          -0.5189752257564292,
          -0.18763926223419028,
          -0.47245277418060994,
          -0.6216781256945508,
          0.557832313928349,
          -0.0567320744001857,
          0.45646402967055216,
          0.6750904357110276,
          0.28463676165770385,
          -0.14818200227003828,
          0.6389067515970398,
          -0.11026326757183587,
          -0.6426952808580461,
          -0.24484518559225685,
          0.43559004950155894,
          0.1065520274759424,
          -0.4770965339829772,
          -0.7058055180536698,
          0.1256257050448489,
          0.18304283913058153,
          -0.35520274427794096,
          -0.5084144935245033,
          -0.1894096527002503,
          0.5908651183562501,
          0.2315901307335745,
          0.16876475193245274,
          -0.599332397707099,
          -0.5285205526501617,
          0.6709665756396299,
          0.029370095015486392,
          0.05374837222938998,
          0.325822488978618,
          0.16681918544838079
         ]
        }
       ],
       "layout": {
        "annotations": [
         {
          "font": {
           "color": "gray",
           "size": 12
          },
          "showarrow": false,
          "text": "Colore = comunità, dimensione = numero connessioni",
          "x": 0.005,
          "xanchor": "left",
          "xref": "paper",
          "y": -0.002,
          "yanchor": "bottom",
          "yref": "paper"
         }
        ],
        "hovermode": "closest",
        "margin": {
         "b": 20,
         "l": 5,
         "r": 5,
         "t": 60
        },
        "showlegend": false,
        "template": {
         "data": {
          "bar": [
           {
            "error_x": {
             "color": "#2a3f5f"
            },
            "error_y": {
             "color": "#2a3f5f"
            },
            "marker": {
             "line": {
              "color": "#E5ECF6",
              "width": 0.5
             },
             "pattern": {
              "fillmode": "overlay",
              "size": 10,
              "solidity": 0.2
             }
            },
            "type": "bar"
           }
          ],
          "barpolar": [
           {
            "marker": {
             "line": {
              "color": "#E5ECF6",
              "width": 0.5
             },
             "pattern": {
              "fillmode": "overlay",
              "size": 10,
              "solidity": 0.2
             }
            },
            "type": "barpolar"
           }
          ],
          "carpet": [
           {
            "aaxis": {
             "endlinecolor": "#2a3f5f",
             "gridcolor": "white",
             "linecolor": "white",
             "minorgridcolor": "white",
             "startlinecolor": "#2a3f5f"
            },
            "baxis": {
             "endlinecolor": "#2a3f5f",
             "gridcolor": "white",
             "linecolor": "white",
             "minorgridcolor": "white",
             "startlinecolor": "#2a3f5f"
            },
            "type": "carpet"
           }
          ],
          "choropleth": [
           {
            "colorbar": {
             "outlinewidth": 0,
             "ticks": ""
            },
            "type": "choropleth"
           }
          ],
          "contour": [
           {
            "colorbar": {
             "outlinewidth": 0,
             "ticks": ""
            },
            "colorscale": [
             [
              0,
              "#0d0887"
             ],
             [
              0.1111111111111111,
              "#46039f"
             ],
             [
              0.2222222222222222,
              "#7201a8"
             ],
             [
              0.3333333333333333,
              "#9c179e"
             ],
             [
              0.4444444444444444,
              "#bd3786"
             ],
             [
              0.5555555555555556,
              "#d8576b"
             ],
             [
              0.6666666666666666,
              "#ed7953"
             ],
             [
              0.7777777777777778,
              "#fb9f3a"
             ],
             [
              0.8888888888888888,
              "#fdca26"
             ],
             [
              1,
              "#f0f921"
             ]
            ],
            "type": "contour"
           }
          ],
          "contourcarpet": [
           {
            "colorbar": {
             "outlinewidth": 0,
             "ticks": ""
            },
            "type": "contourcarpet"
           }
          ],
          "heatmap": [
           {
            "colorbar": {
             "outlinewidth": 0,
             "ticks": ""
            },
            "colorscale": [
             [
              0,
              "#0d0887"
             ],
             [
              0.1111111111111111,
              "#46039f"
             ],
             [
              0.2222222222222222,
              "#7201a8"
             ],
             [
              0.3333333333333333,
              "#9c179e"
             ],
             [
              0.4444444444444444,
              "#bd3786"
             ],
             [
              0.5555555555555556,
              "#d8576b"
             ],
             [
              0.6666666666666666,
              "#ed7953"
             ],
             [
              0.7777777777777778,
              "#fb9f3a"
             ],
             [
              0.8888888888888888,
              "#fdca26"
             ],
             [
              1,
              "#f0f921"
             ]
            ],
            "type": "heatmap"
           }
          ],
          "histogram": [
           {
            "marker": {
             "pattern": {
              "fillmode": "overlay",
              "size": 10,
              "solidity": 0.2
             }
            },
            "type": "histogram"
           }
          ],
          "histogram2d": [
           {
            "colorbar": {
             "outlinewidth": 0,
             "ticks": ""
            },
            "colorscale": [
             [
              0,
              "#0d0887"
             ],
             [
              0.1111111111111111,
              "#46039f"
             ],
             [
              0.2222222222222222,
              "#7201a8"
             ],
             [
              0.3333333333333333,
              "#9c179e"
             ],
             [
              0.4444444444444444,
              "#bd3786"
             ],
             [
              0.5555555555555556,
              "#d8576b"
             ],
             [
              0.6666666666666666,
              "#ed7953"
             ],
             [
              0.7777777777777778,
              "#fb9f3a"
             ],
             [
              0.8888888888888888,
              "#fdca26"
             ],
             [
              1,
              "#f0f921"
             ]
            ],
            "type": "histogram2d"
           }
          ],
          "histogram2dcontour": [
           {
            "colorbar": {
             "outlinewidth": 0,
             "ticks": ""
            },
            "colorscale": [
             [
              0,
              "#0d0887"
             ],
             [
              0.1111111111111111,
              "#46039f"
             ],
             [
              0.2222222222222222,
              "#7201a8"
             ],
             [
              0.3333333333333333,
              "#9c179e"
             ],
             [
              0.4444444444444444,
              "#bd3786"
             ],
             [
              0.5555555555555556,
              "#d8576b"
             ],
             [
              0.6666666666666666,
              "#ed7953"
             ],
             [
              0.7777777777777778,
              "#fb9f3a"
             ],
             [
              0.8888888888888888,
              "#fdca26"
             ],
             [
              1,
              "#f0f921"
             ]
            ],
            "type": "histogram2dcontour"
           }
          ],
          "mesh3d": [
           {
            "colorbar": {
             "outlinewidth": 0,
             "ticks": ""
            },
            "type": "mesh3d"
           }
          ],
          "parcoords": [
           {
            "line": {
             "colorbar": {
              "outlinewidth": 0,
              "ticks": ""
             }
            },
            "type": "parcoords"
           }
          ],
          "pie": [
           {
            "automargin": true,
            "type": "pie"
           }
          ],
          "scatter": [
           {
            "fillpattern": {
             "fillmode": "overlay",
             "size": 10,
             "solidity": 0.2
            },
            "type": "scatter"
           }
          ],
          "scatter3d": [
           {
            "line": {
             "colorbar": {
              "outlinewidth": 0,
              "ticks": ""
             }
            },
            "marker": {
             "colorbar": {
              "outlinewidth": 0,
              "ticks": ""
             }
            },
            "type": "scatter3d"
           }
          ],
          "scattercarpet": [
           {
            "marker": {
             "colorbar": {
              "outlinewidth": 0,
              "ticks": ""
             }
            },
            "type": "scattercarpet"
           }
          ],
          "scattergeo": [
           {
            "marker": {
             "colorbar": {
              "outlinewidth": 0,
              "ticks": ""
             }
            },
            "type": "scattergeo"
           }
          ],
          "scattergl": [
           {
            "marker": {
             "colorbar": {
              "outlinewidth": 0,
              "ticks": ""
             }
            },
            "type": "scattergl"
           }
          ],
          "scattermap": [
           {
            "marker": {
             "colorbar": {
              "outlinewidth": 0,
              "ticks": ""
             }
            },
            "type": "scattermap"
           }
          ],
          "scattermapbox": [
           {
            "marker": {
             "colorbar": {
              "outlinewidth": 0,
              "ticks": ""
             }
            },
            "type": "scattermapbox"
           }
          ],
          "scatterpolar": [
           {
            "marker": {
             "colorbar": {
              "outlinewidth": 0,
              "ticks": ""
             }
            },
            "type": "scatterpolar"
           }
          ],
          "scatterpolargl": [
           {
            "marker": {
             "colorbar": {
              "outlinewidth": 0,
              "ticks": ""
             }
            },
            "type": "scatterpolargl"
           }
          ],
          "scatterternary": [
           {
            "marker": {
             "colorbar": {
              "outlinewidth": 0,
              "ticks": ""
             }
            },
            "type": "scatterternary"
           }
          ],
          "surface": [
           {
            "colorbar": {
             "outlinewidth": 0,
             "ticks": ""
            },
            "colorscale": [
             [
              0,
              "#0d0887"
             ],
             [
              0.1111111111111111,
              "#46039f"
             ],
             [
              0.2222222222222222,
              "#7201a8"
             ],
             [
              0.3333333333333333,
              "#9c179e"
             ],
             [
              0.4444444444444444,
              "#bd3786"
             ],
             [
              0.5555555555555556,
              "#d8576b"
             ],
             [
              0.6666666666666666,
              "#ed7953"
             ],
             [
              0.7777777777777778,
              "#fb9f3a"
             ],
             [
              0.8888888888888888,
              "#fdca26"
             ],
             [
              1,
              "#f0f921"
             ]
            ],
            "type": "surface"
           }
          ],
          "table": [
           {
            "cells": {
             "fill": {
              "color": "#EBF0F8"
             },
             "line": {
              "color": "white"
             }
            },
            "header": {
             "fill": {
              "color": "#C8D4E3"
             },
             "line": {
              "color": "white"
             }
            },
            "type": "table"
           }
          ]
         },
         "layout": {
          "annotationdefaults": {
           "arrowcolor": "#2a3f5f",
           "arrowhead": 0,
           "arrowwidth": 1
          },
          "autotypenumbers": "strict",
          "coloraxis": {
           "colorbar": {
            "outlinewidth": 0,
            "ticks": ""
           }
          },
          "colorscale": {
           "diverging": [
            [
             0,
             "#8e0152"
            ],
            [
             0.1,
             "#c51b7d"
            ],
            [
             0.2,
             "#de77ae"
            ],
            [
             0.3,
             "#f1b6da"
            ],
            [
             0.4,
             "#fde0ef"
            ],
            [
             0.5,
             "#f7f7f7"
            ],
            [
             0.6,
             "#e6f5d0"
            ],
            [
             0.7,
             "#b8e186"
            ],
            [
             0.8,
             "#7fbc41"
            ],
            [
             0.9,
             "#4d9221"
            ],
            [
             1,
             "#276419"
            ]
           ],
           "sequential": [
            [
             0,
             "#0d0887"
            ],
            [
             0.1111111111111111,
             "#46039f"
            ],
            [
             0.2222222222222222,
             "#7201a8"
            ],
            [
             0.3333333333333333,
             "#9c179e"
            ],
            [
             0.4444444444444444,
             "#bd3786"
            ],
            [
             0.5555555555555556,
             "#d8576b"
            ],
            [
             0.6666666666666666,
             "#ed7953"
            ],
            [
             0.7777777777777778,
             "#fb9f3a"
            ],
            [
             0.8888888888888888,
             "#fdca26"
            ],
            [
             1,
             "#f0f921"
            ]
           ],
           "sequentialminus": [
            [
             0,
             "#0d0887"
            ],
            [
             0.1111111111111111,
             "#46039f"
            ],
            [
             0.2222222222222222,
             "#7201a8"
            ],
            [
             0.3333333333333333,
             "#9c179e"
            ],
            [
             0.4444444444444444,
             "#bd3786"
            ],
            [
             0.5555555555555556,
             "#d8576b"
            ],
            [
             0.6666666666666666,
             "#ed7953"
            ],
            [
             0.7777777777777778,
             "#fb9f3a"
            ],
            [
             0.8888888888888888,
             "#fdca26"
            ],
            [
             1,
             "#f0f921"
            ]
           ]
          },
          "colorway": [
           "#636efa",
           "#EF553B",
           "#00cc96",
           "#ab63fa",
           "#FFA15A",
           "#19d3f3",
           "#FF6692",
           "#B6E880",
           "#FF97FF",
           "#FECB52"
          ],
          "font": {
           "color": "#2a3f5f"
          },
          "geo": {
           "bgcolor": "white",
           "lakecolor": "white",
           "landcolor": "#E5ECF6",
           "showlakes": true,
           "showland": true,
           "subunitcolor": "white"
          },
          "hoverlabel": {
           "align": "left"
          },
          "hovermode": "closest",
          "mapbox": {
           "style": "light"
          },
          "paper_bgcolor": "white",
          "plot_bgcolor": "#E5ECF6",
          "polar": {
           "angularaxis": {
            "gridcolor": "white",
            "linecolor": "white",
            "ticks": ""
           },
           "bgcolor": "#E5ECF6",
           "radialaxis": {
            "gridcolor": "white",
            "linecolor": "white",
            "ticks": ""
           }
          },
          "scene": {
           "xaxis": {
            "backgroundcolor": "#E5ECF6",
            "gridcolor": "white",
            "gridwidth": 2,
            "linecolor": "white",
            "showbackground": true,
            "ticks": "",
            "zerolinecolor": "white"
           },
           "yaxis": {
            "backgroundcolor": "#E5ECF6",
            "gridcolor": "white",
            "gridwidth": 2,
            "linecolor": "white",
            "showbackground": true,
            "ticks": "",
            "zerolinecolor": "white"
           },
           "zaxis": {
            "backgroundcolor": "#E5ECF6",
            "gridcolor": "white",
            "gridwidth": 2,
            "linecolor": "white",
            "showbackground": true,
            "ticks": "",
            "zerolinecolor": "white"
           }
          },
          "shapedefaults": {
           "line": {
            "color": "#2a3f5f"
           }
          },
          "ternary": {
           "aaxis": {
            "gridcolor": "white",
            "linecolor": "white",
            "ticks": ""
           },
           "baxis": {
            "gridcolor": "white",
            "linecolor": "white",
            "ticks": ""
           },
           "bgcolor": "#E5ECF6",
           "caxis": {
            "gridcolor": "white",
            "linecolor": "white",
            "ticks": ""
           }
          },
          "title": {
           "x": 0.05
          },
          "xaxis": {
           "automargin": true,
           "gridcolor": "white",
           "linecolor": "white",
           "ticks": "",
           "title": {
            "standoff": 15
           },
           "zerolinecolor": "white",
           "zerolinewidth": 2
          },
          "yaxis": {
           "automargin": true,
           "gridcolor": "white",
           "linecolor": "white",
           "ticks": "",
           "title": {
            "standoff": 15
           },
           "zerolinecolor": "white",
           "zerolinewidth": 2
          }
         }
        },
        "title": {
         "font": {
          "size": 16
         },
         "text": "Rete delle Interazioni IoT<br><sub>Componenti connesse: 1<br>Componente più grande: 60 nodi</sub>"
        },
        "xaxis": {
         "showgrid": false,
         "showticklabels": false,
         "zeroline": false
        },
        "yaxis": {
         "showgrid": false,
         "showticklabels": false,
         "zeroline": false
        }
       }
      }
     },
     "metadata": {},
     "output_type": "display_data"
    },
    {
     "name": "stdout",
     "output_type": "stream",
     "text": [
      "\n",
      "======================================================================\n",
      "📋 REPORT RIASSUNTIVO ANALISI INTERAZIONI IoT\n",
      "======================================================================\n",
      "\n",
      "🔍 STATISTICHE GENERALI:\n",
      "   • Rilevazioni totali: 1,788\n",
      "   • Dispositivi unici: 60\n",
      "   • Durata evento: 0.3 ore\n",
      "   • Media rilevazioni/ora: 6089.6\n",
      "\n",
      "🤝 INTERAZIONI:\n",
      "   • Interazioni totali: 186\n",
      "   • Durata media: 20.9 secondi\n",
      "   • Interazione più lunga: 87.3 secondi\n",
      "   • Tempo totale di interazione: 64.7 minuti\n",
      "\n",
      "🕸️ RETE SOCIALE:\n",
      "   • Nodi: 60, Archi: 135\n",
      "   • Densità rete: 0.076\n",
      "   • Clustering medio: 0.452\n",
      "   • Componenti connesse: 1\n",
      "   • Diametro: 8\n",
      "   • Lunghezza media percorso: 3.68\n",
      "   • Comunità rilevate: 8\n",
      "\n",
      "🏆 TOP DISPOSITIVI:\n",
      "   1. 66fffc05-4e9... - 8 contatti, 219s di interazione\n",
      "   2. 548dcd41-c18... - 8 contatti, 218s di interazione\n",
      "   3. 65472b6f-188... - 7 contatti, 340s di interazione\n",
      "🔗 Analisi dettagliata della connettività...\n",
      "   📊 Componenti connesse: 1\n",
      "   🕸️ Densità componente 1: 0.076\n",
      "\n",
      "======================================================================\n"
     ]
    }
   ],
   "source": [
    "analyzer = analyze_iot_data(df)\n",
    "\n",
    "interactions = analyzer.interactions_df\n",
    "device_stats = analyzer.device_stats_df\n",
    "network_metrics = analyzer.network_metrics\n",
    "communities = analyzer.communities"
   ]
  },
  {
   "cell_type": "code",
   "execution_count": null,
   "id": "385559b5",
   "metadata": {},
   "outputs": [],
   "source": []
  }
 ],
 "metadata": {
  "kernelspec": {
   "display_name": "env",
   "language": "python",
   "name": "python3"
  },
  "language_info": {
   "codemirror_mode": {
    "name": "ipython",
    "version": 3
   },
   "file_extension": ".py",
   "mimetype": "text/x-python",
   "name": "python",
   "nbconvert_exporter": "python",
   "pygments_lexer": "ipython3",
   "version": "3.10.12"
  }
 },
 "nbformat": 4,
 "nbformat_minor": 5
}
